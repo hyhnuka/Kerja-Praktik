{
 "cells": [
  {
   "cell_type": "code",
   "execution_count": 1,
   "id": "03991faa",
   "metadata": {},
   "outputs": [
    {
     "name": "stderr",
     "output_type": "stream",
     "text": [
      "c:\\Users\\Liza\\anaconda3\\envs\\KPLiza\\Lib\\site-packages\\tqdm\\auto.py:21: TqdmWarning: IProgress not found. Please update jupyter and ipywidgets. See https://ipywidgets.readthedocs.io/en/stable/user_install.html\n",
      "  from .autonotebook import tqdm as notebook_tqdm\n"
     ]
    }
   ],
   "source": [
    "from umap import UMAP\n",
    "from hdbscan import HDBSCAN\n",
    "from sentence_transformers import SentenceTransformer\n",
    "from sklearn.feature_extraction.text import CountVectorizer\n",
    "\n",
    "from bertopic import BERTopic\n",
    "from bertopic.representation import KeyBERTInspired\n",
    "from bertopic.representation import MaximalMarginalRelevance\n",
    "from bertopic.vectorizers import ClassTfidfTransformer\n",
    "\n",
    "\n",
    "from sklearn.feature_extraction.text import CountVectorizer\n",
    "from Sastrawi.StopWordRemover.StopWordRemoverFactory import StopWordRemoverFactory\n",
    "from sentence_transformers import SentenceTransformer\n",
    "\n",
    "\n",
    "import pandas as pd\n",
    "from sklearn.feature_extraction.text import CountVectorizer\n",
    "\n",
    "from gensim.corpora import Dictionary\n",
    "from gensim.models import CoherenceModel\n",
    "import numpy as np"
   ]
  },
  {
   "cell_type": "code",
   "execution_count": 2,
   "id": "80f0cfdb",
   "metadata": {},
   "outputs": [
    {
     "name": "stdout",
     "output_type": "stream",
     "text": [
      "\n",
      "Teks Before:\n",
      "Q: Bagaimana cara berhenti menyalahkan diri sendiri atas semua hal? A: Mulailah memetakan fakta: apa yang benar-benar di bawah kendalimu dan apa yang tidak. Tanggung jawab realistis membuatmu bisa berkata, \"Ini porsiku, sisanya bukan,\" lalu lepaskan beban ekstra itu. Setelah itu beri dirimu afirmasi bahwa manusia wajar berbuat salah. Pendekatan ini sejalan dengan konsep self-compassion dari Kristin Neff.\n",
      "Teks After:\n",
      "q bagaimana cara henti salah diri sendiri atas semua a mulai meta fakta apa benar bawah kendali apa tanggung jawab realistis buat kata porsi sisa bukan lalu lepas beban ekstra beri diri afirmasi manusia wajar buat salah dekat jalan konsep self-compassion kristin neff\n",
      "\n",
      "Teks Before:\n",
      "Q: Kenapa, ya, aku jadi menjauh dari teman setelah melakukan kesalahan? A: Perasaan bersalah yang belum diproses menimbulkan kecemasan setiap kali bertemu mereka, sehingga otakmu memilih menghindar demi rasa aman semu. Akui kesalahanmu secara terbuka, sampaikan maaf yang tulus, lalu ajak mereka menyusun langkah perbaikan bersama agar koneksi pulih.\n",
      "Teks After:\n",
      "q aku jadi jauh teman laku salah a asa salah proses timbul cemas tiap kali temu otak pilih hindar rasa aman semu aku salah cara buka maaf tulus lalu ajak susun langkah baik sama koneksi pulih\n",
      "\n",
      "Teks Before:\n",
      "Q: Seperti apa contoh permintaan maaf yang efektif? A: Pertama, rangkum inti peristiwa: \"Aku sadar kemarin membatalkan janji tanpa kabar.\" Kedua, ucapkan maaf spesifik: \"Maaf sudah membuatmu menunggu.\" Ketiga, komitmen: \"Mulai sekarang aku akan selalu mengabari setidaknya sehari sebelumnya.\" Tambahkan tindakan nyata—misalnya menandai kalender bersama. Formula ini dipopulerkan Guy Winch.\n",
      "Teks After:\n",
      "q apa contoh minta maaf efektif a pertama rangkum inti peristiwa aku sadar kemarin batal janji kabar ucap maaf spesifik maaf buat tunggu tiga komitmen mulai sekarang aku selalu abar hari tambah tindak nyata misal tanda kalender sama formula populer guy winch\n",
      "\n",
      "Teks Before:\n",
      "Q: Kenapa aku perlu memaafkan diriku sebelum orang lain? A: Self-forgiveness memutus siklus rasa bersalah internal yang menyabotase kepercayaan dirimu. Setelah mengampuni diri, kamu lebih tenang sehingga permintaan maaf eksternal terdengar tulus. Robert Enright, pelopor terapi pengampunan, menekankan bahwa maaf pada diri sendiri meningkatkan regulasi emosi.\n",
      "Teks After:\n",
      "q aku perlu maaf diri orang a self-forgiveness putus siklus rasa salah internal sabotase percaya diri ampun diri kamu lebih tenang minta maaf eksternal dengar tulus robert enright pelopor terapi ampun tekan maaf diri sendiri tingkat regulasi emosi\n",
      "\n",
      "Teks Before:\n",
      "Q: Langkah pertama menata ulang hidup setelah kesalahan apa? A: Mulailah dari hal simpel: tidur cukup, rutinitas harian yang teratur, dan satu tujuan kecil yang bisa kamu capai minggu ini. Perubahan kecil memberi sinyal pada otak bahwa kamu bergerak maju, sehingga rasa bersalah makin mengecil.\n",
      "Teks After:\n",
      "q langkah pertama tata ulang hidup salah apa a mulai simpel tidur cukup rutinitas hari atur satu tuju kecil kamu capai minggu ubah kecil beri sinyal otak kamu gerak maju rasa salah makin kecil\n",
      "\n",
      "Teks Before:\n",
      "Q: Apa sebenarnya rumination itu? A: Rumination adalah kebiasaan \"mengunyah\" pikiran yang sama berulang-ulang sampai menimbulkan stres tambahan—seperti menonton ulang film sedih tanpa tombol berhenti. George Slavich menyebutnya cognitive looping yang menghambat informasi baru masuk.\n",
      "Teks After:\n",
      "q apa benar rumination a rumination biasa kunyah pikir sama ulang timbul stres tambah tonton ulang film sedih tombol henti george slavich sebut cognitive looping hambat informasi baru masuk\n",
      "\n",
      "Teks Before:\n",
      "Q: Mengapa memikirkannya terus malah bikin sedih makin berat? A: Setiap kali memori negatif diputar, jalur emosi di otak diaktifkan lagi; kortisol naik, mood merosot. Hentikan dengan teknik grounding—ajak pancaindra merasakan hal di sekitar agar jalur baru terbentuk.\n",
      "Teks After:\n",
      "q pikir terus malah bikin sedih makin berat a tiap kali memori negatif putar jalur emosi otak aktif kortisol naik mood merosot henti teknik grounding ajak pancaindra rasa jalur baru bentuk\n",
      "\n",
      "Teks Before:\n",
      "Q: Bagaimana caranya melihat masalah dari sudut pandang lain? A: Tulis masalah di kertas, lalu pura-pura kamu adalah sahabatmu yang memberi nasihat. Jarak psikologis kecil ini membantu prefrontal cortex menilai lebih objektif, demikian menurut Ethan Kross.\n",
      "Teks After:\n",
      "q bagaimana cara lihat masalah sudut pandang a tulis masalah kertas lalu pura kamu sahabat beri nasihat jarak psikologis kecil bantu prefrontal cortex nilai lebih objektif turut ethan kross\n",
      "\n",
      "Teks Before:\n",
      "Q: Apa itu memvalidasi pikiran sendiri? A: Cek data yang mendukung dan yang menolak keyakinanmu. Jika kalimat \"Aku pasti gagal\" tidak punya bukti kuat, ubah jadi versi lebih realistis. Latihan ini menyehatkan dialog internal.\n",
      "Teks After:\n",
      "q apa memvalidasi pikir sendiri a cek data dukung tolak yakin kalimat aku gagal punya bukti kuat ubah jadi versi lebih realistis latih sehat dialog internal\n",
      "\n",
      "Teks Before:\n",
      "Q: Apakah distraksi berarti lari dari masalah? A: Bukan. Distraksi adalah jeda terencana agar emosimu reda sebelum analisis rasional dilakukan—ibarat menepi saat rem mobil panas lalu berkendara lagi ketika aman.\n",
      "Teks After:\n",
      "q distraksi arti lari masalah a bukan distraksi jeda rencana emosi reda analisis rasional laku ibarat tepi rem mobil panas lalu kendara aman\n"
     ]
    }
   ],
   "source": [
    "from Sastrawi.Stemmer.StemmerFactory import StemmerFactory\n",
    "from Sastrawi.StopWordRemover.StopWordRemoverFactory import StopWordRemoverFactory\n",
    "import json\n",
    "from sklearn.feature_extraction.text import CountVectorizer\n",
    " \n",
    "texts = []\n",
    "with open(r\"C:\\Users\\Liza\\Documents\\emilia\\scoring\\data_7500.jsonl\", \"r\", encoding=\"utf-8\") as f:\n",
    "    for line in f:\n",
    "        data = json.loads(line)\n",
    "        q = data.get(\"question\", \"\")\n",
    "        a = data.get(\"answer\", \"\")\n",
    "        texts.append(f\"Q: {q} A: {a}\")\n",
    "\n",
    "#  Lowercase all text \n",
    "texts_lower = [text.lower() for text in texts]\n",
    "\n",
    "#  Stemming dengan Sastrawi \n",
    "stemmer = StemmerFactory().create_stemmer()\n",
    "stemmed_texts = [stemmer.stem(text) for text in texts_lower]\n",
    "\n",
    "#  Stopword removal \n",
    "stop_factory = StopWordRemoverFactory()\n",
    "stopwords_indonesia = stop_factory.get_stop_words()\n",
    "\n",
    "def remove_stopwords(text, stopwords):\n",
    "    return \" \".join([word for word in text.split() if word not in stopwords])\n",
    "\n",
    "final_clean_texts = [remove_stopwords(text, stopwords_indonesia) for text in stemmed_texts]\n",
    "\n",
    "for i in range(10):\n",
    "    print(f\"\\nTeks Before:\\n{texts[i]}\")\n",
    "    print(f\"Teks After:\\n{final_clean_texts[i]}\")\n"
   ]
  },
  {
   "cell_type": "code",
   "execution_count": 4,
   "id": "a83f22bf",
   "metadata": {},
   "outputs": [],
   "source": [
    "# ------- Fungsi Evaluasi --------\n",
    "def topic_words_from_model(topic_model, top_n=10):\n",
    "    \"\"\"Kembalikan dict: topic_id -> list[kata]\"\"\"\n",
    "    topic_words = {}\n",
    "    for topic_id in topic_model.get_topic_info().Topic:\n",
    "        if topic_id == -1:\n",
    "            continue\n",
    "        words = [w for w, _ in topic_model.get_topic(topic_id)[:top_n]]\n",
    "        topic_words[topic_id] = words\n",
    "    return topic_words\n",
    "\n",
    "def compute_topic_diversity(topic_words_dict):\n",
    "    \"\"\"Proporsi kata unik / total kata (semakin tinggi semakin beragam).\"\"\"\n",
    "    all_words = [w for words in topic_words_dict.values() for w in words]\n",
    "    if not all_words:\n",
    "        return 0.0\n",
    "    unique = len(set(all_words))\n",
    "    total = len(all_words)\n",
    "    return unique / total\n",
    "\n",
    "def compute_coherence_cv(topic_model, docs_tokenized, topic_words_dict):\n",
    "    \"\"\"Hitung coherence C_v pakai gensim\"\"\"\n",
    "    if not topic_words_dict:\n",
    "        return 0.0\n",
    "    dictionary = Dictionary(docs_tokenized)\n",
    "    corpus = [dictionary.doc2bow(tokens) for tokens in docs_tokenized]\n",
    "    topics = list(topic_words_dict.values())\n",
    "    cm = CoherenceModel(\n",
    "        topics=topics,\n",
    "        texts=docs_tokenized,\n",
    "        dictionary=dictionary,\n",
    "        corpus=corpus,\n",
    "        coherence='c_v'\n",
    "    )\n",
    "    return cm.get_coherence()\n"
   ]
  },
  {
   "cell_type": "code",
   "execution_count": null,
   "id": "3efcc84a",
   "metadata": {},
   "outputs": [],
   "source": [
    "# Model embedding\n",
    "\n",
    "embedding_model = SentenceTransformer(\"paraphrase-multilingual-MiniLM-L12-v2\") \n",
    "# embedding_model = SentenceTransformer(\"all-MiniLM-L6-v2\") \n",
    "# embedding_model = SentenceTransformer(\"cahya/bert-base-indonesian-522M\")  \n",
    "# embedding_model = SentenceTransformer(\"asaduas/all-MiniLM-L6-v2-indonesia-squadv2\")\n",
    "\n",
    "# model_name='cahya/bert-base-indonesian-522M'\n",
    "# tokenizer = BertTokenizer.from_pretrained(model_name)"
   ]
  },
  {
   "cell_type": "code",
   "execution_count": 27,
   "id": "627d4f8d",
   "metadata": {},
   "outputs": [],
   "source": [
    "# UMAP, Vectorizer, C-TF-IDF, Representation\n",
    "umap_model = UMAP(\n",
    "    n_neighbors=min(15, len(final_clean_texts)-1),  \n",
    "    n_components=min(5, len(final_clean_texts)-1),\n",
    "    min_dist=0.0,\n",
    "    metric='cosine',\n",
    "    random_state=45\n",
    ")\n",
    "\n",
    "vectorizer_model = CountVectorizer(stop_words=stopwords_indonesia)\n",
    "ctfidf_model = ClassTfidfTransformer()\n",
    "representation_model = KeyBERTInspired()\n"
   ]
  },
  {
   "cell_type": "code",
   "execution_count": null,
   "id": "88ab400f",
   "metadata": {},
   "outputs": [
    {
     "name": "stdout",
     "output_type": "stream",
     "text": [
      "\n",
      "=== Evaluasi untuk min_cluster_size=10 ===\n",
      "Jumlah Topik: 123\n",
      "Outliers: 2428\n",
      "Coherence C_v: 0.3551\n",
      "Diversity: 0.3073\n",
      "\n",
      "=== Evaluasi untuk min_cluster_size=15 ===\n",
      "Jumlah Topik: 92\n",
      "Outliers: 2695\n",
      "Coherence C_v: 0.361\n",
      "Diversity: 0.3304\n",
      "\n",
      "=== Evaluasi untuk min_cluster_size=20 ===\n",
      "Jumlah Topik: 66\n",
      "Outliers: 2564\n",
      "Coherence C_v: 0.3668\n",
      "Diversity: 0.3515\n",
      "\n",
      "=== Evaluasi untuk min_cluster_size=30 ===\n",
      "Jumlah Topik: 46\n",
      "Outliers: 2773\n",
      "Coherence C_v: 0.3797\n",
      "Diversity: 0.3935\n",
      "\n",
      "=== Evaluasi untuk min_cluster_size=50 ===\n",
      "Jumlah Topik: 26\n",
      "Outliers: 2868\n",
      "Coherence C_v: 0.377\n",
      "Diversity: 0.4385\n",
      "\n",
      "=== Semua hasil tersimpan ke CSV ===\n"
     ]
    }
   ],
   "source": [
    "## Percobaan pertama\n",
    "from hdbscan import HDBSCAN\n",
    "\n",
    "# min_cluster_size yang diuji\n",
    "cluster_sizes = [10, 15, 20, 30, 50]\n",
    "all_results = []\n",
    "\n",
    "for size in cluster_sizes:\n",
    "    print(f\"\\n=== Evaluasi untuk min_cluster_size={size} ===\")\n",
    "\n",
    "    # HDBSCAN \n",
    "    hdbscan_model = HDBSCAN(\n",
    "        min_cluster_size=size,\n",
    "        metric='euclidean',\n",
    "        prediction_data=True,\n",
    "        cluster_selection_method='eom'\n",
    "    )\n",
    "\n",
    "    # Pipeline BERTopic \n",
    "    topic_model = BERTopic(\n",
    "        embedding_model=embedding_model,\n",
    "        umap_model=umap_model,\n",
    "        hdbscan_model=hdbscan_model,\n",
    "        vectorizer_model=vectorizer_model,\n",
    "        ctfidf_model=ctfidf_model,\n",
    "        representation_model=representation_model,\n",
    "        language=\"indonesian\"  \n",
    "    )\n",
    "\n",
    "    # Fit-transform\n",
    "    topics, probs = topic_model.fit_transform(final_clean_texts)\n",
    "\n",
    "    # Tokenized docs\n",
    "    docs_tokenized = [doc.split() for doc in final_clean_texts]\n",
    "\n",
    "    # Ambil kata topik\n",
    "    topic_words = topic_words_from_model(topic_model, top_n=10)\n",
    "\n",
    "    # Evaluasi\n",
    "    diversity = compute_topic_diversity(topic_words)\n",
    "    coherence_cv = compute_coherence_cv(topic_model, docs_tokenized, topic_words)\n",
    "\n",
    "    # Info \n",
    "    info = topic_model.get_topic_info()\n",
    "    n_topics = len(info[info.Topic != -1])\n",
    "    n_outliers = int(info[info.Topic == -1].Count.values[0]) if -1 in info.Topic.values else 0\n",
    "\n",
    "    print(\"Jumlah Topik:\", n_topics)\n",
    "    print(\"Outliers:\", n_outliers)\n",
    "    print(\"Coherence C_v:\", round(coherence_cv, 4))\n",
    "    print(\"Diversity:\", round(diversity, 4))\n",
    "\n",
    "    all_results.append({\n",
    "        \"min_cluster_size\": size,\n",
    "        \"Jumlah_Topik\": n_topics,\n",
    "        \"Outliers\": n_outliers,\n",
    "        \"Coherence_Cv\": round(coherence_cv, 4),\n",
    "        \"Diversity\": round(diversity, 4)\n",
    "    })\n",
    "\n",
    "    df_docs = topic_model.get_document_info(final_clean_texts)\n",
    "    df_docs.to_csv(f\"Result7500_L12_Cluster{size}.csv\", index=False)\n",
    "\n",
    "\n",
    "print(\"\\n=== Semua hasil tersimpan ke CSV ===\")\n"
   ]
  },
  {
   "cell_type": "code",
   "execution_count": 10,
   "id": "bd7aa6ed",
   "metadata": {},
   "outputs": [
    {
     "name": "stdout",
     "output_type": "stream",
     "text": [
      "\n",
      "=== Evaluasi untuk min_cluster_size=21 ===\n",
      "Jumlah Topik: 60\n",
      "Outliers: 2446\n",
      "Coherence C_v: 0.3776\n",
      "Diversity: 0.34\n",
      "\n",
      "=== Evaluasi untuk min_cluster_size=22 ===\n",
      "Jumlah Topik: 59\n",
      "Outliers: 2470\n",
      "Coherence C_v: 0.376\n",
      "Diversity: 0.3458\n",
      "\n",
      "=== Evaluasi untuk min_cluster_size=23 ===\n",
      "Jumlah Topik: 59\n",
      "Outliers: 2697\n",
      "Coherence C_v: 0.3739\n",
      "Diversity: 0.3441\n",
      "\n",
      "=== Evaluasi untuk min_cluster_size=24 ===\n",
      "Jumlah Topik: 60\n",
      "Outliers: 2860\n",
      "Coherence C_v: 0.3746\n",
      "Diversity: 0.36\n",
      "\n",
      "=== Evaluasi untuk min_cluster_size=25 ===\n",
      "Jumlah Topik: 55\n",
      "Outliers: 2454\n",
      "Coherence C_v: 0.38\n",
      "Diversity: 0.3691\n",
      "\n",
      "=== Semua hasil tersimpan ke CSV ===\n"
     ]
    }
   ],
   "source": [
    "## Percobaan kedua\n",
    "from hdbscan import HDBSCAN\n",
    "\n",
    "# min_cluster_size yang diuji\n",
    "cluster_sizes = [21, 22, 23, 24, 25]\n",
    "all_results = []\n",
    "\n",
    "for size in cluster_sizes:\n",
    "    print(f\"\\n=== Evaluasi untuk min_cluster_size={size} ===\")\n",
    "\n",
    "    # HDBSCAN \n",
    "    hdbscan_model = HDBSCAN(\n",
    "        min_cluster_size=size,\n",
    "        metric='euclidean',\n",
    "        prediction_data=True,\n",
    "        cluster_selection_method='eom'\n",
    "    )\n",
    "\n",
    "    # Pipeline BERTopic \n",
    "    topic_model = BERTopic(\n",
    "        embedding_model=embedding_model,\n",
    "        umap_model=umap_model,\n",
    "        hdbscan_model=hdbscan_model,\n",
    "        vectorizer_model=vectorizer_model,\n",
    "        ctfidf_model=ctfidf_model,\n",
    "        representation_model=representation_model,\n",
    "        language=\"indonesian\"  \n",
    "    )\n",
    "\n",
    "    # Fit-transform\n",
    "    topics, probs = topic_model.fit_transform(final_clean_texts)\n",
    "\n",
    "    # Tokenized docs\n",
    "    docs_tokenized = [doc.split() for doc in final_clean_texts]\n",
    "\n",
    "    # Ambil kata topik\n",
    "    topic_words = topic_words_from_model(topic_model, top_n=10)\n",
    "\n",
    "    # Evaluasi\n",
    "    diversity = compute_topic_diversity(topic_words)\n",
    "    coherence_cv = compute_coherence_cv(topic_model, docs_tokenized, topic_words)\n",
    "\n",
    "    # Info \n",
    "    info = topic_model.get_topic_info()\n",
    "    n_topics = len(info[info.Topic != -1])\n",
    "    n_outliers = int(info[info.Topic == -1].Count.values[0]) if -1 in info.Topic.values else 0\n",
    "\n",
    "    print(\"Jumlah Topik:\", n_topics)\n",
    "    print(\"Outliers:\", n_outliers)\n",
    "    print(\"Coherence C_v:\", round(coherence_cv, 4))\n",
    "    print(\"Diversity:\", round(diversity, 4))\n",
    "\n",
    "    all_results.append({\n",
    "        \"min_cluster_size\": size,\n",
    "        \"Jumlah_Topik\": n_topics,\n",
    "        \"Outliers\": n_outliers,\n",
    "        \"Coherence_Cv\": round(coherence_cv, 4),\n",
    "        \"Diversity\": round(diversity, 4)\n",
    "    })\n",
    "\n",
    "    df_docs = topic_model.get_document_info(final_clean_texts)\n",
    "    df_docs.to_csv(f\"Result7500_L12_Cluster{size}.csv\", index=False)\n",
    "\n",
    "\n",
    "print(\"\\n=== Semua hasil tersimpan ke CSV ===\")\n"
   ]
  },
  {
   "cell_type": "markdown",
   "id": "11a7b614",
   "metadata": {},
   "source": [
    "yang dipake \n",
    "```\n",
    "=== Evaluasi untuk min_cluster_size=25 ===\n",
    "Jumlah Topik: 55\n",
    "Outliers: 2454\n",
    "Coherence C_v: 0.38\n",
    "Diversity: 0.3691\n",
    "```"
   ]
  },
  {
   "cell_type": "markdown",
   "id": "5e48fffe",
   "metadata": {},
   "source": [
    "## Nanganin outlier 05/10"
   ]
  },
  {
   "cell_type": "code",
   "execution_count": null,
   "id": "9b2997d1",
   "metadata": {},
   "outputs": [
    {
     "name": "stdout",
     "output_type": "stream",
     "text": [
      "\n",
      "=== Evaluasi untuk min_cluster_size=21 ===\n",
      "Jumlah Topik: 78\n",
      "Outliers: 1974\n",
      "Coherence C_v: 0.3794\n",
      "Diversity: 0.3423\n",
      "\n",
      "=== Evaluasi untuk min_cluster_size=22 ===\n",
      "Jumlah Topik: 77\n",
      "Outliers: 1995\n",
      "Coherence C_v: 0.3708\n",
      "Diversity: 0.3416\n",
      "\n",
      "=== Evaluasi untuk min_cluster_size=23 ===\n",
      "Jumlah Topik: 74\n",
      "Outliers: 1942\n",
      "Coherence C_v: 0.3769\n",
      "Diversity: 0.3392\n",
      "\n",
      "=== Evaluasi untuk min_cluster_size=24 ===\n",
      "Jumlah Topik: 73\n",
      "Outliers: 1965\n",
      "Coherence C_v: 0.3775\n",
      "Diversity: 0.3397\n",
      "\n",
      "=== Evaluasi untuk min_cluster_size=25 ===\n",
      "Jumlah Topik: 70\n",
      "Outliers: 1871\n",
      "Coherence C_v: 0.3721\n",
      "Diversity: 0.3329\n",
      "\n",
      "=== Semua hasil tersimpan ke CSV ===\n"
     ]
    }
   ],
   "source": [
    "  ## Percobaan kedua\n",
    "from hdbscan import HDBSCAN\n",
    "\n",
    "# min_cluster_size yang diuji\n",
    "cluster_sizes = [21, 22, 23, 24, 25]\n",
    "all_results = []\n",
    "\n",
    "for size in cluster_sizes:\n",
    "    print(f\"\\n=== Evaluasi untuk min_cluster_size={size} ===\")\n",
    "\n",
    "    # HDBSCAN \n",
    "    hdbscan_model = HDBSCAN(\n",
    "        min_cluster_size=size,\n",
    "        min_samples=5,\n",
    "        metric='euclidean',\n",
    "        prediction_data=True,\n",
    "        cluster_selection_method='eom'\n",
    "    )\n",
    "\n",
    "    # Pipeline BERTopic \n",
    "    topic_model = BERTopic(\n",
    "        embedding_model=embedding_model,\n",
    "        umap_model=umap_model,\n",
    "        hdbscan_model=hdbscan_model,\n",
    "        vectorizer_model=vectorizer_model,\n",
    "        ctfidf_model=ctfidf_model,\n",
    "        representation_model=representation_model,\n",
    "        language=\"indonesian\"  \n",
    "    )\n",
    "\n",
    "    # Fit-transform\n",
    "    topics, probs = topic_model.fit_transform(final_clean_texts)\n",
    "\n",
    "    # Tokenized docs\n",
    "    docs_tokenized = [doc.split() for doc in final_clean_texts]\n",
    "\n",
    "    topic_words = topic_words_from_model(topic_model, top_n=10)\n",
    "\n",
    "    # Evaluasi\n",
    "    diversity = compute_topic_diversity(topic_words)\n",
    "    coherence_cv = compute_coherence_cv(topic_model, docs_tokenized, topic_words)\n",
    "\n",
    "    info = topic_model.get_topic_info()\n",
    "    n_topics = len(info[info.Topic != -1])\n",
    "    n_outliers = int(info[info.Topic == -1].Count.values[0]) if -1 in info.Topic.values else 0\n",
    "\n",
    "    print(\"Jumlah Topik:\", n_topics)\n",
    "    print(\"Outliers:\", n_outliers)\n",
    "    print(\"Coherence C_v:\", round(coherence_cv, 4))\n",
    "    print(\"Diversity:\", round(diversity, 4))\n",
    "\n",
    "    all_results.append({\n",
    "        \"min_cluster_size\": size,\n",
    "        \"Jumlah_Topik\": n_topics,\n",
    "        \"Outliers\": n_outliers,\n",
    "        \"Coherence_Cv\": round(coherence_cv, 4),\n",
    "        \"Diversity\": round(diversity, 4)\n",
    "    })\n",
    "\n",
    "    df_docs = topic_model.get_document_info(final_clean_texts)\n",
    "    df_docs.to_csv(f\"Result7500_L12_Cluster{size}.csv\", index=False)\n",
    "\n",
    "\n",
    "print(\"\\n=== Semua hasil tersimpan ke CSV ===\")\n"
   ]
  },
  {
   "cell_type": "markdown",
   "id": "1769cfd6",
   "metadata": {},
   "source": [
    "Best result\n",
    "```\n",
    "=== Evaluasi untuk min_cluster_size=25 ===\n",
    "Jumlah Topik: 70\n",
    "Outliers: 1871\n",
    "Coherence C_v: 0.3721\n",
    "Diversity: 0.3329\n",
    "```"
   ]
  },
  {
   "cell_type": "markdown",
   "id": "addc4412",
   "metadata": {},
   "source": [
    "## Hyperparameter Tuning"
   ]
  },
  {
   "cell_type": "code",
   "execution_count": null,
   "id": "6c99ee7e",
   "metadata": {},
   "outputs": [
    {
     "name": "stderr",
     "output_type": "stream",
     "text": [
      "[I 2025-10-29 06:00:57,806] A new study created in memory with name: no-name-bd127441-ef18-496c-9649-09d58f995fe1\n",
      "[I 2025-10-29 06:04:41,665] Trial 0 finished with value: 0.33947717808065725 and parameters: {'n_neighbors': 15, 'n_components': 8, 'min_dist': 0.07348545813342935, 'min_cluster_size': 17, 'min_samples': 1}. Best is trial 0 with value: 0.33947717808065725.\n"
     ]
    },
    {
     "name": "stdout",
     "output_type": "stream",
     "text": [
      "[Trial 0] Topics=109, Outliers=2103, Coherence=0.3603, Diversity=0.2908\n"
     ]
    },
    {
     "name": "stderr",
     "output_type": "stream",
     "text": [
      "[I 2025-10-29 06:07:39,626] Trial 1 finished with value: 0.3691462731756747 and parameters: {'n_neighbors': 14, 'n_components': 3, 'min_dist': 0.15989159475593304, 'min_cluster_size': 25, 'min_samples': 3}. Best is trial 1 with value: 0.3691462731756747.\n"
     ]
    },
    {
     "name": "stdout",
     "output_type": "stream",
     "text": [
      "[Trial 1] Topics=65, Outliers=1930, Coherence=0.3823, Diversity=0.3385\n"
     ]
    },
    {
     "name": "stderr",
     "output_type": "stream",
     "text": [
      "[I 2025-10-29 06:10:34,168] Trial 2 finished with value: 0.3716504725659294 and parameters: {'n_neighbors': 12, 'n_components': 6, 'min_dist': 0.19852354376375483, 'min_cluster_size': 20, 'min_samples': 6}. Best is trial 2 with value: 0.3716504725659294.\n"
     ]
    },
    {
     "name": "stdout",
     "output_type": "stream",
     "text": [
      "[Trial 2] Topics=68, Outliers=3178, Coherence=0.3860, Diversity=0.3382\n"
     ]
    },
    {
     "name": "stderr",
     "output_type": "stream",
     "text": [
      "[I 2025-10-29 06:13:33,755] Trial 3 finished with value: 0.35961174668007045 and parameters: {'n_neighbors': 15, 'n_components': 7, 'min_dist': 0.2244603701624922, 'min_cluster_size': 20, 'min_samples': 4}. Best is trial 2 with value: 0.3716504725659294.\n"
     ]
    },
    {
     "name": "stdout",
     "output_type": "stream",
     "text": [
      "[Trial 3] Topics=69, Outliers=3059, Coherence=0.3684, Diversity=0.3391\n"
     ]
    },
    {
     "name": "stderr",
     "output_type": "stream",
     "text": [
      "[I 2025-10-29 06:16:35,555] Trial 4 finished with value: 0.35257120726269453 and parameters: {'n_neighbors': 24, 'n_components': 2, 'min_dist': 0.20283925996105204, 'min_cluster_size': 29, 'min_samples': 4}. Best is trial 2 with value: 0.3716504725659294.\n"
     ]
    },
    {
     "name": "stdout",
     "output_type": "stream",
     "text": [
      "[Trial 4] Topics=73, Outliers=2200, Coherence=0.3716, Diversity=0.3082\n"
     ]
    },
    {
     "name": "stderr",
     "output_type": "stream",
     "text": [
      "[I 2025-10-29 06:19:31,856] Trial 5 finished with value: 0.3721375053174637 and parameters: {'n_neighbors': 8, 'n_components': 5, 'min_dist': 0.25041688151794783, 'min_cluster_size': 27, 'min_samples': 10}. Best is trial 5 with value: 0.3721375053174637.\n"
     ]
    },
    {
     "name": "stdout",
     "output_type": "stream",
     "text": [
      "[Trial 5] Topics=46, Outliers=3056, Coherence=0.3695, Diversity=0.3783\n"
     ]
    },
    {
     "name": "stderr",
     "output_type": "stream",
     "text": [
      "[I 2025-10-29 06:22:26,749] Trial 6 finished with value: 0.38647779200651244 and parameters: {'n_neighbors': 11, 'n_components': 8, 'min_dist': 0.17642388424888342, 'min_cluster_size': 27, 'min_samples': 5}. Best is trial 6 with value: 0.38647779200651244.\n"
     ]
    },
    {
     "name": "stdout",
     "output_type": "stream",
     "text": [
      "[Trial 6] Topics=54, Outliers=2659, Coherence=0.3831, Diversity=0.3944\n"
     ]
    },
    {
     "name": "stderr",
     "output_type": "stream",
     "text": [
      "[I 2025-10-29 06:25:20,656] Trial 7 finished with value: 0.35206670683181585 and parameters: {'n_neighbors': 8, 'n_components': 6, 'min_dist': 0.18830898711273222, 'min_cluster_size': 21, 'min_samples': 6}. Best is trial 6 with value: 0.38647779200651244.\n"
     ]
    },
    {
     "name": "stdout",
     "output_type": "stream",
     "text": [
      "[Trial 7] Topics=70, Outliers=2598, Coherence=0.3658, Diversity=0.3200\n"
     ]
    },
    {
     "name": "stderr",
     "output_type": "stream",
     "text": [
      "[I 2025-10-29 06:28:15,166] Trial 8 finished with value: 0.39148490144588083 and parameters: {'n_neighbors': 11, 'n_components': 6, 'min_dist': 0.17529880398384404, 'min_cluster_size': 28, 'min_samples': 7}. Best is trial 8 with value: 0.39148490144588083.\n"
     ]
    },
    {
     "name": "stdout",
     "output_type": "stream",
     "text": [
      "[Trial 8] Topics=50, Outliers=2666, Coherence=0.4015, Diversity=0.3680\n"
     ]
    },
    {
     "name": "stderr",
     "output_type": "stream",
     "text": [
      "[I 2025-10-29 06:31:38,755] Trial 9 finished with value: 0.3499924834914495 and parameters: {'n_neighbors': 14, 'n_components': 4, 'min_dist': 0.1534042958054172, 'min_cluster_size': 22, 'min_samples': 3}. Best is trial 8 with value: 0.39148490144588083.\n"
     ]
    },
    {
     "name": "stdout",
     "output_type": "stream",
     "text": [
      "[Trial 9] Topics=82, Outliers=2659, Coherence=0.3604, Diversity=0.3256\n"
     ]
    },
    {
     "name": "stderr",
     "output_type": "stream",
     "text": [
      "[I 2025-10-29 06:34:58,731] Trial 10 finished with value: 0.3680097665187061 and parameters: {'n_neighbors': 24, 'n_components': 5, 'min_dist': 0.007691518503030043, 'min_cluster_size': 30, 'min_samples': 9}. Best is trial 8 with value: 0.39148490144588083.\n"
     ]
    },
    {
     "name": "stdout",
     "output_type": "stream",
     "text": [
      "[Trial 10] Topics=50, Outliers=2501, Coherence=0.3663, Diversity=0.3720\n"
     ]
    },
    {
     "name": "stderr",
     "output_type": "stream",
     "text": [
      "[I 2025-10-29 06:37:49,817] Trial 11 finished with value: 0.36012643684892165 and parameters: {'n_neighbors': 5, 'n_components': 8, 'min_dist': 0.10408927463071463, 'min_cluster_size': 25, 'min_samples': 8}. Best is trial 8 with value: 0.39148490144588083.\n"
     ]
    },
    {
     "name": "stdout",
     "output_type": "stream",
     "text": [
      "[Trial 11] Topics=67, Outliers=2082, Coherence=0.3757, Diversity=0.3239\n"
     ]
    },
    {
     "name": "stderr",
     "output_type": "stream",
     "text": [
      "[I 2025-10-29 06:40:47,403] Trial 12 finished with value: 0.386175828943079 and parameters: {'n_neighbors': 19, 'n_components': 7, 'min_dist': 0.29064189885678404, 'min_cluster_size': 27, 'min_samples': 7}. Best is trial 8 with value: 0.39148490144588083.\n"
     ]
    },
    {
     "name": "stdout",
     "output_type": "stream",
     "text": [
      "[Trial 12] Topics=45, Outliers=3350, Coherence=0.3679, Diversity=0.4289\n"
     ]
    },
    {
     "name": "stderr",
     "output_type": "stream",
     "text": [
      "[I 2025-10-29 06:43:41,073] Trial 13 finished with value: 0.35754885051885477 and parameters: {'n_neighbors': 10, 'n_components': 7, 'min_dist': 0.10510847686016346, 'min_cluster_size': 26, 'min_samples': 5}. Best is trial 8 with value: 0.39148490144588083.\n"
     ]
    },
    {
     "name": "stdout",
     "output_type": "stream",
     "text": [
      "[Trial 13] Topics=60, Outliers=2244, Coherence=0.3694, Diversity=0.3300\n"
     ]
    },
    {
     "name": "stderr",
     "output_type": "stream",
     "text": [
      "[I 2025-10-29 06:46:36,626] Trial 14 finished with value: 0.3761760828238428 and parameters: {'n_neighbors': 19, 'n_components': 6, 'min_dist': 0.11859481821387495, 'min_cluster_size': 29, 'min_samples': 8}. Best is trial 8 with value: 0.39148490144588083.\n"
     ]
    },
    {
     "name": "stdout",
     "output_type": "stream",
     "text": [
      "[Trial 14] Topics=49, Outliers=2899, Coherence=0.3747, Diversity=0.3796\n"
     ]
    },
    {
     "name": "stderr",
     "output_type": "stream",
     "text": [
      "[I 2025-10-29 06:49:32,741] Trial 15 finished with value: 0.36486943613257755 and parameters: {'n_neighbors': 18, 'n_components': 8, 'min_dist': 0.2645683002460336, 'min_cluster_size': 24, 'min_samples': 7}. Best is trial 8 with value: 0.39148490144588083.\n"
     ]
    },
    {
     "name": "stdout",
     "output_type": "stream",
     "text": [
      "[Trial 15] Topics=51, Outliers=3342, Coherence=0.3767, Diversity=0.3373\n"
     ]
    },
    {
     "name": "stderr",
     "output_type": "stream",
     "text": [
      "[I 2025-10-29 06:52:26,988] Trial 16 finished with value: 0.3347687075106635 and parameters: {'n_neighbors': 11, 'n_components': 4, 'min_dist': 0.043521957577492526, 'min_cluster_size': 15, 'min_samples': 5}. Best is trial 8 with value: 0.39148490144588083.\n"
     ]
    },
    {
     "name": "stdout",
     "output_type": "stream",
     "text": [
      "[Trial 16] Topics=119, Outliers=1983, Coherence=0.3580, Diversity=0.2807\n"
     ]
    },
    {
     "name": "stderr",
     "output_type": "stream",
     "text": [
      "[I 2025-10-29 06:55:17,718] Trial 17 finished with value: 0.3589834334459044 and parameters: {'n_neighbors': 6, 'n_components': 7, 'min_dist': 0.1655945470232248, 'min_cluster_size': 28, 'min_samples': 2}. Best is trial 8 with value: 0.39148490144588083.\n"
     ]
    },
    {
     "name": "stdout",
     "output_type": "stream",
     "text": [
      "[Trial 17] Topics=72, Outliers=1973, Coherence=0.3819, Diversity=0.3056\n"
     ]
    },
    {
     "name": "stderr",
     "output_type": "stream",
     "text": [
      "[I 2025-10-29 06:58:09,952] Trial 18 finished with value: 0.3655450198140838 and parameters: {'n_neighbors': 9, 'n_components': 5, 'min_dist': 0.13061553104867052, 'min_cluster_size': 23, 'min_samples': 7}. Best is trial 8 with value: 0.39148490144588083.\n"
     ]
    },
    {
     "name": "stdout",
     "output_type": "stream",
     "text": [
      "[Trial 18] Topics=67, Outliers=2342, Coherence=0.3751, Diversity=0.3433\n"
     ]
    },
    {
     "name": "stderr",
     "output_type": "stream",
     "text": [
      "[I 2025-10-29 07:01:04,559] Trial 19 finished with value: 0.38209842529063587 and parameters: {'n_neighbors': 12, 'n_components': 8, 'min_dist': 0.21827599335141754, 'min_cluster_size': 30, 'min_samples': 10}. Best is trial 8 with value: 0.39148490144588083.\n"
     ]
    },
    {
     "name": "stdout",
     "output_type": "stream",
     "text": [
      "[Trial 19] Topics=44, Outliers=3164, Coherence=0.3744, Diversity=0.4000\n",
      "\n",
      "=== Hasil Terbaik ===\n",
      "    Trial  n_neighbors  n_components  min_dist  min_cluster_size  min_samples  \\\n",
      "8       8           11             6  0.175299                28            7   \n",
      "6       6           11             8  0.176424                27            5   \n",
      "12     12           19             7  0.290642                27            7   \n",
      "19     19           12             8  0.218276                30           10   \n",
      "14     14           19             6  0.118595                29            8   \n",
      "\n",
      "    Jumlah_Topik  Outliers  Coherence_Cv  Diversity   Score  \n",
      "8             50      2666        0.4015     0.3680  0.3915  \n",
      "6             54      2659        0.3831     0.3944  0.3865  \n",
      "12            45      3350        0.3679     0.4289  0.3862  \n",
      "19            44      3164        0.3744     0.4000  0.3821  \n",
      "14            49      2899        0.3747     0.3796  0.3762  \n",
      "\n",
      "Best Parameters: {'n_neighbors': 11, 'n_components': 6, 'min_dist': 0.17529880398384404, 'min_cluster_size': 28, 'min_samples': 7}\n",
      "Best Score: 0.39148490144588083\n"
     ]
    }
   ],
   "source": [
    "import optuna\n",
    "import pandas as pd\n",
    "from bertopic import BERTopic\n",
    "from hdbscan import HDBSCAN\n",
    "from umap import UMAP\n",
    "from sklearn.feature_extraction.text import CountVectorizer\n",
    "\n",
    "trial_results = []\n",
    "\n",
    "def objective(trial):\n",
    "    \n",
    "    n_neighbors = trial.suggest_int(\"n_neighbors\", 5, 25)\n",
    "    n_components = trial.suggest_int(\"n_components\", 2, 8)\n",
    "    min_dist = trial.suggest_float(\"min_dist\", 0.0, 0.3)\n",
    "    min_cluster_size = trial.suggest_int(\"min_cluster_size\", 15, 30)\n",
    "    min_samples = trial.suggest_int(\"min_samples\", 1, 10)   \n",
    "\n",
    "\n",
    "    umap_model = UMAP(\n",
    "        n_neighbors=min(n_neighbors, len(final_clean_texts)-1),\n",
    "        n_components=min(n_components, len(final_clean_texts)-1),\n",
    "        min_dist=min_dist,\n",
    "        metric='cosine',\n",
    "        random_state=42\n",
    "    )\n",
    "\n",
    "  \n",
    "    hdbscan_model = HDBSCAN(\n",
    "        min_cluster_size=min_cluster_size,\n",
    "        min_samples=min_samples,\n",
    "        metric='euclidean',\n",
    "        prediction_data=True,\n",
    "        cluster_selection_method='eom'\n",
    "    )\n",
    "\n",
    "   \n",
    "    vectorizer_model = CountVectorizer(stop_words=stopwords_indonesia)\n",
    "    ctfidf_model = ClassTfidfTransformer()\n",
    "    representation_model = KeyBERTInspired()\n",
    "\n",
    "    topic_model = BERTopic(\n",
    "        embedding_model=embedding_model,\n",
    "        umap_model=umap_model,\n",
    "        hdbscan_model=hdbscan_model,\n",
    "        vectorizer_model=vectorizer_model,\n",
    "        ctfidf_model=ctfidf_model,\n",
    "        representation_model=representation_model,\n",
    "        language=\"indonesian\"\n",
    "    )\n",
    "\n",
    " \n",
    "    topics, probs = topic_model.fit_transform(final_clean_texts)\n",
    "    docs_tokenized = [doc.split() for doc in final_clean_texts]\n",
    "    topic_words = topic_words_from_model(topic_model, top_n=10)\n",
    "\n",
    "    coherence_cv = compute_coherence_cv(topic_model, docs_tokenized, topic_words)\n",
    "    diversity = compute_topic_diversity(topic_words)\n",
    "\n",
    "    info = topic_model.get_topic_info()\n",
    "    n_topics = len(info[info.Topic != -1])\n",
    "    n_outliers = int(info[info.Topic == -1].Count.values[0]) if -1 in info.Topic.values else 0\n",
    "\n",
    "  \n",
    "    trial_results.append({\n",
    "        \"Trial\": trial.number,\n",
    "        \"n_neighbors\": n_neighbors,\n",
    "        \"n_components\": n_components,\n",
    "        \"min_dist\": min_dist,\n",
    "        \"min_cluster_size\": min_cluster_size,\n",
    "        \"min_samples\": min_samples,\n",
    "        \"Jumlah_Topik\": n_topics,\n",
    "        \"Outliers\": n_outliers,\n",
    "        \"Coherence_Cv\": round(coherence_cv, 4),\n",
    "        \"Diversity\": round(diversity, 4),\n",
    "        \"Score\": round((0.7 * coherence_cv + 0.3 * diversity), 4)\n",
    "    })\n",
    "\n",
    "    print(f\"[Trial {trial.number}] Topics={n_topics}, Outliers={n_outliers}, \"\n",
    "          f\"Coherence={coherence_cv:.4f}, Diversity={diversity:.4f}\")\n",
    "\n",
    "    return 0.7 * coherence_cv + 0.3 * diversity\n",
    "\n",
    "\n",
    "\n",
    "study = optuna.create_study(direction=\"maximize\")\n",
    "study.optimize(objective, n_trials=20)\n",
    "\n",
    "\n",
    "df_trials = pd.DataFrame(trial_results).sort_values(by=\"Score\", ascending=False)\n",
    "df_trials.to_csv(\"BERTopic_Optuna_Tuning_Results.csv\", index=False)\n",
    "\n",
    "print(\"\\n=== Hasil Terbaik ===\")\n",
    "print(df_trials.head(5))\n",
    "print(\"\\nBest Parameters:\", study.best_params)\n",
    "print(\"Best Score:\", study.best_value)\n"
   ]
  },
  {
   "cell_type": "markdown",
   "id": "7bbea4e6",
   "metadata": {},
   "source": [
    "## Nyatuin QA dan hasil topik"
   ]
  },
  {
   "cell_type": "code",
   "execution_count": null,
   "id": "0be69650",
   "metadata": {},
   "outputs": [
    {
     "name": "stdout",
     "output_type": "stream",
     "text": [
      "Selesai!\n"
     ]
    }
   ],
   "source": [
    "# Nyatuin QA dan hasil topik\n",
    "import pandas as pd\n",
    "import json\n",
    "import csv\n",
    "\n",
    "df_topic = pd.read_csv(\"Result7500_L12_Cluster25.csv\")\n",
    "\n",
    "# Baca QA dari JSONL\n",
    "qa_list = []\n",
    "with open(r\"C:\\Users\\Liza\\Documents\\emilia\\scoring\\data_7500.jsonl\", \"r\", encoding=\"utf-8\") as f:\n",
    "    for line in f:\n",
    "        data = json.loads(line)\n",
    "        qa_list.append({\n",
    "            \"question\": data[\"question\"],\n",
    "            \"answer\": data[\"answer\"]\n",
    "        })\n",
    "\n",
    "df_qa = pd.DataFrame(qa_list)\n",
    "\n",
    "assert len(df_topic) == len(df_qa), \"Jumlah row CSV dan JSONL tidak sama!\"\n",
    "\n",
    "df_merged = pd.concat([df_qa, df_topic], axis=1)\n",
    "\n",
    "df_merged.to_csv(\n",
    "    \"new_KPL12_25_7500_70.csv\",\n",
    "    index=False,\n",
    "    sep=\";\",                \n",
    "    encoding=\"utf-8-sig\",\n",
    "    quoting=csv.QUOTE_ALL   \n",
    ")\n",
    "\n",
    "print(\"Selesai!\")\n"
   ]
  },
  {
   "cell_type": "markdown",
   "id": "16281533",
   "metadata": {},
   "source": [
    "## Misahin outlier"
   ]
  },
  {
   "cell_type": "code",
   "execution_count": 12,
   "id": "737359bc",
   "metadata": {},
   "outputs": [
    {
     "data": {
      "application/vnd.microsoft.datawrangler.viewer.v0+json": {
       "columns": [
        {
         "name": "index",
         "rawType": "int64",
         "type": "integer"
        },
        {
         "name": "question",
         "rawType": "object",
         "type": "string"
        },
        {
         "name": "answer",
         "rawType": "object",
         "type": "string"
        },
        {
         "name": "Document",
         "rawType": "object",
         "type": "string"
        },
        {
         "name": "Topic",
         "rawType": "int64",
         "type": "integer"
        },
        {
         "name": "Name",
         "rawType": "object",
         "type": "string"
        },
        {
         "name": "Representation",
         "rawType": "object",
         "type": "string"
        },
        {
         "name": "Representative_Docs",
         "rawType": "object",
         "type": "string"
        },
        {
         "name": "Top_n_words",
         "rawType": "object",
         "type": "string"
        },
        {
         "name": "Probability",
         "rawType": "float64",
         "type": "float"
        },
        {
         "name": "Representative_document",
         "rawType": "bool",
         "type": "boolean"
        }
       ],
       "ref": "c3cace4f-49ec-4da9-9b01-3b2f4222fff4",
       "rows": [
        [
         "0",
         "Bagaimana cara berhenti menyalahkan diri sendiri atas semua hal?",
         "Mulailah memetakan fakta: apa yang benar-benar di bawah kendalimu dan apa yang tidak. Tanggung jawab realistis membuatmu bisa berkata, \"Ini porsiku, sisanya bukan,\" lalu lepaskan beban ekstra itu. Setelah itu beri dirimu afirmasi bahwa manusia wajar berbuat salah. Pendekatan ini sejalan dengan konsep self-compassion dari Kristin Neff.",
         "q bagaimana cara henti salah diri sendiri atas semua a mulai meta fakta apa benar bawah kendali apa tanggung jawab realistis buat kata porsi sisa bukan lalu lepas beban ekstra beri diri afirmasi manusia wajar buat salah dekat jalan konsep self-compassion kristin neff",
         "-1",
         "-1_psikolog_ubah_diri_tenang",
         "['psikolog', 'ubah', 'diri', 'tenang', 'biar', 'bilang', 'kadang', 'sendiri', 'ngerasa', 'gimana']",
         "['q aku ngerasa dunia adil semua orang cuma mikirin diri sendiri bikin aku susah percaya sama orang normal sih gitu a asa kayak gitu wajar kok kalau kamu pernah kecewa punya alam bikin sulit percaya kalau terus rasa semua orang egois bikin kamu rasa makin sendiri coba pikir bareng sih orang hidup pernah nunjukin baik meski kecil mungkin mulai situ kamu pelan buka diri aku sini buat dengerin kalau kamu mau cerita lebih banyak', 'q aku ngerasa harga orang aku selalu fokus sama kurang gimana cara biar aku lebih positif a wah langkah besar kalau kamu sadar gitu coba mulai latih sederhana tiap hari cari satu positif orang meski kecil senyum cara bantu tulis buku catat kalau perlu lama kamu biasa lihat sisi baik orang mau coba mulai hari ceritain aku hasil', 'q aku suka sama diri sendiri apa aku ubah a sayang banget kamu rasa sama diri sendiri asa suka sama diri sendiri muncul tekan luar alam bikin kamu ragu coba mulai kecil tulis tiga kamu suka diri meski sederhana kalau asa sulit mungkin ngobrol sama orang bantu lihat sisi baik teman profesional bantu aku dukung kamu buat mulai suka diri kok']",
         "psikolog - ubah - diri - tenang - biar - bilang - kadang - sendiri - ngerasa - gimana",
         "0.0",
         "False"
        ],
        [
         "1",
         "Kenapa, ya, aku jadi menjauh dari teman setelah melakukan kesalahan?",
         "Perasaan bersalah yang belum diproses menimbulkan kecemasan setiap kali bertemu mereka, sehingga otakmu memilih menghindar demi rasa aman semu. Akui kesalahanmu secara terbuka, sampaikan maaf yang tulus, lalu ajak mereka menyusun langkah perbaikan bersama agar koneksi pulih.",
         "q aku jadi jauh teman laku salah a asa salah proses timbul cemas tiap kali temu otak pilih hindar rasa aman semu aku salah cara buka maaf tulus lalu ajak susun langkah baik sama koneksi pulih",
         "-1",
         "-1_psikolog_ubah_diri_tenang",
         "['psikolog', 'ubah', 'diri', 'tenang', 'biar', 'bilang', 'kadang', 'sendiri', 'ngerasa', 'gimana']",
         "['q aku ngerasa dunia adil semua orang cuma mikirin diri sendiri bikin aku susah percaya sama orang normal sih gitu a asa kayak gitu wajar kok kalau kamu pernah kecewa punya alam bikin sulit percaya kalau terus rasa semua orang egois bikin kamu rasa makin sendiri coba pikir bareng sih orang hidup pernah nunjukin baik meski kecil mungkin mulai situ kamu pelan buka diri aku sini buat dengerin kalau kamu mau cerita lebih banyak', 'q aku ngerasa harga orang aku selalu fokus sama kurang gimana cara biar aku lebih positif a wah langkah besar kalau kamu sadar gitu coba mulai latih sederhana tiap hari cari satu positif orang meski kecil senyum cara bantu tulis buku catat kalau perlu lama kamu biasa lihat sisi baik orang mau coba mulai hari ceritain aku hasil', 'q aku suka sama diri sendiri apa aku ubah a sayang banget kamu rasa sama diri sendiri asa suka sama diri sendiri muncul tekan luar alam bikin kamu ragu coba mulai kecil tulis tiga kamu suka diri meski sederhana kalau asa sulit mungkin ngobrol sama orang bantu lihat sisi baik teman profesional bantu aku dukung kamu buat mulai suka diri kok']",
         "psikolog - ubah - diri - tenang - biar - bilang - kadang - sendiri - ngerasa - gimana",
         "0.0",
         "False"
        ],
        [
         "2",
         "Seperti apa contoh permintaan maaf yang efektif?",
         "Pertama, rangkum inti peristiwa: \"Aku sadar kemarin membatalkan janji tanpa kabar.\" Kedua, ucapkan maaf spesifik: \"Maaf sudah membuatmu menunggu.\" Ketiga, komitmen: \"Mulai sekarang aku akan selalu mengabari setidaknya sehari sebelumnya.\" Tambahkan tindakan nyata—misalnya menandai kalender bersama. Formula ini dipopulerkan Guy Winch.",
         "q apa contoh minta maaf efektif a pertama rangkum inti peristiwa aku sadar kemarin batal janji kabar ucap maaf spesifik maaf buat tunggu tiga komitmen mulai sekarang aku selalu abar hari tambah tindak nyata misal tanda kalender sama formula populer guy winch",
         "-1",
         "-1_psikolog_ubah_diri_tenang",
         "['psikolog', 'ubah', 'diri', 'tenang', 'biar', 'bilang', 'kadang', 'sendiri', 'ngerasa', 'gimana']",
         "['q aku ngerasa dunia adil semua orang cuma mikirin diri sendiri bikin aku susah percaya sama orang normal sih gitu a asa kayak gitu wajar kok kalau kamu pernah kecewa punya alam bikin sulit percaya kalau terus rasa semua orang egois bikin kamu rasa makin sendiri coba pikir bareng sih orang hidup pernah nunjukin baik meski kecil mungkin mulai situ kamu pelan buka diri aku sini buat dengerin kalau kamu mau cerita lebih banyak', 'q aku ngerasa harga orang aku selalu fokus sama kurang gimana cara biar aku lebih positif a wah langkah besar kalau kamu sadar gitu coba mulai latih sederhana tiap hari cari satu positif orang meski kecil senyum cara bantu tulis buku catat kalau perlu lama kamu biasa lihat sisi baik orang mau coba mulai hari ceritain aku hasil', 'q aku suka sama diri sendiri apa aku ubah a sayang banget kamu rasa sama diri sendiri asa suka sama diri sendiri muncul tekan luar alam bikin kamu ragu coba mulai kecil tulis tiga kamu suka diri meski sederhana kalau asa sulit mungkin ngobrol sama orang bantu lihat sisi baik teman profesional bantu aku dukung kamu buat mulai suka diri kok']",
         "psikolog - ubah - diri - tenang - biar - bilang - kadang - sendiri - ngerasa - gimana",
         "0.0",
         "False"
        ],
        [
         "3",
         "Kenapa aku perlu memaafkan diriku sebelum orang lain?",
         "Self-forgiveness memutus siklus rasa bersalah internal yang menyabotase kepercayaan dirimu. Setelah mengampuni diri, kamu lebih tenang sehingga permintaan maaf eksternal terdengar tulus. Robert Enright, pelopor terapi pengampunan, menekankan bahwa maaf pada diri sendiri meningkatkan regulasi emosi.",
         "q aku perlu maaf diri orang a self-forgiveness putus siklus rasa salah internal sabotase percaya diri ampun diri kamu lebih tenang minta maaf eksternal dengar tulus robert enright pelopor terapi ampun tekan maaf diri sendiri tingkat regulasi emosi",
         "50",
         "50_suportif_minta_gimana_ngerasa",
         "['suportif', 'minta', 'gimana', 'ngerasa', 'buat', 'tulis', 'bantu', 'diri', 'ucap', 'coba']",
         "['q aku rasa salah banget atas udah jadi gimana cara ngatasin asa a rasa salah asa berat kayak beban hilang coba tanya diri sendiri apa bikin kamu rasa salah kamu laku baik minta maaf lakuin baik kecil kalau ubah coba tulis asa kertas lalu ingat diri kamu manusia salah ngobrol sama orang suportif bantu ringanin beban kamu layak maaf diri sendiri', 'q aku susah banget maafin diri sendiri atas salah masa lalu a maaf diri memang gampang coba tulis salah lalu tanya apa ajar aku jadi jembatan buat maaf diri lang maju', 'q aku rasa maaf diri sendiri atas salah pernah aku buat apa aku laku a maaf diri sendiri proses kamu layak coba tulis surat diri sendiri ceritain salah kata kamu sedang ajar ingat salah jadi manusia kamu hak bahagia']",
         "suportif - minta - gimana - ngerasa - buat - tulis - bantu - diri - ucap - coba",
         "1.0",
         "False"
        ],
        [
         "4",
         "Langkah pertama menata ulang hidup setelah kesalahan apa?",
         "Mulailah dari hal simpel: tidur cukup, rutinitas harian yang teratur, dan satu tujuan kecil yang bisa kamu capai minggu ini. Perubahan kecil memberi sinyal pada otak bahwa kamu bergerak maju, sehingga rasa bersalah makin mengecil.",
         "q langkah pertama tata ulang hidup salah apa a mulai simpel tidur cukup rutinitas hari atur satu tuju kecil kamu capai minggu ubah kecil beri sinyal otak kamu gerak maju rasa salah makin kecil",
         "5",
         "5_latih_susah_sulit_jangka",
         "['latih', 'susah', 'sulit', 'jangka', 'distraksi', 'tenang', 'laku', 'bagaimana', 'kadang', 'rutin']",
         "['q aku sering ngerasa otak penuh kalau ajar banyak gimana ngatasinnya a rasa penuh tanda otak butuh jeda coba atur jadwal ajar sesi pendek misal 25 menit ajar 5 menit istirahat teknik bikin otak lelah jangan lupa tidur cukup tidur bantu otak atur ulang informasi kalau asa berat coba pilih satu topik dulu bikin ringkas baru lanjut pelan aja perlu buru', 'q aku rasa otak lelet buat ingat ajar saran a ajar memang kadang asa berat kamu coba teknik ajar ulang ajar coba ulas materi beberapa hari misal bikin catat ringkas ceritain temen bantu otak simpan informasi lebih lama jangan lupa istirahat cukup otak lelah susah serap informasi kamu asal konsisten', 'q aku rasa ajar sia cepet lupa apa salah a ajar memang asa berat kalau informasi cepat hilang ingat salah kok proses ajar libat cara otak simpan informasi kadang butuh ulang biar nempel coba pecah materi jadi kecil ulang pelan kamu ajar tempat nyaman biar otak lebih fokus']",
         "latih - susah - sulit - jangka - distraksi - tenang - laku - bagaimana - kadang - rutin",
         "0.8680436152653723",
         "False"
        ],
        [
         "5",
         "Apa sebenarnya rumination itu?",
         "Rumination adalah kebiasaan \"mengunyah\" pikiran yang sama berulang-ulang sampai menimbulkan stres tambahan—seperti menonton ulang film sedih tanpa tombol berhenti. George Slavich menyebutnya cognitive looping yang menghambat informasi baru masuk.",
         "q apa benar rumination a rumination biasa kunyah pikir sama ulang timbul stres tambah tonton ulang film sedih tombol henti george slavich sebut cognitive looping hambat informasi baru masuk",
         "-1",
         "-1_psikolog_ubah_diri_tenang",
         "['psikolog', 'ubah', 'diri', 'tenang', 'biar', 'bilang', 'kadang', 'sendiri', 'ngerasa', 'gimana']",
         "['q aku ngerasa dunia adil semua orang cuma mikirin diri sendiri bikin aku susah percaya sama orang normal sih gitu a asa kayak gitu wajar kok kalau kamu pernah kecewa punya alam bikin sulit percaya kalau terus rasa semua orang egois bikin kamu rasa makin sendiri coba pikir bareng sih orang hidup pernah nunjukin baik meski kecil mungkin mulai situ kamu pelan buka diri aku sini buat dengerin kalau kamu mau cerita lebih banyak', 'q aku ngerasa harga orang aku selalu fokus sama kurang gimana cara biar aku lebih positif a wah langkah besar kalau kamu sadar gitu coba mulai latih sederhana tiap hari cari satu positif orang meski kecil senyum cara bantu tulis buku catat kalau perlu lama kamu biasa lihat sisi baik orang mau coba mulai hari ceritain aku hasil', 'q aku suka sama diri sendiri apa aku ubah a sayang banget kamu rasa sama diri sendiri asa suka sama diri sendiri muncul tekan luar alam bikin kamu ragu coba mulai kecil tulis tiga kamu suka diri meski sederhana kalau asa sulit mungkin ngobrol sama orang bantu lihat sisi baik teman profesional bantu aku dukung kamu buat mulai suka diri kok']",
         "psikolog - ubah - diri - tenang - biar - bilang - kadang - sendiri - ngerasa - gimana",
         "0.0",
         "False"
        ],
        [
         "6",
         "Mengapa memikirkannya terus malah bikin sedih makin berat?",
         "Setiap kali memori negatif diputar, jalur emosi di otak diaktifkan lagi; kortisol naik, mood merosot. Hentikan dengan teknik grounding—ajak pancaindra merasakan hal di sekitar agar jalur baru terbentuk.",
         "q pikir terus malah bikin sedih makin berat a tiap kali memori negatif putar jalur emosi otak aktif kortisol naik mood merosot henti teknik grounding ajak pancaindra rasa jalur baru bentuk",
         "-1",
         "-1_psikolog_ubah_diri_tenang",
         "['psikolog', 'ubah', 'diri', 'tenang', 'biar', 'bilang', 'kadang', 'sendiri', 'ngerasa', 'gimana']",
         "['q aku ngerasa dunia adil semua orang cuma mikirin diri sendiri bikin aku susah percaya sama orang normal sih gitu a asa kayak gitu wajar kok kalau kamu pernah kecewa punya alam bikin sulit percaya kalau terus rasa semua orang egois bikin kamu rasa makin sendiri coba pikir bareng sih orang hidup pernah nunjukin baik meski kecil mungkin mulai situ kamu pelan buka diri aku sini buat dengerin kalau kamu mau cerita lebih banyak', 'q aku ngerasa harga orang aku selalu fokus sama kurang gimana cara biar aku lebih positif a wah langkah besar kalau kamu sadar gitu coba mulai latih sederhana tiap hari cari satu positif orang meski kecil senyum cara bantu tulis buku catat kalau perlu lama kamu biasa lihat sisi baik orang mau coba mulai hari ceritain aku hasil', 'q aku suka sama diri sendiri apa aku ubah a sayang banget kamu rasa sama diri sendiri asa suka sama diri sendiri muncul tekan luar alam bikin kamu ragu coba mulai kecil tulis tiga kamu suka diri meski sederhana kalau asa sulit mungkin ngobrol sama orang bantu lihat sisi baik teman profesional bantu aku dukung kamu buat mulai suka diri kok']",
         "psikolog - ubah - diri - tenang - biar - bilang - kadang - sendiri - ngerasa - gimana",
         "0.0",
         "False"
        ],
        [
         "7",
         "Bagaimana caranya melihat masalah dari sudut pandang lain?",
         "Tulis masalah di kertas, lalu pura-pura kamu adalah sahabatmu yang memberi nasihat. Jarak psikologis kecil ini membantu prefrontal cortex menilai lebih objektif, demikian menurut Ethan Kross.",
         "q bagaimana cara lihat masalah sudut pandang a tulis masalah kertas lalu pura kamu sahabat beri nasihat jarak psikologis kecil bantu prefrontal cortex nilai lebih objektif turut ethan kross",
         "5",
         "5_latih_susah_sulit_jangka",
         "['latih', 'susah', 'sulit', 'jangka', 'distraksi', 'tenang', 'laku', 'bagaimana', 'kadang', 'rutin']",
         "['q aku sering ngerasa otak penuh kalau ajar banyak gimana ngatasinnya a rasa penuh tanda otak butuh jeda coba atur jadwal ajar sesi pendek misal 25 menit ajar 5 menit istirahat teknik bikin otak lelah jangan lupa tidur cukup tidur bantu otak atur ulang informasi kalau asa berat coba pilih satu topik dulu bikin ringkas baru lanjut pelan aja perlu buru', 'q aku rasa otak lelet buat ingat ajar saran a ajar memang kadang asa berat kamu coba teknik ajar ulang ajar coba ulas materi beberapa hari misal bikin catat ringkas ceritain temen bantu otak simpan informasi lebih lama jangan lupa istirahat cukup otak lelah susah serap informasi kamu asal konsisten', 'q aku rasa ajar sia cepet lupa apa salah a ajar memang asa berat kalau informasi cepat hilang ingat salah kok proses ajar libat cara otak simpan informasi kadang butuh ulang biar nempel coba pecah materi jadi kecil ulang pelan kamu ajar tempat nyaman biar otak lebih fokus']",
         "latih - susah - sulit - jangka - distraksi - tenang - laku - bagaimana - kadang - rutin",
         "0.8246504335801501",
         "False"
        ],
        [
         "8",
         "Apa itu memvalidasi pikiran sendiri?",
         "Cek data yang mendukung dan yang menolak keyakinanmu. Jika kalimat \"Aku pasti gagal\" tidak punya bukti kuat, ubah jadi versi lebih realistis. Latihan ini menyehatkan dialog internal.",
         "q apa memvalidasi pikir sendiri a cek data dukung tolak yakin kalimat aku gagal punya bukti kuat ubah jadi versi lebih realistis latih sehat dialog internal",
         "-1",
         "-1_psikolog_ubah_diri_tenang",
         "['psikolog', 'ubah', 'diri', 'tenang', 'biar', 'bilang', 'kadang', 'sendiri', 'ngerasa', 'gimana']",
         "['q aku ngerasa dunia adil semua orang cuma mikirin diri sendiri bikin aku susah percaya sama orang normal sih gitu a asa kayak gitu wajar kok kalau kamu pernah kecewa punya alam bikin sulit percaya kalau terus rasa semua orang egois bikin kamu rasa makin sendiri coba pikir bareng sih orang hidup pernah nunjukin baik meski kecil mungkin mulai situ kamu pelan buka diri aku sini buat dengerin kalau kamu mau cerita lebih banyak', 'q aku ngerasa harga orang aku selalu fokus sama kurang gimana cara biar aku lebih positif a wah langkah besar kalau kamu sadar gitu coba mulai latih sederhana tiap hari cari satu positif orang meski kecil senyum cara bantu tulis buku catat kalau perlu lama kamu biasa lihat sisi baik orang mau coba mulai hari ceritain aku hasil', 'q aku suka sama diri sendiri apa aku ubah a sayang banget kamu rasa sama diri sendiri asa suka sama diri sendiri muncul tekan luar alam bikin kamu ragu coba mulai kecil tulis tiga kamu suka diri meski sederhana kalau asa sulit mungkin ngobrol sama orang bantu lihat sisi baik teman profesional bantu aku dukung kamu buat mulai suka diri kok']",
         "psikolog - ubah - diri - tenang - biar - bilang - kadang - sendiri - ngerasa - gimana",
         "0.0",
         "False"
        ],
        [
         "9",
         "Apakah distraksi berarti lari dari masalah?",
         "Bukan. Distraksi adalah jeda terencana agar emosimu reda sebelum analisis rasional dilakukan—ibarat menepi saat rem mobil panas lalu berkendara lagi ketika aman.",
         "q distraksi arti lari masalah a bukan distraksi jeda rencana emosi reda analisis rasional laku ibarat tepi rem mobil panas lalu kendara aman",
         "9",
         "9_emosi_emosional_pengaruh_perilaku",
         "['emosi', 'emosional', 'pengaruh', 'perilaku', 'impulsif', 'pikir', 'kadang', 'diri', 'sendiri', 'sadar']",
         "['q aku rasa ngontrol emosi kadang apa salah a emosi susah kontrol arti salah psikologi klinis bilang emosi kayak sinyal kadang muncul butuh penuh istirahat dukung coba perhatiin apa biasa bikin emosi ledak coba cari cara buat ngeluarin emosi lebih sehat misal nulis tarik napas mau coba ceritain satu contoh', 'q aku kadang ngerasa ngontrol emosi apa aku laku a ngontrol emosi kadang bikin rasa kewalahan pertama coba tarik napas beberapa kali pas emosi bantu otak tenang terus perhati apa bikin emosi ledak misal apa pola capek stres kalau udah tahu picu cari cara buat hadap situasi lebih tenang ngomong sama orang kamu percaya nulis apa kamu rasa', 'q emilia aku ngerasa ngontrol emosi marah sedih tiba aja muncul a kedengeran kayak emosi naik-turun banget stres trauma mungkin pola emosi perlu paham lebih terapi fokus kelola emosi bantu kamu kenal picu ajar cara ngatasin coba ceritain apa biasa bikin emosi ledak pikirin bareng langkah kecil']",
         "emosi - emosional - pengaruh - perilaku - impulsif - pikir - kadang - diri - sendiri - sadar",
         "0.3151873022365176",
         "False"
        ],
        [
         "10",
         "Bagaimana tetap dekat dengan teman ketika pikiranku penuh masalah?",
         "Jadwalkan quality time singkat tanpa membahas masalahmu. Fokus mendengar kabar mereka selama 15 menit. Aktivitas ini memecah pola pikir berulang dan menjaga ikatan sosial.",
         "q bagaimana tetap dekat teman pikir penuh masalah a jadwal quality time singkat bahas masalah fokus dengar kabar lama 15 menit aktivitas pecah pola pikir ulang jaga ikat sosial",
         "5",
         "5_latih_susah_sulit_jangka",
         "['latih', 'susah', 'sulit', 'jangka', 'distraksi', 'tenang', 'laku', 'bagaimana', 'kadang', 'rutin']",
         "['q aku sering ngerasa otak penuh kalau ajar banyak gimana ngatasinnya a rasa penuh tanda otak butuh jeda coba atur jadwal ajar sesi pendek misal 25 menit ajar 5 menit istirahat teknik bikin otak lelah jangan lupa tidur cukup tidur bantu otak atur ulang informasi kalau asa berat coba pilih satu topik dulu bikin ringkas baru lanjut pelan aja perlu buru', 'q aku rasa otak lelet buat ingat ajar saran a ajar memang kadang asa berat kamu coba teknik ajar ulang ajar coba ulas materi beberapa hari misal bikin catat ringkas ceritain temen bantu otak simpan informasi lebih lama jangan lupa istirahat cukup otak lelah susah serap informasi kamu asal konsisten', 'q aku rasa ajar sia cepet lupa apa salah a ajar memang asa berat kalau informasi cepat hilang ingat salah kok proses ajar libat cara otak simpan informasi kadang butuh ulang biar nempel coba pecah materi jadi kecil ulang pelan kamu ajar tempat nyaman biar otak lebih fokus']",
         "latih - susah - sulit - jangka - distraksi - tenang - laku - bagaimana - kadang - rutin",
         "1.0",
         "False"
        ],
        [
         "11",
         "Kenapa aku mudah marah saat overthinking?",
         "Emosi negatifmu sudah \"dipompa\" sebelumnya; sedikit pemicu langsung menyala. Cobalah teknik napas 4-7-8 untuk menurunkan respons fisiologis marah dengan cepat.",
         "q aku mudah marah overthinking a emosi negatif pompa sedikit picu langsung nyala coba teknik napas 4-7-8 turun respons fisiologis marah cepat",
         "9",
         "9_emosi_emosional_pengaruh_perilaku",
         "['emosi', 'emosional', 'pengaruh', 'perilaku', 'impulsif', 'pikir', 'kadang', 'diri', 'sendiri', 'sadar']",
         "['q aku rasa ngontrol emosi kadang apa salah a emosi susah kontrol arti salah psikologi klinis bilang emosi kayak sinyal kadang muncul butuh penuh istirahat dukung coba perhatiin apa biasa bikin emosi ledak coba cari cara buat ngeluarin emosi lebih sehat misal nulis tarik napas mau coba ceritain satu contoh', 'q aku kadang ngerasa ngontrol emosi apa aku laku a ngontrol emosi kadang bikin rasa kewalahan pertama coba tarik napas beberapa kali pas emosi bantu otak tenang terus perhati apa bikin emosi ledak misal apa pola capek stres kalau udah tahu picu cari cara buat hadap situasi lebih tenang ngomong sama orang kamu percaya nulis apa kamu rasa', 'q emilia aku ngerasa ngontrol emosi marah sedih tiba aja muncul a kedengeran kayak emosi naik-turun banget stres trauma mungkin pola emosi perlu paham lebih terapi fokus kelola emosi bantu kamu kenal picu ajar cara ngatasin coba ceritain apa biasa bikin emosi ledak pikirin bareng langkah kecil']",
         "emosi - emosional - pengaruh - perilaku - impulsif - pikir - kadang - diri - sendiri - sadar",
         "0.7432060423436062",
         "False"
        ],
        [
         "12",
         "Contoh reframe kemarahan ketika proyek gagal apa?",
         "Alih-alih berpikir \"Timku tidak becus\", coba \"Kita semua masih belajar—apa yang bisa ditingkatkan?\". Pergeseran fokus dari menyalahkan ke perbaikan menurunkan tensi konflik.",
         "q contoh reframe marah proyek gagal apa a alih pikir tim becus coba semua ajar apa tingkat geser fokus salah baik turun tensi konflik",
         "42",
         "42_bagaimana_bilang_diri_tulis",
         "['bagaimana', 'bilang', 'diri', 'tulis', 'eksekusi', 'tak', 'respons', 'punya', 'gustav', 'coba']",
         "['q maju hidup rasa hambat apa bantu a maju tanda kamu punya semangat besar carl gustav jung bilang progres jadi imbang butuh batin dunia luar kalau rasa hambat coba tulis satu tuju kecil capai minggu ajar skill baru declutter meja kerja refleksi apa bikin kamu stuck langkah kecil bawa ubah besar apa tuju pikir', 'q rasa sering gagal tuju terlalu besar bagaimana cara tetap tuju realistis a kamu bijak sadar langkah tuju imbang alfred adler bilang kurang minat sosial tuju terlalu tinggi bikin rasa gagal coba pecah tuju besar jadi langkah kecil ajar 10 menit hari alih kuasa skill baru tulis satu tuju kecil minggu apa satu langkah realistis bikin kamu semangat', 'q maju rasa hambat apa laku a maju tunjuk semangat besar diri carl gustav jung bilang progres jadi imbang dunia luar batin kalau hambat tulis satu tuju kecil minggu ajar skill baru rapi ruang kerja refleksi apa bikin kamu stuck langkah kecil bawa ubah besar apa tuju pikir']",
         "bagaimana - bilang - diri - tulis - eksekusi - tak - respons - punya - gustav - coba",
         "1.0",
         "False"
        ],
        [
         "13",
         "Bagaimana tidak melampiaskan stres ke teman?",
         "Buat aturan: saat emosi di atas 7/10, tunda obrolan penting. Tuliskan dulu perasaan di jurnal, baru hubungi teman. Cara ini menurunkan risiko kata-kata impulsif.",
         "q bagaimana lampias stres teman a buat atur emosi atas 7 10 tunda obrol penting tulis dulu asa jurnal baru hubung teman cara turun risiko kata impulsif",
         "14",
         "14_teman_emosi_ngobrol_kadang",
         "['teman', 'emosi', 'ngobrol', 'kadang', 'situasi', 'ngerasa', 'pikirin', 'cerita', 'orang', 'kewalahan']",
         "['q aku rasa ingat lelet kalau stres apa hubung a stres memang bikin ingat asa lelet stres otak sibuk urus emosi jadi susah fokus simpan ingat informasi coba laku kecil reda stres tarik napas jalan sebentar kalau stres sering ganggu mungkin coba cari tahu apa bikin kamu tekan cari cara atas bareng apa biasa bikin kamu stres', 'q aku rasa lebih gampang stres banding temen-temenku hidup lebih stabil a wajar kok kamu rasa tekan hidup masalah uang lingkung sulit bikin stres asa lebih berat bukan arti kamu lemah lingkung memang punya pengaruh besar mungkin coba cari cara kecil kurang stres latih napas ngobrol sama orang kamu percaya sih kecil biasa bikin kamu rileks', 'q aku rasa stres tekan lingkung apa bantu a tekan lingkung memang bikin stres coba cari waktu diri sendiri meski cuma 10 menit laku tenang dengar musik jalan kaki teknik napas bantu reda tegang kalau stres asa berat ngobrol orang bantu apa biasa bikin kamu rasa lebih rileks']",
         "teman - emosi - ngobrol - kadang - situasi - ngerasa - pikirin - cerita - orang - kewalahan",
         "0.595046723667999",
         "False"
        ],
        [
         "14",
         "Kenapa kegagalan terasa seperti penyakit emosional?",
         "Kegagalan mengganggu self-esteem, mirip flu yang melemahkan imunitas fisik. Tanpa perawatan (dukungan dan rencana baru), ia bisa berkembang jadi \"pneumonia\" psikis berupa keputusasaan.",
         "q gagal asa sakit emosional a gagal ganggu self-esteem mirip flu lemah imunitas fisik awat dukung rencana baru kembang jadi pneumonia psikis upa keputusasaan",
         "9",
         "9_emosi_emosional_pengaruh_perilaku",
         "['emosi', 'emosional', 'pengaruh', 'perilaku', 'impulsif', 'pikir', 'kadang', 'diri', 'sendiri', 'sadar']",
         "['q aku rasa ngontrol emosi kadang apa salah a emosi susah kontrol arti salah psikologi klinis bilang emosi kayak sinyal kadang muncul butuh penuh istirahat dukung coba perhatiin apa biasa bikin emosi ledak coba cari cara buat ngeluarin emosi lebih sehat misal nulis tarik napas mau coba ceritain satu contoh', 'q aku kadang ngerasa ngontrol emosi apa aku laku a ngontrol emosi kadang bikin rasa kewalahan pertama coba tarik napas beberapa kali pas emosi bantu otak tenang terus perhati apa bikin emosi ledak misal apa pola capek stres kalau udah tahu picu cari cara buat hadap situasi lebih tenang ngomong sama orang kamu percaya nulis apa kamu rasa', 'q emilia aku ngerasa ngontrol emosi marah sedih tiba aja muncul a kedengeran kayak emosi naik-turun banget stres trauma mungkin pola emosi perlu paham lebih terapi fokus kelola emosi bantu kamu kenal picu ajar cara ngatasin coba ceritain apa biasa bikin emosi ledak pikirin bareng langkah kecil']",
         "emosi - emosional - pengaruh - perilaku - impulsif - pikir - kadang - diri - sendiri - sadar",
         "0.6142282830500515",
         "False"
        ],
        [
         "15",
         "Bagaimana membangun kembali harga diri setelah gagal?",
         "Mulai dari kemenangan mikro—tugas 5-10 menit tiap hari. Albert Bandura menyebutnya mastery experience yang perlahan memperbaiki citra diri.",
         "q bagaimana bangun harga diri gagal a mulai menang mikro tugas 5-10 menit tiap hari albert bandura sebut mastery experience perlahan baik citra diri",
         "42",
         "42_bagaimana_bilang_diri_tulis",
         "['bagaimana', 'bilang', 'diri', 'tulis', 'eksekusi', 'tak', 'respons', 'punya', 'gustav', 'coba']",
         "['q maju hidup rasa hambat apa bantu a maju tanda kamu punya semangat besar carl gustav jung bilang progres jadi imbang butuh batin dunia luar kalau rasa hambat coba tulis satu tuju kecil capai minggu ajar skill baru declutter meja kerja refleksi apa bikin kamu stuck langkah kecil bawa ubah besar apa tuju pikir', 'q rasa sering gagal tuju terlalu besar bagaimana cara tetap tuju realistis a kamu bijak sadar langkah tuju imbang alfred adler bilang kurang minat sosial tuju terlalu tinggi bikin rasa gagal coba pecah tuju besar jadi langkah kecil ajar 10 menit hari alih kuasa skill baru tulis satu tuju kecil minggu apa satu langkah realistis bikin kamu semangat', 'q maju rasa hambat apa laku a maju tunjuk semangat besar diri carl gustav jung bilang progres jadi imbang dunia luar batin kalau hambat tulis satu tuju kecil minggu ajar skill baru rapi ruang kerja refleksi apa bikin kamu stuck langkah kecil bawa ubah besar apa tuju pikir']",
         "bagaimana - bilang - diri - tulis - eksekusi - tak - respons - punya - gustav - coba",
         "1.0",
         "False"
        ],
        [
         "16",
         "Kenapa aku malas mencoba lagi setelah jatuh?",
         "Kegagalan menciptakan ilusi \"hasilnya pasti sama\". Tulis dua alternatif strategi konkret; fakta baru ini mematahkan ilusi dan memancing aksi.",
         "q aku malas coba jatuh a gagal cipta ilusi hasil sama tulis alternatif strategi konkret fakta baru patah ilusi pancing aksi",
         "-1",
         "-1_psikolog_ubah_diri_tenang",
         "['psikolog', 'ubah', 'diri', 'tenang', 'biar', 'bilang', 'kadang', 'sendiri', 'ngerasa', 'gimana']",
         "['q aku ngerasa dunia adil semua orang cuma mikirin diri sendiri bikin aku susah percaya sama orang normal sih gitu a asa kayak gitu wajar kok kalau kamu pernah kecewa punya alam bikin sulit percaya kalau terus rasa semua orang egois bikin kamu rasa makin sendiri coba pikir bareng sih orang hidup pernah nunjukin baik meski kecil mungkin mulai situ kamu pelan buka diri aku sini buat dengerin kalau kamu mau cerita lebih banyak', 'q aku ngerasa harga orang aku selalu fokus sama kurang gimana cara biar aku lebih positif a wah langkah besar kalau kamu sadar gitu coba mulai latih sederhana tiap hari cari satu positif orang meski kecil senyum cara bantu tulis buku catat kalau perlu lama kamu biasa lihat sisi baik orang mau coba mulai hari ceritain aku hasil', 'q aku suka sama diri sendiri apa aku ubah a sayang banget kamu rasa sama diri sendiri asa suka sama diri sendiri muncul tekan luar alam bikin kamu ragu coba mulai kecil tulis tiga kamu suka diri meski sederhana kalau asa sulit mungkin ngobrol sama orang bantu lihat sisi baik teman profesional bantu aku dukung kamu buat mulai suka diri kok']",
         "psikolog - ubah - diri - tenang - biar - bilang - kadang - sendiri - ngerasa - gimana",
         "0.0",
         "False"
        ],
        [
         "17",
         "Bagaimana cara efektif meminta bantuan?",
         "Ungkap kebutuhan spesifik: \"Aku butuh teman brainstorming 30 menit soal rencana ulang.\" Riset Heidi Grant Halvorson menunjukkan permintaan rinci lebih sering dipenuhi.",
         "q bagaimana cara efektif minta bantu a ungkap butuh spesifik aku butuh teman brainstorming 30 menit soal rencana ulang riset heidi grant halvorson tunjuk minta rinci lebih sering penuh",
         "42",
         "42_bagaimana_bilang_diri_tulis",
         "['bagaimana', 'bilang', 'diri', 'tulis', 'eksekusi', 'tak', 'respons', 'punya', 'gustav', 'coba']",
         "['q maju hidup rasa hambat apa bantu a maju tanda kamu punya semangat besar carl gustav jung bilang progres jadi imbang butuh batin dunia luar kalau rasa hambat coba tulis satu tuju kecil capai minggu ajar skill baru declutter meja kerja refleksi apa bikin kamu stuck langkah kecil bawa ubah besar apa tuju pikir', 'q rasa sering gagal tuju terlalu besar bagaimana cara tetap tuju realistis a kamu bijak sadar langkah tuju imbang alfred adler bilang kurang minat sosial tuju terlalu tinggi bikin rasa gagal coba pecah tuju besar jadi langkah kecil ajar 10 menit hari alih kuasa skill baru tulis satu tuju kecil minggu apa satu langkah realistis bikin kamu semangat', 'q maju rasa hambat apa laku a maju tunjuk semangat besar diri carl gustav jung bilang progres jadi imbang dunia luar batin kalau hambat tulis satu tuju kecil minggu ajar skill baru rapi ruang kerja refleksi apa bikin kamu stuck langkah kecil bawa ubah besar apa tuju pikir']",
         "bagaimana - bilang - diri - tulis - eksekusi - tak - respons - punya - gustav - coba",
         "1.0",
         "False"
        ],
        [
         "18",
         "Apa saja contoh faktor yang bisa kukendalikan?",
         "Jumlah waktu belajar harian, mentor yang dihubungi, dan target mingguan—semua di tanganmu. Mengutak-atik hal ini lebih efektif ketimbang meratapi penilaian orang.",
         "q apa contoh faktor kendali a jumlah waktu ajar hari mentor hubung target minggu semua tangan mengutak-atik lebih efektif ketimbang ratap nilai orang",
         "5",
         "5_latih_susah_sulit_jangka",
         "['latih', 'susah', 'sulit', 'jangka', 'distraksi', 'tenang', 'laku', 'bagaimana', 'kadang', 'rutin']",
         "['q aku sering ngerasa otak penuh kalau ajar banyak gimana ngatasinnya a rasa penuh tanda otak butuh jeda coba atur jadwal ajar sesi pendek misal 25 menit ajar 5 menit istirahat teknik bikin otak lelah jangan lupa tidur cukup tidur bantu otak atur ulang informasi kalau asa berat coba pilih satu topik dulu bikin ringkas baru lanjut pelan aja perlu buru', 'q aku rasa otak lelet buat ingat ajar saran a ajar memang kadang asa berat kamu coba teknik ajar ulang ajar coba ulas materi beberapa hari misal bikin catat ringkas ceritain temen bantu otak simpan informasi lebih lama jangan lupa istirahat cukup otak lelah susah serap informasi kamu asal konsisten', 'q aku rasa ajar sia cepet lupa apa salah a ajar memang asa berat kalau informasi cepat hilang ingat salah kok proses ajar libat cara otak simpan informasi kadang butuh ulang biar nempel coba pecah materi jadi kecil ulang pelan kamu ajar tempat nyaman biar otak lebih fokus']",
         "latih - susah - sulit - jangka - distraksi - tenang - laku - bagaimana - kadang - rutin",
         "1.0",
         "False"
        ],
        [
         "19",
         "Bagaimana memecah tujuan besar agar realistis?",
         "Gunakan metode SMART-ER (Specific, Measurable, Achievable, Relevant, Time-bound, Evaluated, Rewarded). Setiap sub-target punya tenggat dan hadiah kecil ketika tercapai.",
         "q bagaimana pecah tuju besar realistis a metode smart-er specific measurable achievable relevant time-bound evaluated rewarded tiap sub-target punya tenggat hadiah kecil capai",
         "42",
         "42_bagaimana_bilang_diri_tulis",
         "['bagaimana', 'bilang', 'diri', 'tulis', 'eksekusi', 'tak', 'respons', 'punya', 'gustav', 'coba']",
         "['q maju hidup rasa hambat apa bantu a maju tanda kamu punya semangat besar carl gustav jung bilang progres jadi imbang butuh batin dunia luar kalau rasa hambat coba tulis satu tuju kecil capai minggu ajar skill baru declutter meja kerja refleksi apa bikin kamu stuck langkah kecil bawa ubah besar apa tuju pikir', 'q rasa sering gagal tuju terlalu besar bagaimana cara tetap tuju realistis a kamu bijak sadar langkah tuju imbang alfred adler bilang kurang minat sosial tuju terlalu tinggi bikin rasa gagal coba pecah tuju besar jadi langkah kecil ajar 10 menit hari alih kuasa skill baru tulis satu tuju kecil minggu apa satu langkah realistis bikin kamu semangat', 'q maju rasa hambat apa laku a maju tunjuk semangat besar diri carl gustav jung bilang progres jadi imbang dunia luar batin kalau hambat tulis satu tuju kecil minggu ajar skill baru rapi ruang kerja refleksi apa bikin kamu stuck langkah kecil bawa ubah besar apa tuju pikir']",
         "bagaimana - bilang - diri - tulis - eksekusi - tak - respons - punya - gustav - coba",
         "1.0",
         "False"
        ],
        [
         "20",
         "Kenapa tertawa membantu setelah gagal?",
         "Tawa menurunkan hormon stres dan mengaktifkan sistem dopamin reward. Viktor Frankl bahkan memasukkan humor sebagai strategi bertahan mental.",
         "q tertawa bantu gagal a tawa turun hormon stres aktif sistem dopamin reward viktor frankl bahkan masuk humor bagai strategi tahan mental",
         "-1",
         "-1_psikolog_ubah_diri_tenang",
         "['psikolog', 'ubah', 'diri', 'tenang', 'biar', 'bilang', 'kadang', 'sendiri', 'ngerasa', 'gimana']",
         "['q aku ngerasa dunia adil semua orang cuma mikirin diri sendiri bikin aku susah percaya sama orang normal sih gitu a asa kayak gitu wajar kok kalau kamu pernah kecewa punya alam bikin sulit percaya kalau terus rasa semua orang egois bikin kamu rasa makin sendiri coba pikir bareng sih orang hidup pernah nunjukin baik meski kecil mungkin mulai situ kamu pelan buka diri aku sini buat dengerin kalau kamu mau cerita lebih banyak', 'q aku ngerasa harga orang aku selalu fokus sama kurang gimana cara biar aku lebih positif a wah langkah besar kalau kamu sadar gitu coba mulai latih sederhana tiap hari cari satu positif orang meski kecil senyum cara bantu tulis buku catat kalau perlu lama kamu biasa lihat sisi baik orang mau coba mulai hari ceritain aku hasil', 'q aku suka sama diri sendiri apa aku ubah a sayang banget kamu rasa sama diri sendiri asa suka sama diri sendiri muncul tekan luar alam bikin kamu ragu coba mulai kecil tulis tiga kamu suka diri meski sederhana kalau asa sulit mungkin ngobrol sama orang bantu lihat sisi baik teman profesional bantu aku dukung kamu buat mulai suka diri kok']",
         "psikolog - ubah - diri - tenang - biar - bilang - kadang - sendiri - ngerasa - gimana",
         "0.0",
         "False"
        ],
        [
         "21",
         "Latihan praktis apa untuk mengalihkan tekanan?",
         "Coba teknik 5-4-3-2-1: sebut 5 hal yang terlihat, 4 yang dirasa, 3 yang didengar, 2 yang tercium, 1 sensasi di tubuh. Fokus bergeser dari evaluasi diri ke pengalaman indrawi.",
         "q latih praktis apa alih tekan a coba teknik 5-4-3-2-1 sebut 5 lihat 4 rasa 3 dengar 2 cium 1 sensasi tubuh fokus geser evaluasi diri alam indrawi",
         "5",
         "5_latih_susah_sulit_jangka",
         "['latih', 'susah', 'sulit', 'jangka', 'distraksi', 'tenang', 'laku', 'bagaimana', 'kadang', 'rutin']",
         "['q aku sering ngerasa otak penuh kalau ajar banyak gimana ngatasinnya a rasa penuh tanda otak butuh jeda coba atur jadwal ajar sesi pendek misal 25 menit ajar 5 menit istirahat teknik bikin otak lelah jangan lupa tidur cukup tidur bantu otak atur ulang informasi kalau asa berat coba pilih satu topik dulu bikin ringkas baru lanjut pelan aja perlu buru', 'q aku rasa otak lelet buat ingat ajar saran a ajar memang kadang asa berat kamu coba teknik ajar ulang ajar coba ulas materi beberapa hari misal bikin catat ringkas ceritain temen bantu otak simpan informasi lebih lama jangan lupa istirahat cukup otak lelah susah serap informasi kamu asal konsisten', 'q aku rasa ajar sia cepet lupa apa salah a ajar memang asa berat kalau informasi cepat hilang ingat salah kok proses ajar libat cara otak simpan informasi kadang butuh ulang biar nempel coba pecah materi jadi kecil ulang pelan kamu ajar tempat nyaman biar otak lebih fokus']",
         "latih - susah - sulit - jangka - distraksi - tenang - laku - bagaimana - kadang - rutin",
         "1.0",
         "False"
        ],
        [
         "22",
         "Bagaimana medsos merusak kepercayaan diri?",
         "Feed penuh highlight hidup orang lain memicu social comparison—teori Leon Festinger—membuatmu menilai diri dengan standar tak realistis. Batasi waktu scroll atau kurasi akun yang sehat.",
         "q bagaimana medsos rusak percaya diri a feed penuh highlight hidup orang picu social comparison teori leon festinger buat nilai diri standar tak realistis batas waktu scroll kuras akun sehat",
         "-1",
         "-1_psikolog_ubah_diri_tenang",
         "['psikolog', 'ubah', 'diri', 'tenang', 'biar', 'bilang', 'kadang', 'sendiri', 'ngerasa', 'gimana']",
         "['q aku ngerasa dunia adil semua orang cuma mikirin diri sendiri bikin aku susah percaya sama orang normal sih gitu a asa kayak gitu wajar kok kalau kamu pernah kecewa punya alam bikin sulit percaya kalau terus rasa semua orang egois bikin kamu rasa makin sendiri coba pikir bareng sih orang hidup pernah nunjukin baik meski kecil mungkin mulai situ kamu pelan buka diri aku sini buat dengerin kalau kamu mau cerita lebih banyak', 'q aku ngerasa harga orang aku selalu fokus sama kurang gimana cara biar aku lebih positif a wah langkah besar kalau kamu sadar gitu coba mulai latih sederhana tiap hari cari satu positif orang meski kecil senyum cara bantu tulis buku catat kalau perlu lama kamu biasa lihat sisi baik orang mau coba mulai hari ceritain aku hasil', 'q aku suka sama diri sendiri apa aku ubah a sayang banget kamu rasa sama diri sendiri asa suka sama diri sendiri muncul tekan luar alam bikin kamu ragu coba mulai kecil tulis tiga kamu suka diri meski sederhana kalau asa sulit mungkin ngobrol sama orang bantu lihat sisi baik teman profesional bantu aku dukung kamu buat mulai suka diri kok']",
         "psikolog - ubah - diri - tenang - biar - bilang - kadang - sendiri - ngerasa - gimana",
         "0.0",
         "False"
        ],
        [
         "23",
         "Tips menanggapi kritik tanpa baper?",
         "Pisahkan pesan dan nada. Ambil inti yang berguna, abaikan sisanya. Ucap \"terima kasih masukannya\", lalu cek relevansinya. Teknik ini disebut decentering dalam Cognitive Behavioral Therapy.",
         "q tips tanggap kritik baper a pisah pesan nada ambil inti abai sisa ucap terima kasih masuk lalu cek relevansi teknik sebut decentering cognitive behavioral therapy",
         "28",
         "28_emosi_perilaku_behavioral_buat",
         "['emosi', 'perilaku', 'behavioral', 'buat', 'cognitive', 'bilang', 'pikir', 'kamu', 'kognitif', 'latih']",
         "['q aku ken coba terapi takut cocok gimana cara milih terapi a pilih terapi memang perlu coba tiap orang cocok sama dekat beda mungkin kamu mulai cari tahu soal terapi kognitif terapi bas mindfulness terus cari terap bikin kamu nyaman mau aku jelasin beda terapi biar kamu punya gambar', 'q aku takut kalau terapi bakal bantu masalah apa aku tetap coba a takut kalau terapi bantu wajar banget kalau kamu rasa masalah berat aku tahu terapi fokus pola pikir hubung udah bukti bantu banyak orang meski butuh waktu coba mulai sesi awal lihat kamu nyaman sama terap kalau cocok kamu coba apa bikin kamu takut terapi bakal hasil', 'q aku ken coba terapi takut cocok apa aku laku a wajar banget kalau takut coba baru terapi mungkin kamu mulai cari tahu lebih banyak soal terapi cocok buat misal terapi kognitif fokus pikir asa mau aku jelasin lebih lanjut soal']",
         "emosi - perilaku - behavioral - buat - cognitive - bilang - pikir - kamu - kognitif - latih",
         "1.0",
         "False"
        ],
        [
         "24",
         "Bagaimana menikmati pujian tanpa jadi sombong?",
         "Terima dengan kalimat sederhana \"Terima kasih, aku menghargainya.\" Akui kontribusi orang lain jika ada. Ini menjaga keseimbangan apresiasi–kerendahan hati.",
         "q bagaimana nikmat puji jadi sombong a terima kalimat sederhana terima kasih aku harga aku kontribusi orang jaga imbang apresiasi rendah hati",
         "-1",
         "-1_psikolog_ubah_diri_tenang",
         "['psikolog', 'ubah', 'diri', 'tenang', 'biar', 'bilang', 'kadang', 'sendiri', 'ngerasa', 'gimana']",
         "['q aku ngerasa dunia adil semua orang cuma mikirin diri sendiri bikin aku susah percaya sama orang normal sih gitu a asa kayak gitu wajar kok kalau kamu pernah kecewa punya alam bikin sulit percaya kalau terus rasa semua orang egois bikin kamu rasa makin sendiri coba pikir bareng sih orang hidup pernah nunjukin baik meski kecil mungkin mulai situ kamu pelan buka diri aku sini buat dengerin kalau kamu mau cerita lebih banyak', 'q aku ngerasa harga orang aku selalu fokus sama kurang gimana cara biar aku lebih positif a wah langkah besar kalau kamu sadar gitu coba mulai latih sederhana tiap hari cari satu positif orang meski kecil senyum cara bantu tulis buku catat kalau perlu lama kamu biasa lihat sisi baik orang mau coba mulai hari ceritain aku hasil', 'q aku suka sama diri sendiri apa aku ubah a sayang banget kamu rasa sama diri sendiri asa suka sama diri sendiri muncul tekan luar alam bikin kamu ragu coba mulai kecil tulis tiga kamu suka diri meski sederhana kalau asa sulit mungkin ngobrol sama orang bantu lihat sisi baik teman profesional bantu aku dukung kamu buat mulai suka diri kok']",
         "psikolog - ubah - diri - tenang - biar - bilang - kadang - sendiri - ngerasa - gimana",
         "0.0",
         "False"
        ],
        [
         "25",
         "Langkah awal supaya merasa lebih berdaya apa?",
         "Buat \"daftar keberanian\"—tiga situasi kecil di mana kamu akan berkata \"tidak\" minggu ini. Praktik kecil melatih otot asertivitas.",
         "q langkah awal rasa lebih daya apa a buat daftar berani tiga situasi kecil mana kamu kata minggu praktik kecil latih otot asertivitas",
         "30",
         "30_bagaimana_mood_relaksasi_sensasi",
         "['bagaimana', 'mood', 'relaksasi', 'sensasi', 'mula', 'tegang', 'rasa', 'makin', 'sesi', 'lepas']",
         "['q aku ken aktif takut nyeri tubuh makin parah gimana cara mulai a keren kamu ken aktif takut nyeri tambah wajar coba mulai aktivitas ringan jalan kaki pendek atur waktu misal 10 menit dulu lalu istirahat nama pacing biar tubuh kewalahan apa aktivitas dulu kamu suka laku', 'q kapan nyeri kata kronis butuh program khusus a nyeri tetap ulang lebih 3 6 bulan pengaruh aktivitas hilang terapi standar evaluasi program manajemen nyeri kronis', 'q kadang aku rasa nyeri tubuh makin parah kalau aku stres apa hubung a iya stres nyeri fisik memang sering saling pengaruh stres tubuh jadi tegang kadang buruk rasa nyeri mungkin kamu coba teknik relaksasi tarik napas meditasi ringan kurang tegang pernah coba teknik kayak gitu']",
         "bagaimana - mood - relaksasi - sensasi - mula - tegang - rasa - makin - sesi - lepas",
         "0.916673226751251",
         "False"
        ],
        [
         "26",
         "Contoh kalimat asertif saat menolak ajakan?",
         "\"Terima kasih sudah mengajak, tapi aku perlu istirahat malam ini.\" Singkat, jelas, sopan, tanpa alasan bertele-tele.",
         "q contoh kalimat asertif tolak aja a terima kasih ajak aku perlu istirahat malam singkat jelas sopan alas tele",
         "-1",
         "-1_psikolog_ubah_diri_tenang",
         "['psikolog', 'ubah', 'diri', 'tenang', 'biar', 'bilang', 'kadang', 'sendiri', 'ngerasa', 'gimana']",
         "['q aku ngerasa dunia adil semua orang cuma mikirin diri sendiri bikin aku susah percaya sama orang normal sih gitu a asa kayak gitu wajar kok kalau kamu pernah kecewa punya alam bikin sulit percaya kalau terus rasa semua orang egois bikin kamu rasa makin sendiri coba pikir bareng sih orang hidup pernah nunjukin baik meski kecil mungkin mulai situ kamu pelan buka diri aku sini buat dengerin kalau kamu mau cerita lebih banyak', 'q aku ngerasa harga orang aku selalu fokus sama kurang gimana cara biar aku lebih positif a wah langkah besar kalau kamu sadar gitu coba mulai latih sederhana tiap hari cari satu positif orang meski kecil senyum cara bantu tulis buku catat kalau perlu lama kamu biasa lihat sisi baik orang mau coba mulai hari ceritain aku hasil', 'q aku suka sama diri sendiri apa aku ubah a sayang banget kamu rasa sama diri sendiri asa suka sama diri sendiri muncul tekan luar alam bikin kamu ragu coba mulai kecil tulis tiga kamu suka diri meski sederhana kalau asa sulit mungkin ngobrol sama orang bantu lihat sisi baik teman profesional bantu aku dukung kamu buat mulai suka diri kok']",
         "psikolog - ubah - diri - tenang - biar - bilang - kadang - sendiri - ngerasa - gimana",
         "0.0",
         "False"
        ],
        [
         "27",
         "Latihan apa yang efektif meningkatkan self-control?",
         "Meditasi mindfulness 10 menit per hari terbukti mempertebal gray matter di prefrontal cortex, menurut penelitian Sara Lazar.",
         "q latih apa efektif tingkat self-control a meditasi mindfulness 10 menit per hari bukti tebal gray matter prefrontal cortex turut teliti sara lazar",
         "37",
         "37_tenangin_gimana_buat_bagaimana",
         "['tenangin', 'gimana', 'buat', 'bagaimana', 'tenang', 'balikin', 'susah', 'mula', 'coba', 'pelan']",
         "['q aku sering rasa cemas lebih banyak uji sehat keluarga apa laku a keren banget kamu ceritain cemas wajar kalau udah lebih bikin capek coba latih mindfulness misal fokus napas kamu lama beberapa menit tiap hari tarik napas rasain udara masuk keluar bantu pikir lebih tenang fokus sekarang bukan khawatir masa depan mau coba bareng sekarang', 'q dengar meditasi sadar tahu cara apa bagaimana mulai a wah kamu penasaran sama meditasi sadar langkah keren tuju tenang mindfulness meditation cara latih pikir fokus nikmat napas suara hakim jeda kacau pikir mulai aja 5 menit duduk nyaman tutup mata tarik napas perhati napas masuk-keluar kalau pikir layang apa tarik balik pelan seru kan apa bikin kamu coba kapan kamu luang waktu sebentar', 'q aku ken coba meditasi buat tenangin pikir tahu cara bantu a keren banget kamu mau coba meditasi aku bantu kasih langkah sederhana cari tempat tenang duduk nyaman lalu fokus napas tarik napas keluar perlahan kalau pikir lari mana apa cuma balikin fokus napas coba mulai 2-3 menit dulu kalau mau aplikasi meditasi bantu kamu coba ikut kelas meditasi buat ajar lebih']",
         "tenangin - gimana - buat - bagaimana - tenang - balikin - susah - mula - coba - pelan",
         "1.0",
         "False"
        ],
        [
         "28",
         "Kenapa bahaya mendiagnosis diri lewat internet?",
         "Kita cenderung menemukan apa yang ingin kita temukan (confirmation bias). Salah diagnosis membuat strategi penanganan keliru dan menunda pertolongan profesional.",
         "q bahaya diagnosis diri lewat internet a cenderung temu apa temu confirmation bias salah diagnosis buat strategi tangan keliru tunda profesional",
         "-1",
         "-1_psikolog_ubah_diri_tenang",
         "['psikolog', 'ubah', 'diri', 'tenang', 'biar', 'bilang', 'kadang', 'sendiri', 'ngerasa', 'gimana']",
         "['q aku ngerasa dunia adil semua orang cuma mikirin diri sendiri bikin aku susah percaya sama orang normal sih gitu a asa kayak gitu wajar kok kalau kamu pernah kecewa punya alam bikin sulit percaya kalau terus rasa semua orang egois bikin kamu rasa makin sendiri coba pikir bareng sih orang hidup pernah nunjukin baik meski kecil mungkin mulai situ kamu pelan buka diri aku sini buat dengerin kalau kamu mau cerita lebih banyak', 'q aku ngerasa harga orang aku selalu fokus sama kurang gimana cara biar aku lebih positif a wah langkah besar kalau kamu sadar gitu coba mulai latih sederhana tiap hari cari satu positif orang meski kecil senyum cara bantu tulis buku catat kalau perlu lama kamu biasa lihat sisi baik orang mau coba mulai hari ceritain aku hasil', 'q aku suka sama diri sendiri apa aku ubah a sayang banget kamu rasa sama diri sendiri asa suka sama diri sendiri muncul tekan luar alam bikin kamu ragu coba mulai kecil tulis tiga kamu suka diri meski sederhana kalau asa sulit mungkin ngobrol sama orang bantu lihat sisi baik teman profesional bantu aku dukung kamu buat mulai suka diri kok']",
         "psikolog - ubah - diri - tenang - biar - bilang - kadang - sendiri - ngerasa - gimana",
         "0.0",
         "False"
        ],
        [
         "29",
         "Bagaimana caranya meminta validasi profesional?",
         "Catat gejala, durasi, dan pemicu sebelum konsultasi. Informasi terstruktur memudahkan psikolog menilai secara akurat.",
         "q bagaimana cara minta validasi profesional a catat gejala durasi picu konsultasi informasi struktur mudah psikolog nilai cara akurat",
         "-1",
         "-1_psikolog_ubah_diri_tenang",
         "['psikolog', 'ubah', 'diri', 'tenang', 'biar', 'bilang', 'kadang', 'sendiri', 'ngerasa', 'gimana']",
         "['q aku ngerasa dunia adil semua orang cuma mikirin diri sendiri bikin aku susah percaya sama orang normal sih gitu a asa kayak gitu wajar kok kalau kamu pernah kecewa punya alam bikin sulit percaya kalau terus rasa semua orang egois bikin kamu rasa makin sendiri coba pikir bareng sih orang hidup pernah nunjukin baik meski kecil mungkin mulai situ kamu pelan buka diri aku sini buat dengerin kalau kamu mau cerita lebih banyak', 'q aku ngerasa harga orang aku selalu fokus sama kurang gimana cara biar aku lebih positif a wah langkah besar kalau kamu sadar gitu coba mulai latih sederhana tiap hari cari satu positif orang meski kecil senyum cara bantu tulis buku catat kalau perlu lama kamu biasa lihat sisi baik orang mau coba mulai hari ceritain aku hasil', 'q aku suka sama diri sendiri apa aku ubah a sayang banget kamu rasa sama diri sendiri asa suka sama diri sendiri muncul tekan luar alam bikin kamu ragu coba mulai kecil tulis tiga kamu suka diri meski sederhana kalau asa sulit mungkin ngobrol sama orang bantu lihat sisi baik teman profesional bantu aku dukung kamu buat mulai suka diri kok']",
         "psikolog - ubah - diri - tenang - biar - bilang - kadang - sendiri - ngerasa - gimana",
         "0.0",
         "False"
        ],
        [
         "30",
         "Apa langkah pertama saat semuanya terasa terlalu berat?",
         "Tarik napas dalam, akui \"Aku memang kewalahan\", lalu pilih satu tugas paling kecil untuk diselesaikan. Kejelasan satu langkah mengurangi rasa chaos.",
         "q apa langkah pertama semua asa terlalu berat a tarik napas aku aku memang kewalahan lalu pilih satu tugas paling kecil selesai jelas satu langkah kurang rasa chaos",
         "46",
         "46_tenangin_ninggalin_tenang_pelan",
         "['tenangin', 'ninggalin', 'tenang', 'pelan', 'tahan', 'ngurangin', 'buat', 'pegang', 'kalau', 'relaksasi']",
         "['q aku coba latih napas cepat buat ngatasin rasa takut malah makin panik aku salah apa a latih napas cepat hiperventilasi memang picu sensasi bikin panik pusing jantung bukan salah mungkin cara perlu sesuai coba latih napas pelan tarik napas lama 4 detik tahan lalu keluar perlahan mau aku pandu cara', 'q aku sering rasa cemas alas jelas apa aku laku a wah aku tahu rasa cemas bikin nyaman banget kalau cemas datang alas jelas mungkin kamu coba teknik napas tarik napas pelan lama 4 detik tahan 4 detik lalu keluar lama 6 detik bantu tenang pikir kalau sering banget jadi mungkin baik ceritain orang kamu percaya profesional kamu rasa sendiri', 'q aku coba tarik napas malah tambah panik apa salah cara a jadi cara tarik napas terlalu cepat malah bikin hyperventilation coba napas pelan misal tarik napas 4 detik tahan 4 detik keluar 6 detik aku bantu hitung kalau kamu mau']",
         "tenangin - ninggalin - tenang - pelan - tahan - ngurangin - buat - pegang - kalau - relaksasi",
         "1.0",
         "False"
        ],
        [
         "31",
         "Tanda-tanda aku butuh konseling?",
         "Jika gangguan tidur, makan, atau fungsi harian bertahan lebih dari dua minggu, itu sinyal kuat mencari bantuan, menurut pedoman DSM-5.",
         "q tanda aku butuh konseling a ganggu tidur makan fungsi hari tahan lebih minggu sinyal kuat cari bantu turut pedoman dsm-5",
         "8",
         "8_rutinitas_laku_gelisah_bikin",
         "['rutinitas', 'laku', 'gelisah', 'bikin', 'ritme', 'misal', 'atur', 'pakai', 'hindar', 'waktu']",
         "['q aku coba tidur lebih awal malah tidur apa salah a mungkin tubuh siap tidur dorong tidur cukup kuat kalau tidur terlalu awal tubuh aktif malah bikin susah tidur coba batas waktu tempat tidur sesuai waktu tidur benar misal 6 jam dulu lalu pelan tambah tidur kamu terlalu banyak cahaya terang mau coba atur ulang jadwal tidur', 'q kadang aku minum biar tidur cara buat bikin tidur nyenyak a pake alkohol buat tidur memang asa bantu benar bikin kualitas tidur kurang bagus coba buat rutinitas tidur baca buku meditasi dengerin musik tenang hindar kafein layar gadget tidur kalau susah mungkin ngobrol sama dokter bantu cari tahu apa kamu punya biasa tidur bikin rileks', 'q emilia aku rasa tidur pernah nyenyak bangun tidur malah lelah apa salah sama tidur a wah enak banget kalau bangun tidur malah lelah tidur atur biasa bikin tidur kualitas terlalu lama tempat tidur stres coba ceritain berapa jam kamu tidur apa kamu laku tidur mungkin atur jadwal tidur lebih konsisten']",
         "rutinitas - laku - gelisah - bikin - ritme - misal - atur - pakai - hindar - waktu",
         "0.8388236050437821",
         "False"
        ],
        [
         "32",
         "Bagaimana bedakan curhat tulus dan sekadar cari perhatian?",
         "Fokus pada tujuan: bila ingin didengar dan mencari solusi, itu valid. Jika hanya mengulang cerita tanpa keinginan berubah, pertimbangkan berbicara dengan profesional.",
         "q bagaimana beda curhat tulus sekadar cari perhati a fokus tuju bila dengar cari solusi valid ulang cerita ubah timbang bicara profesional",
         "-1",
         "-1_psikolog_ubah_diri_tenang",
         "['psikolog', 'ubah', 'diri', 'tenang', 'biar', 'bilang', 'kadang', 'sendiri', 'ngerasa', 'gimana']",
         "['q aku ngerasa dunia adil semua orang cuma mikirin diri sendiri bikin aku susah percaya sama orang normal sih gitu a asa kayak gitu wajar kok kalau kamu pernah kecewa punya alam bikin sulit percaya kalau terus rasa semua orang egois bikin kamu rasa makin sendiri coba pikir bareng sih orang hidup pernah nunjukin baik meski kecil mungkin mulai situ kamu pelan buka diri aku sini buat dengerin kalau kamu mau cerita lebih banyak', 'q aku ngerasa harga orang aku selalu fokus sama kurang gimana cara biar aku lebih positif a wah langkah besar kalau kamu sadar gitu coba mulai latih sederhana tiap hari cari satu positif orang meski kecil senyum cara bantu tulis buku catat kalau perlu lama kamu biasa lihat sisi baik orang mau coba mulai hari ceritain aku hasil', 'q aku suka sama diri sendiri apa aku ubah a sayang banget kamu rasa sama diri sendiri asa suka sama diri sendiri muncul tekan luar alam bikin kamu ragu coba mulai kecil tulis tiga kamu suka diri meski sederhana kalau asa sulit mungkin ngobrol sama orang bantu lihat sisi baik teman profesional bantu aku dukung kamu buat mulai suka diri kok']",
         "psikolog - ubah - diri - tenang - biar - bilang - kadang - sendiri - ngerasa - gimana",
         "0.0",
         "False"
        ],
        [
         "33",
         "Cara tetap humble tapi percaya diri?",
         "Rayakan kemajuan, bukan hanya hasil akhir. Sadar bahwa keberhasilan adalah kombinasi usaha diri dan dukungan lingkungan—pesan yang sering diangkat Michael Sandel.",
         "q cara tetap humble percaya diri a raya maju bukan hasil akhir sadar hasil kombinasi usaha diri dukung lingkung pesan sering angkat michael sandel",
         "3",
         "3_ekspektasi_sifat_laku_hasil",
         "['ekspektasi', 'sifat', 'laku', 'hasil', 'usaha', 'ego', 'coba', 'nilai', 'diri', 'bikin']",
         "['q emilia aku rasa cukup baik banding orang gimana cara aku percaya diri a asa cukup baik berat kamu sendiri kok rasa coba mulai catat kecil kamu laku baik tiap hari kecil apa bantu kamu lihat nilai diri sendiri hindar banding diri orang tiap orang punya jalan sendiri apa satu kamu suka diri meski kecil', 'q aku sering ngerasa orang lebih hebat aku bikin aku percaya diri apa aku lakuin a banding wajar bikin lupa uni diri sendiri coba fokus kuat apa kamu laku baik tulis capai kecil bikin kamu lebih harga diri sendiri apa satu kamu bangga diri', 'q aku suka banding diri sama orang bikin aku percaya diri apa aku laku a banding diri kayak jebak bikin lupa nilai diri sendiri coba tulis tiga kamu suka diri kamu bangga kecil apa bantu kamu fokus diri sendiri']",
         "ekspektasi - sifat - laku - hasil - usaha - ego - coba - nilai - diri - bikin",
         "1.0",
         "False"
        ],
        [
         "34",
         "Bagaimana menjadikan kegagalan sebagai guru?",
         "Setelah gagal, tulis maksimal tiga pelajaran penting. Kebiasaan reflection log membuat otak mengaitkan kegagalan dengan pembelajaran, bukan rasa malu.",
         "q bagaimana jadi gagal bagai guru a gagal tulis maksimal tiga ajar penting biasa reflection log buat otak kait gagal ajar bukan rasa malu",
         "27",
         "27_usaha_rencana_langkah_laku",
         "['usaha', 'rencana', 'langkah', 'laku', 'hasil', 'bikin', 'arti', 'diri', 'pikir', 'pantas']",
         "['q aku susah banget nerima gagal a gagal ajar meski rasa enak coba lihat gagal bagai ajar apa satu kamu ajar gagal akhir bikin kamu lebih kuat', 'q aku ngerasa usaha aku selalu gagal apa aku henti aja a aku paham rasa capek terus gagal gagal proses bukan akhir mungkin lihat apa bikin gagal coba dekat aku sini buat bantu pikirin langkah kecil apa satu ken kamu coba cara beda', 'q kadang aku rasa gagal terus apa aku laku a gagal bukan akhir proses coba lihat tiap gagal bagai ajar apa kamu ubah mulai semangat baru aku yakin kamu']",
         "usaha - rencana - langkah - laku - hasil - bikin - arti - diri - pikir - pantas",
         "0.4122887568981687",
         "False"
        ],
        [
         "35",
         "Mengapa sukses tidak selalu wajib?",
         "Tujuan hidup bisa berupa pertumbuhan, relasi, dan kontribusi—tak selalu terwakili angka sukses konvensional. Carol Dweck menekankan pentingnya growth mindset.",
         "q sukses selalu wajib a tuju hidup upa tumbuh relasi kontribusi tak selalu wakil angka sukses konvensional carol dweck tekan penting growth mindset",
         "-1",
         "-1_psikolog_ubah_diri_tenang",
         "['psikolog', 'ubah', 'diri', 'tenang', 'biar', 'bilang', 'kadang', 'sendiri', 'ngerasa', 'gimana']",
         "['q aku ngerasa dunia adil semua orang cuma mikirin diri sendiri bikin aku susah percaya sama orang normal sih gitu a asa kayak gitu wajar kok kalau kamu pernah kecewa punya alam bikin sulit percaya kalau terus rasa semua orang egois bikin kamu rasa makin sendiri coba pikir bareng sih orang hidup pernah nunjukin baik meski kecil mungkin mulai situ kamu pelan buka diri aku sini buat dengerin kalau kamu mau cerita lebih banyak', 'q aku ngerasa harga orang aku selalu fokus sama kurang gimana cara biar aku lebih positif a wah langkah besar kalau kamu sadar gitu coba mulai latih sederhana tiap hari cari satu positif orang meski kecil senyum cara bantu tulis buku catat kalau perlu lama kamu biasa lihat sisi baik orang mau coba mulai hari ceritain aku hasil', 'q aku suka sama diri sendiri apa aku ubah a sayang banget kamu rasa sama diri sendiri asa suka sama diri sendiri muncul tekan luar alam bikin kamu ragu coba mulai kecil tulis tiga kamu suka diri meski sederhana kalau asa sulit mungkin ngobrol sama orang bantu lihat sisi baik teman profesional bantu aku dukung kamu buat mulai suka diri kok']",
         "psikolog - ubah - diri - tenang - biar - bilang - kadang - sendiri - ngerasa - gimana",
         "0.0",
         "False"
        ],
        [
         "36",
         "Kenapa sukses terasa lebih nikmat setelah jatuh?",
         "Kontras pengalaman memicu pelepasan dopamin lebih besar saat target tercapai, membuat kemenangan terasa benar-benar earned.",
         "q sukses asa lebih nikmat jatuh a kontras alam picu lepas dopamin lebih besar target capai buat menang asa benar earned",
         "-1",
         "-1_psikolog_ubah_diri_tenang",
         "['psikolog', 'ubah', 'diri', 'tenang', 'biar', 'bilang', 'kadang', 'sendiri', 'ngerasa', 'gimana']",
         "['q aku ngerasa dunia adil semua orang cuma mikirin diri sendiri bikin aku susah percaya sama orang normal sih gitu a asa kayak gitu wajar kok kalau kamu pernah kecewa punya alam bikin sulit percaya kalau terus rasa semua orang egois bikin kamu rasa makin sendiri coba pikir bareng sih orang hidup pernah nunjukin baik meski kecil mungkin mulai situ kamu pelan buka diri aku sini buat dengerin kalau kamu mau cerita lebih banyak', 'q aku ngerasa harga orang aku selalu fokus sama kurang gimana cara biar aku lebih positif a wah langkah besar kalau kamu sadar gitu coba mulai latih sederhana tiap hari cari satu positif orang meski kecil senyum cara bantu tulis buku catat kalau perlu lama kamu biasa lihat sisi baik orang mau coba mulai hari ceritain aku hasil', 'q aku suka sama diri sendiri apa aku ubah a sayang banget kamu rasa sama diri sendiri asa suka sama diri sendiri muncul tekan luar alam bikin kamu ragu coba mulai kecil tulis tiga kamu suka diri meski sederhana kalau asa sulit mungkin ngobrol sama orang bantu lihat sisi baik teman profesional bantu aku dukung kamu buat mulai suka diri kok']",
         "psikolog - ubah - diri - tenang - biar - bilang - kadang - sendiri - ngerasa - gimana",
         "0.0",
         "False"
        ],
        [
         "37",
         "Bagaimana langkah pertama berbelas kasih pada diri?",
         "Gunakan tiga komponen Kristin Neff: mindfulness (sadari rasa sakit), common humanity (ingat orang lain juga pernah gagal), dan kindness (beri kata-kata lembut). Lima menit latihan sudah cukup.",
         "q bagaimana langkah pertama belas kasih diri a tiga komponen kristin neff mindfulness sadar rasa sakit common humanity ingat orang pernah gagal kindness beri kata lembut lima menit latih cukup",
         "37",
         "37_tenangin_gimana_buat_bagaimana",
         "['tenangin', 'gimana', 'buat', 'bagaimana', 'tenang', 'balikin', 'susah', 'mula', 'coba', 'pelan']",
         "['q aku sering rasa cemas lebih banyak uji sehat keluarga apa laku a keren banget kamu ceritain cemas wajar kalau udah lebih bikin capek coba latih mindfulness misal fokus napas kamu lama beberapa menit tiap hari tarik napas rasain udara masuk keluar bantu pikir lebih tenang fokus sekarang bukan khawatir masa depan mau coba bareng sekarang', 'q dengar meditasi sadar tahu cara apa bagaimana mulai a wah kamu penasaran sama meditasi sadar langkah keren tuju tenang mindfulness meditation cara latih pikir fokus nikmat napas suara hakim jeda kacau pikir mulai aja 5 menit duduk nyaman tutup mata tarik napas perhati napas masuk-keluar kalau pikir layang apa tarik balik pelan seru kan apa bikin kamu coba kapan kamu luang waktu sebentar', 'q aku ken coba meditasi buat tenangin pikir tahu cara bantu a keren banget kamu mau coba meditasi aku bantu kasih langkah sederhana cari tempat tenang duduk nyaman lalu fokus napas tarik napas keluar perlahan kalau pikir lari mana apa cuma balikin fokus napas coba mulai 2-3 menit dulu kalau mau aplikasi meditasi bantu kamu coba ikut kelas meditasi buat ajar lebih']",
         "tenangin - gimana - buat - bagaimana - tenang - balikin - susah - mula - coba - pelan",
         "1.0",
         "False"
        ],
        [
         "38",
         "Apa tanda bandwidth kognitifku tersedot rumination?",
         "Kamu membaca satu halaman buku tapi tak ingat isinya, atau sering lupa menaruh barang. Itu sinyal pikiran repetitif mengambil ruang fokus.",
         "q apa tanda bandwidth kognitif sedot rumination a kamu baca satu halaman buku tak ingat isi sering lupa taruh barang sinyal pikir repetitif ambil ruang fokus",
         "5",
         "5_latih_susah_sulit_jangka",
         "['latih', 'susah', 'sulit', 'jangka', 'distraksi', 'tenang', 'laku', 'bagaimana', 'kadang', 'rutin']",
         "['q aku sering ngerasa otak penuh kalau ajar banyak gimana ngatasinnya a rasa penuh tanda otak butuh jeda coba atur jadwal ajar sesi pendek misal 25 menit ajar 5 menit istirahat teknik bikin otak lelah jangan lupa tidur cukup tidur bantu otak atur ulang informasi kalau asa berat coba pilih satu topik dulu bikin ringkas baru lanjut pelan aja perlu buru', 'q aku rasa otak lelet buat ingat ajar saran a ajar memang kadang asa berat kamu coba teknik ajar ulang ajar coba ulas materi beberapa hari misal bikin catat ringkas ceritain temen bantu otak simpan informasi lebih lama jangan lupa istirahat cukup otak lelah susah serap informasi kamu asal konsisten', 'q aku rasa ajar sia cepet lupa apa salah a ajar memang asa berat kalau informasi cepat hilang ingat salah kok proses ajar libat cara otak simpan informasi kadang butuh ulang biar nempel coba pecah materi jadi kecil ulang pelan kamu ajar tempat nyaman biar otak lebih fokus']",
         "latih - susah - sulit - jangka - distraksi - tenang - laku - bagaimana - kadang - rutin",
         "1.0",
         "False"
        ],
        [
         "39",
         "Bagaimana keluar dari \"kotak tak terlihat\" setelah gagal?",
         "Ubah lingkungan kecil—coba workspace baru atau temui mentor berbeda. Stimulus baru memicu ide segar dan membantu membongkar kotak mental.",
         "q bagaimana keluar kotak tak lihat gagal a ubah lingkung kecil coba workspace baru temu mentor beda stimulus baru picu ide segar bantu bongkar kotak mental",
         "42",
         "42_bagaimana_bilang_diri_tulis",
         "['bagaimana', 'bilang', 'diri', 'tulis', 'eksekusi', 'tak', 'respons', 'punya', 'gustav', 'coba']",
         "['q maju hidup rasa hambat apa bantu a maju tanda kamu punya semangat besar carl gustav jung bilang progres jadi imbang butuh batin dunia luar kalau rasa hambat coba tulis satu tuju kecil capai minggu ajar skill baru declutter meja kerja refleksi apa bikin kamu stuck langkah kecil bawa ubah besar apa tuju pikir', 'q rasa sering gagal tuju terlalu besar bagaimana cara tetap tuju realistis a kamu bijak sadar langkah tuju imbang alfred adler bilang kurang minat sosial tuju terlalu tinggi bikin rasa gagal coba pecah tuju besar jadi langkah kecil ajar 10 menit hari alih kuasa skill baru tulis satu tuju kecil minggu apa satu langkah realistis bikin kamu semangat', 'q maju rasa hambat apa laku a maju tunjuk semangat besar diri carl gustav jung bilang progres jadi imbang dunia luar batin kalau hambat tulis satu tuju kecil minggu ajar skill baru rapi ruang kerja refleksi apa bikin kamu stuck langkah kecil bawa ubah besar apa tuju pikir']",
         "bagaimana - bilang - diri - tulis - eksekusi - tak - respons - punya - gustav - coba",
         "1.0",
         "False"
        ],
        [
         "40",
         "Bagaimana menghentikan drama internal?",
         "Coba \"time-box worry\": beri 10 menit khusus untuk khawatir, lalu alihkan diri ke aktivitas fisik. Batas waktu membuat pikiran tak terus melebar.",
         "q bagaimana henti drama internal a coba time-box worry beri 10 menit khusus khawatir lalu alih diri aktivitas fisik batas waktu buat pikir tak terus lebar",
         "5",
         "5_latih_susah_sulit_jangka",
         "['latih', 'susah', 'sulit', 'jangka', 'distraksi', 'tenang', 'laku', 'bagaimana', 'kadang', 'rutin']",
         "['q aku sering ngerasa otak penuh kalau ajar banyak gimana ngatasinnya a rasa penuh tanda otak butuh jeda coba atur jadwal ajar sesi pendek misal 25 menit ajar 5 menit istirahat teknik bikin otak lelah jangan lupa tidur cukup tidur bantu otak atur ulang informasi kalau asa berat coba pilih satu topik dulu bikin ringkas baru lanjut pelan aja perlu buru', 'q aku rasa otak lelet buat ingat ajar saran a ajar memang kadang asa berat kamu coba teknik ajar ulang ajar coba ulas materi beberapa hari misal bikin catat ringkas ceritain temen bantu otak simpan informasi lebih lama jangan lupa istirahat cukup otak lelah susah serap informasi kamu asal konsisten', 'q aku rasa ajar sia cepet lupa apa salah a ajar memang asa berat kalau informasi cepat hilang ingat salah kok proses ajar libat cara otak simpan informasi kadang butuh ulang biar nempel coba pecah materi jadi kecil ulang pelan kamu ajar tempat nyaman biar otak lebih fokus']",
         "latih - susah - sulit - jangka - distraksi - tenang - laku - bagaimana - kadang - rutin",
         "1.0",
         "False"
        ],
        [
         "41",
         "Cara minta maaf ke teman yang sudah lama diabaikan?",
         "Kirim pesan lebih dulu mengakui jarak, ajak bertemu, lalu gunakan formula maaf tiga langkah—ringkas peristiwa, ucap maaf tulus, dan tawarkan komitmen perubahan.",
         "q cara minta maaf teman lama abai a kirim pesan lebih dulu aku jarak ajak temu lalu formula maaf tiga langkah ringkas peristiwa ucap maaf tulus tawar komitmen ubah",
         "50",
         "50_suportif_minta_gimana_ngerasa",
         "['suportif', 'minta', 'gimana', 'ngerasa', 'buat', 'tulis', 'bantu', 'diri', 'ucap', 'coba']",
         "['q aku rasa salah banget atas udah jadi gimana cara ngatasin asa a rasa salah asa berat kayak beban hilang coba tanya diri sendiri apa bikin kamu rasa salah kamu laku baik minta maaf lakuin baik kecil kalau ubah coba tulis asa kertas lalu ingat diri kamu manusia salah ngobrol sama orang suportif bantu ringanin beban kamu layak maaf diri sendiri', 'q aku susah banget maafin diri sendiri atas salah masa lalu a maaf diri memang gampang coba tulis salah lalu tanya apa ajar aku jadi jembatan buat maaf diri lang maju', 'q aku rasa maaf diri sendiri atas salah pernah aku buat apa aku laku a maaf diri sendiri proses kamu layak coba tulis surat diri sendiri ceritain salah kata kamu sedang ajar ingat salah jadi manusia kamu hak bahagia']",
         "suportif - minta - gimana - ngerasa - buat - tulis - bantu - diri - ucap - coba",
         "1.0",
         "False"
        ],
        [
         "42",
         "Kenapa self-esteem disebut pusat pertahanan emosional?",
         "Persepsi dirimu menentukan cara menilai ancaman psikologis. Self-esteem kuat ibarat antibodi; self-esteem lemah membuat stres gampang \"menginfeksi\", jelas Roy Baumeister.",
         "q self-esteem sebut pusat tahan emosional a persepsi diri cara nilai ancam psikologis self-esteem kuat ibarat antibodi self-esteem lemah buat stres gampang infeksi jelas roy baumeister",
         "3",
         "3_ekspektasi_sifat_laku_hasil",
         "['ekspektasi', 'sifat', 'laku', 'hasil', 'usaha', 'ego', 'coba', 'nilai', 'diri', 'bikin']",
         "['q emilia aku rasa cukup baik banding orang gimana cara aku percaya diri a asa cukup baik berat kamu sendiri kok rasa coba mulai catat kecil kamu laku baik tiap hari kecil apa bantu kamu lihat nilai diri sendiri hindar banding diri orang tiap orang punya jalan sendiri apa satu kamu suka diri meski kecil', 'q aku sering ngerasa orang lebih hebat aku bikin aku percaya diri apa aku lakuin a banding wajar bikin lupa uni diri sendiri coba fokus kuat apa kamu laku baik tulis capai kecil bikin kamu lebih harga diri sendiri apa satu kamu bangga diri', 'q aku suka banding diri sama orang bikin aku percaya diri apa aku laku a banding diri kayak jebak bikin lupa nilai diri sendiri coba tulis tiga kamu suka diri kamu bangga kecil apa bantu kamu fokus diri sendiri']",
         "ekspektasi - sifat - laku - hasil - usaha - ego - coba - nilai - diri - bikin",
         "1.0",
         "False"
        ],
        [
         "43",
         "Apa manfaat menunjukkan diri berharga ke publik?",
         "Orang lain akan menyesuaikan caranya memperlakukanmu. Konsistensi menghargai diri membuat batasanmu lebih dihormati.",
         "q apa manfaat tunjuk diri harga publik a orang sesuai cara laku konsistensi harga diri buat batas lebih hormat",
         "3",
         "3_ekspektasi_sifat_laku_hasil",
         "['ekspektasi', 'sifat', 'laku', 'hasil', 'usaha', 'ego', 'coba', 'nilai', 'diri', 'bikin']",
         "['q emilia aku rasa cukup baik banding orang gimana cara aku percaya diri a asa cukup baik berat kamu sendiri kok rasa coba mulai catat kecil kamu laku baik tiap hari kecil apa bantu kamu lihat nilai diri sendiri hindar banding diri orang tiap orang punya jalan sendiri apa satu kamu suka diri meski kecil', 'q aku sering ngerasa orang lebih hebat aku bikin aku percaya diri apa aku lakuin a banding wajar bikin lupa uni diri sendiri coba fokus kuat apa kamu laku baik tulis capai kecil bikin kamu lebih harga diri sendiri apa satu kamu bangga diri', 'q aku suka banding diri sama orang bikin aku percaya diri apa aku laku a banding diri kayak jebak bikin lupa nilai diri sendiri coba tulis tiga kamu suka diri kamu bangga kecil apa bantu kamu fokus diri sendiri']",
         "ekspektasi - sifat - laku - hasil - usaha - ego - coba - nilai - diri - bikin",
         "1.0",
         "False"
        ],
        [
         "44",
         "Bagaimana melihat pujian tanpa beban performa?",
         "Sadari bahwa pujian kadang merefleksikan kebutuhan pemberi untuk mengekspresikan apresiasi. Dengan memahami ini, kamu menerima pujian tanpa terjebak perfeksionisme.",
         "q bagaimana lihat puji beban performa a sadar puji kadang refleksi butuh beri ekspresi apresiasi paham kamu terima puji jebak perfeksionisme",
         "-1",
         "-1_psikolog_ubah_diri_tenang",
         "['psikolog', 'ubah', 'diri', 'tenang', 'biar', 'bilang', 'kadang', 'sendiri', 'ngerasa', 'gimana']",
         "['q aku ngerasa dunia adil semua orang cuma mikirin diri sendiri bikin aku susah percaya sama orang normal sih gitu a asa kayak gitu wajar kok kalau kamu pernah kecewa punya alam bikin sulit percaya kalau terus rasa semua orang egois bikin kamu rasa makin sendiri coba pikir bareng sih orang hidup pernah nunjukin baik meski kecil mungkin mulai situ kamu pelan buka diri aku sini buat dengerin kalau kamu mau cerita lebih banyak', 'q aku ngerasa harga orang aku selalu fokus sama kurang gimana cara biar aku lebih positif a wah langkah besar kalau kamu sadar gitu coba mulai latih sederhana tiap hari cari satu positif orang meski kecil senyum cara bantu tulis buku catat kalau perlu lama kamu biasa lihat sisi baik orang mau coba mulai hari ceritain aku hasil', 'q aku suka sama diri sendiri apa aku ubah a sayang banget kamu rasa sama diri sendiri asa suka sama diri sendiri muncul tekan luar alam bikin kamu ragu coba mulai kecil tulis tiga kamu suka diri meski sederhana kalau asa sulit mungkin ngobrol sama orang bantu lihat sisi baik teman profesional bantu aku dukung kamu buat mulai suka diri kok']",
         "psikolog - ubah - diri - tenang - biar - bilang - kadang - sendiri - ngerasa - gimana",
         "0.0",
         "False"
        ],
        [
         "45",
         "Bagaimana merespons pujian yang terasa lebay?",
         "Balas, \"Senang itu bermanfaat buatmu, terima kasih,\" lalu alihkan percakapan ke proses, bukan sosokmu. Cara ini meredam rasa canggung.",
         "q bagaimana respons puji asa lebay a balas senang manfaat buat terima kasih lalu alih cakap proses bukan sosok cara redam rasa canggung",
         "-1",
         "-1_psikolog_ubah_diri_tenang",
         "['psikolog', 'ubah', 'diri', 'tenang', 'biar', 'bilang', 'kadang', 'sendiri', 'ngerasa', 'gimana']",
         "['q aku ngerasa dunia adil semua orang cuma mikirin diri sendiri bikin aku susah percaya sama orang normal sih gitu a asa kayak gitu wajar kok kalau kamu pernah kecewa punya alam bikin sulit percaya kalau terus rasa semua orang egois bikin kamu rasa makin sendiri coba pikir bareng sih orang hidup pernah nunjukin baik meski kecil mungkin mulai situ kamu pelan buka diri aku sini buat dengerin kalau kamu mau cerita lebih banyak', 'q aku ngerasa harga orang aku selalu fokus sama kurang gimana cara biar aku lebih positif a wah langkah besar kalau kamu sadar gitu coba mulai latih sederhana tiap hari cari satu positif orang meski kecil senyum cara bantu tulis buku catat kalau perlu lama kamu biasa lihat sisi baik orang mau coba mulai hari ceritain aku hasil', 'q aku suka sama diri sendiri apa aku ubah a sayang banget kamu rasa sama diri sendiri asa suka sama diri sendiri muncul tekan luar alam bikin kamu ragu coba mulai kecil tulis tiga kamu suka diri meski sederhana kalau asa sulit mungkin ngobrol sama orang bantu lihat sisi baik teman profesional bantu aku dukung kamu buat mulai suka diri kok']",
         "psikolog - ubah - diri - tenang - biar - bilang - kadang - sendiri - ngerasa - gimana",
         "0.0",
         "False"
        ],
        [
         "46",
         "Bagaimana belajar kendali diri dari orang lain?",
         "Cari role model yang pernah menghadapi situasi serupa, pelajari strateginya, lalu adaptasi. Observational learning ala Albert Bandura efektif dan hemat waktu.",
         "q bagaimana ajar kendali diri orang a cari role model pernah hadap situasi rupa ajar strategi lalu adaptasi observational learning ala albert bandura efektif hemat waktu",
         "-1",
         "-1_psikolog_ubah_diri_tenang",
         "['psikolog', 'ubah', 'diri', 'tenang', 'biar', 'bilang', 'kadang', 'sendiri', 'ngerasa', 'gimana']",
         "['q aku ngerasa dunia adil semua orang cuma mikirin diri sendiri bikin aku susah percaya sama orang normal sih gitu a asa kayak gitu wajar kok kalau kamu pernah kecewa punya alam bikin sulit percaya kalau terus rasa semua orang egois bikin kamu rasa makin sendiri coba pikir bareng sih orang hidup pernah nunjukin baik meski kecil mungkin mulai situ kamu pelan buka diri aku sini buat dengerin kalau kamu mau cerita lebih banyak', 'q aku ngerasa harga orang aku selalu fokus sama kurang gimana cara biar aku lebih positif a wah langkah besar kalau kamu sadar gitu coba mulai latih sederhana tiap hari cari satu positif orang meski kecil senyum cara bantu tulis buku catat kalau perlu lama kamu biasa lihat sisi baik orang mau coba mulai hari ceritain aku hasil', 'q aku suka sama diri sendiri apa aku ubah a sayang banget kamu rasa sama diri sendiri asa suka sama diri sendiri muncul tekan luar alam bikin kamu ragu coba mulai kecil tulis tiga kamu suka diri meski sederhana kalau asa sulit mungkin ngobrol sama orang bantu lihat sisi baik teman profesional bantu aku dukung kamu buat mulai suka diri kok']",
         "psikolog - ubah - diri - tenang - biar - bilang - kadang - sendiri - ngerasa - gimana",
         "0.0",
         "False"
        ],
        [
         "47",
         "Kenapa penting memasang deadline konkret?",
         "Deadline mengaktifkan sense of urgency tanpa panik. Hukum Parkinson mengatakan pekerjaan mengembang sesuai waktu tersedia; tenggat mencegah itu.",
         "q penting pasang deadline konkret a deadline aktif sense of urgency panik hukum parkinson kata kerja kembang sesuai waktu sedia tenggat cegah",
         "5",
         "5_latih_susah_sulit_jangka",
         "['latih', 'susah', 'sulit', 'jangka', 'distraksi', 'tenang', 'laku', 'bagaimana', 'kadang', 'rutin']",
         "['q aku sering ngerasa otak penuh kalau ajar banyak gimana ngatasinnya a rasa penuh tanda otak butuh jeda coba atur jadwal ajar sesi pendek misal 25 menit ajar 5 menit istirahat teknik bikin otak lelah jangan lupa tidur cukup tidur bantu otak atur ulang informasi kalau asa berat coba pilih satu topik dulu bikin ringkas baru lanjut pelan aja perlu buru', 'q aku rasa otak lelet buat ingat ajar saran a ajar memang kadang asa berat kamu coba teknik ajar ulang ajar coba ulas materi beberapa hari misal bikin catat ringkas ceritain temen bantu otak simpan informasi lebih lama jangan lupa istirahat cukup otak lelah susah serap informasi kamu asal konsisten', 'q aku rasa ajar sia cepet lupa apa salah a ajar memang asa berat kalau informasi cepat hilang ingat salah kok proses ajar libat cara otak simpan informasi kadang butuh ulang biar nempel coba pecah materi jadi kecil ulang pelan kamu ajar tempat nyaman biar otak lebih fokus']",
         "latih - susah - sulit - jangka - distraksi - tenang - laku - bagaimana - kadang - rutin",
         "0.714885140026197",
         "False"
        ],
        [
         "48",
         "Bagaimana menyiapkan \"plan B\"?",
         "Sebelum mulai, tulis potensi hambatan—misalnya kehabisan dana—dan skenario solusi. Mental rehearsal ini menurunkan kecemasan, kata Gabriele Oettingen.",
         "q bagaimana siap plan b a mulai tulis potensi hambat misal habis dana skenario solusi mental rehearsal turun cemas kata gabriele oettingen",
         "42",
         "42_bagaimana_bilang_diri_tulis",
         "['bagaimana', 'bilang', 'diri', 'tulis', 'eksekusi', 'tak', 'respons', 'punya', 'gustav', 'coba']",
         "['q maju hidup rasa hambat apa bantu a maju tanda kamu punya semangat besar carl gustav jung bilang progres jadi imbang butuh batin dunia luar kalau rasa hambat coba tulis satu tuju kecil capai minggu ajar skill baru declutter meja kerja refleksi apa bikin kamu stuck langkah kecil bawa ubah besar apa tuju pikir', 'q rasa sering gagal tuju terlalu besar bagaimana cara tetap tuju realistis a kamu bijak sadar langkah tuju imbang alfred adler bilang kurang minat sosial tuju terlalu tinggi bikin rasa gagal coba pecah tuju besar jadi langkah kecil ajar 10 menit hari alih kuasa skill baru tulis satu tuju kecil minggu apa satu langkah realistis bikin kamu semangat', 'q maju rasa hambat apa laku a maju tunjuk semangat besar diri carl gustav jung bilang progres jadi imbang dunia luar batin kalau hambat tulis satu tuju kecil minggu ajar skill baru rapi ruang kerja refleksi apa bikin kamu stuck langkah kecil bawa ubah besar apa tuju pikir']",
         "bagaimana - bilang - diri - tulis - eksekusi - tak - respons - punya - gustav - coba",
         "1.0",
         "False"
        ],
        [
         "49",
         "Mengapa mengambil tanggung jawab membantu pulih dari kegagalan?",
         "Tanggung jawab memulihkan rasa kontrol. Ketika merasa memegang kendali, otak berhenti memposisikan diri sebagai korban dan mulai merancang aksi baru.",
         "q ambil tanggung jawab bantu pulih gagal a tanggung jawab pulih rasa kontrol rasa pegang kendali otak henti posisi diri bagai korban mulai rancang aksi baru",
         "-1",
         "-1_psikolog_ubah_diri_tenang",
         "['psikolog', 'ubah', 'diri', 'tenang', 'biar', 'bilang', 'kadang', 'sendiri', 'ngerasa', 'gimana']",
         "['q aku ngerasa dunia adil semua orang cuma mikirin diri sendiri bikin aku susah percaya sama orang normal sih gitu a asa kayak gitu wajar kok kalau kamu pernah kecewa punya alam bikin sulit percaya kalau terus rasa semua orang egois bikin kamu rasa makin sendiri coba pikir bareng sih orang hidup pernah nunjukin baik meski kecil mungkin mulai situ kamu pelan buka diri aku sini buat dengerin kalau kamu mau cerita lebih banyak', 'q aku ngerasa harga orang aku selalu fokus sama kurang gimana cara biar aku lebih positif a wah langkah besar kalau kamu sadar gitu coba mulai latih sederhana tiap hari cari satu positif orang meski kecil senyum cara bantu tulis buku catat kalau perlu lama kamu biasa lihat sisi baik orang mau coba mulai hari ceritain aku hasil', 'q aku suka sama diri sendiri apa aku ubah a sayang banget kamu rasa sama diri sendiri asa suka sama diri sendiri muncul tekan luar alam bikin kamu ragu coba mulai kecil tulis tiga kamu suka diri meski sederhana kalau asa sulit mungkin ngobrol sama orang bantu lihat sisi baik teman profesional bantu aku dukung kamu buat mulai suka diri kok']",
         "psikolog - ubah - diri - tenang - biar - bilang - kadang - sendiri - ngerasa - gimana",
         "0.0",
         "False"
        ]
       ],
       "shape": {
        "columns": 10,
        "rows": 7500
       }
      },
      "text/html": [
       "<div>\n",
       "<style scoped>\n",
       "    .dataframe tbody tr th:only-of-type {\n",
       "        vertical-align: middle;\n",
       "    }\n",
       "\n",
       "    .dataframe tbody tr th {\n",
       "        vertical-align: top;\n",
       "    }\n",
       "\n",
       "    .dataframe thead th {\n",
       "        text-align: right;\n",
       "    }\n",
       "</style>\n",
       "<table border=\"1\" class=\"dataframe\">\n",
       "  <thead>\n",
       "    <tr style=\"text-align: right;\">\n",
       "      <th></th>\n",
       "      <th>question</th>\n",
       "      <th>answer</th>\n",
       "      <th>Document</th>\n",
       "      <th>Topic</th>\n",
       "      <th>Name</th>\n",
       "      <th>Representation</th>\n",
       "      <th>Representative_Docs</th>\n",
       "      <th>Top_n_words</th>\n",
       "      <th>Probability</th>\n",
       "      <th>Representative_document</th>\n",
       "    </tr>\n",
       "  </thead>\n",
       "  <tbody>\n",
       "    <tr>\n",
       "      <th>0</th>\n",
       "      <td>Bagaimana cara berhenti menyalahkan diri sendi...</td>\n",
       "      <td>Mulailah memetakan fakta: apa yang benar-benar...</td>\n",
       "      <td>q bagaimana cara henti salah diri sendiri atas...</td>\n",
       "      <td>-1</td>\n",
       "      <td>-1_psikolog_ubah_diri_tenang</td>\n",
       "      <td>['psikolog', 'ubah', 'diri', 'tenang', 'biar',...</td>\n",
       "      <td>['q aku ngerasa dunia adil semua orang cuma mi...</td>\n",
       "      <td>psikolog - ubah - diri - tenang - biar - bilan...</td>\n",
       "      <td>0.000000</td>\n",
       "      <td>False</td>\n",
       "    </tr>\n",
       "    <tr>\n",
       "      <th>1</th>\n",
       "      <td>Kenapa, ya, aku jadi menjauh dari teman setela...</td>\n",
       "      <td>Perasaan bersalah yang belum diproses menimbul...</td>\n",
       "      <td>q aku jadi jauh teman laku salah a asa salah p...</td>\n",
       "      <td>-1</td>\n",
       "      <td>-1_psikolog_ubah_diri_tenang</td>\n",
       "      <td>['psikolog', 'ubah', 'diri', 'tenang', 'biar',...</td>\n",
       "      <td>['q aku ngerasa dunia adil semua orang cuma mi...</td>\n",
       "      <td>psikolog - ubah - diri - tenang - biar - bilan...</td>\n",
       "      <td>0.000000</td>\n",
       "      <td>False</td>\n",
       "    </tr>\n",
       "    <tr>\n",
       "      <th>2</th>\n",
       "      <td>Seperti apa contoh permintaan maaf yang efektif?</td>\n",
       "      <td>Pertama, rangkum inti peristiwa: \"Aku sadar ke...</td>\n",
       "      <td>q apa contoh minta maaf efektif a pertama rang...</td>\n",
       "      <td>-1</td>\n",
       "      <td>-1_psikolog_ubah_diri_tenang</td>\n",
       "      <td>['psikolog', 'ubah', 'diri', 'tenang', 'biar',...</td>\n",
       "      <td>['q aku ngerasa dunia adil semua orang cuma mi...</td>\n",
       "      <td>psikolog - ubah - diri - tenang - biar - bilan...</td>\n",
       "      <td>0.000000</td>\n",
       "      <td>False</td>\n",
       "    </tr>\n",
       "    <tr>\n",
       "      <th>3</th>\n",
       "      <td>Kenapa aku perlu memaafkan diriku sebelum oran...</td>\n",
       "      <td>Self-forgiveness memutus siklus rasa bersalah ...</td>\n",
       "      <td>q aku perlu maaf diri orang a self-forgiveness...</td>\n",
       "      <td>50</td>\n",
       "      <td>50_suportif_minta_gimana_ngerasa</td>\n",
       "      <td>['suportif', 'minta', 'gimana', 'ngerasa', 'bu...</td>\n",
       "      <td>['q aku rasa salah banget atas udah jadi giman...</td>\n",
       "      <td>suportif - minta - gimana - ngerasa - buat - t...</td>\n",
       "      <td>1.000000</td>\n",
       "      <td>False</td>\n",
       "    </tr>\n",
       "    <tr>\n",
       "      <th>4</th>\n",
       "      <td>Langkah pertama menata ulang hidup setelah kes...</td>\n",
       "      <td>Mulailah dari hal simpel: tidur cukup, rutinit...</td>\n",
       "      <td>q langkah pertama tata ulang hidup salah apa a...</td>\n",
       "      <td>5</td>\n",
       "      <td>5_latih_susah_sulit_jangka</td>\n",
       "      <td>['latih', 'susah', 'sulit', 'jangka', 'distrak...</td>\n",
       "      <td>['q aku sering ngerasa otak penuh kalau ajar b...</td>\n",
       "      <td>latih - susah - sulit - jangka - distraksi - t...</td>\n",
       "      <td>0.868044</td>\n",
       "      <td>False</td>\n",
       "    </tr>\n",
       "    <tr>\n",
       "      <th>...</th>\n",
       "      <td>...</td>\n",
       "      <td>...</td>\n",
       "      <td>...</td>\n",
       "      <td>...</td>\n",
       "      <td>...</td>\n",
       "      <td>...</td>\n",
       "      <td>...</td>\n",
       "      <td>...</td>\n",
       "      <td>...</td>\n",
       "      <td>...</td>\n",
       "    </tr>\n",
       "    <tr>\n",
       "      <th>7495</th>\n",
       "      <td>Aku kesal banget sama rekan kerja yang selalu ...</td>\n",
       "      <td>Kesal itu wajar, tapi kasih pelajaran langsung...</td>\n",
       "      <td>q aku kesal banget sama rekan kerja selalu amb...</td>\n",
       "      <td>4</td>\n",
       "      <td>4_frustrasi_skill_feedback_stres</td>\n",
       "      <td>['frustrasi', 'skill', 'feedback', 'stres', 'l...</td>\n",
       "      <td>['q aku sering ngerasa tempat kerja apa aku la...</td>\n",
       "      <td>frustrasi - skill - feedback - stres - laku - ...</td>\n",
       "      <td>0.574905</td>\n",
       "      <td>False</td>\n",
       "    </tr>\n",
       "    <tr>\n",
       "      <th>7496</th>\n",
       "      <td>Aku merasa nggak cukup baik dibandingkan orang...</td>\n",
       "      <td>Perasaan itu sering datang, tapi coba ingat: k...</td>\n",
       "      <td>q aku rasa cukup baik banding orang gimana car...</td>\n",
       "      <td>3</td>\n",
       "      <td>3_ekspektasi_sifat_laku_hasil</td>\n",
       "      <td>['ekspektasi', 'sifat', 'laku', 'hasil', 'usah...</td>\n",
       "      <td>['q emilia aku rasa cukup baik banding orang g...</td>\n",
       "      <td>ekspektasi - sifat - laku - hasil - usaha - eg...</td>\n",
       "      <td>0.892336</td>\n",
       "      <td>False</td>\n",
       "    </tr>\n",
       "    <tr>\n",
       "      <th>7497</th>\n",
       "      <td>Aku pengen ngeluh terus kalau kerjaan nggak ad...</td>\n",
       "      <td>Ngeluh sesekali boleh, tapi kalau terus-terusa...</td>\n",
       "      <td>q aku ken ngeluh terus kalau kerja adil wajar ...</td>\n",
       "      <td>4</td>\n",
       "      <td>4_frustrasi_skill_feedback_stres</td>\n",
       "      <td>['frustrasi', 'skill', 'feedback', 'stres', 'l...</td>\n",
       "      <td>['q aku sering ngerasa tempat kerja apa aku la...</td>\n",
       "      <td>frustrasi - skill - feedback - stres - laku - ...</td>\n",
       "      <td>0.840464</td>\n",
       "      <td>False</td>\n",
       "    </tr>\n",
       "    <tr>\n",
       "      <th>7498</th>\n",
       "      <td>Aku merasa orang lain nggak pantas dapat posis...</td>\n",
       "      <td>Wajar kalau merasa kecewa, tapi fokus ke orang...</td>\n",
       "      <td>q aku rasa orang pantas posisi lebih tinggi ak...</td>\n",
       "      <td>3</td>\n",
       "      <td>3_ekspektasi_sifat_laku_hasil</td>\n",
       "      <td>['ekspektasi', 'sifat', 'laku', 'hasil', 'usah...</td>\n",
       "      <td>['q emilia aku rasa cukup baik banding orang g...</td>\n",
       "      <td>ekspektasi - sifat - laku - hasil - usaha - eg...</td>\n",
       "      <td>0.942664</td>\n",
       "      <td>False</td>\n",
       "    </tr>\n",
       "    <tr>\n",
       "      <th>7499</th>\n",
       "      <td>Aku takut gagal kalau coba hal baru. Apa aku h...</td>\n",
       "      <td>Takut gagal itu normal, tapi zona nyaman bisa ...</td>\n",
       "      <td>q aku takut gagal kalau coba baru apa aku teta...</td>\n",
       "      <td>11</td>\n",
       "      <td>11_anggap_diri_laku_tiap</td>\n",
       "      <td>['anggap', 'diri', 'laku', 'tiap', 'misal', 'f...</td>\n",
       "      <td>['q aku takut banget gagal jadi sering berani ...</td>\n",
       "      <td>anggap - diri - laku - tiap - misal - fokus - ...</td>\n",
       "      <td>0.920184</td>\n",
       "      <td>False</td>\n",
       "    </tr>\n",
       "  </tbody>\n",
       "</table>\n",
       "<p>7500 rows × 10 columns</p>\n",
       "</div>"
      ],
      "text/plain": [
       "                                               question  \\\n",
       "0     Bagaimana cara berhenti menyalahkan diri sendi...   \n",
       "1     Kenapa, ya, aku jadi menjauh dari teman setela...   \n",
       "2      Seperti apa contoh permintaan maaf yang efektif?   \n",
       "3     Kenapa aku perlu memaafkan diriku sebelum oran...   \n",
       "4     Langkah pertama menata ulang hidup setelah kes...   \n",
       "...                                                 ...   \n",
       "7495  Aku kesal banget sama rekan kerja yang selalu ...   \n",
       "7496  Aku merasa nggak cukup baik dibandingkan orang...   \n",
       "7497  Aku pengen ngeluh terus kalau kerjaan nggak ad...   \n",
       "7498  Aku merasa orang lain nggak pantas dapat posis...   \n",
       "7499  Aku takut gagal kalau coba hal baru. Apa aku h...   \n",
       "\n",
       "                                                 answer  \\\n",
       "0     Mulailah memetakan fakta: apa yang benar-benar...   \n",
       "1     Perasaan bersalah yang belum diproses menimbul...   \n",
       "2     Pertama, rangkum inti peristiwa: \"Aku sadar ke...   \n",
       "3     Self-forgiveness memutus siklus rasa bersalah ...   \n",
       "4     Mulailah dari hal simpel: tidur cukup, rutinit...   \n",
       "...                                                 ...   \n",
       "7495  Kesal itu wajar, tapi kasih pelajaran langsung...   \n",
       "7496  Perasaan itu sering datang, tapi coba ingat: k...   \n",
       "7497  Ngeluh sesekali boleh, tapi kalau terus-terusa...   \n",
       "7498  Wajar kalau merasa kecewa, tapi fokus ke orang...   \n",
       "7499  Takut gagal itu normal, tapi zona nyaman bisa ...   \n",
       "\n",
       "                                               Document  Topic  \\\n",
       "0     q bagaimana cara henti salah diri sendiri atas...     -1   \n",
       "1     q aku jadi jauh teman laku salah a asa salah p...     -1   \n",
       "2     q apa contoh minta maaf efektif a pertama rang...     -1   \n",
       "3     q aku perlu maaf diri orang a self-forgiveness...     50   \n",
       "4     q langkah pertama tata ulang hidup salah apa a...      5   \n",
       "...                                                 ...    ...   \n",
       "7495  q aku kesal banget sama rekan kerja selalu amb...      4   \n",
       "7496  q aku rasa cukup baik banding orang gimana car...      3   \n",
       "7497  q aku ken ngeluh terus kalau kerja adil wajar ...      4   \n",
       "7498  q aku rasa orang pantas posisi lebih tinggi ak...      3   \n",
       "7499  q aku takut gagal kalau coba baru apa aku teta...     11   \n",
       "\n",
       "                                  Name  \\\n",
       "0         -1_psikolog_ubah_diri_tenang   \n",
       "1         -1_psikolog_ubah_diri_tenang   \n",
       "2         -1_psikolog_ubah_diri_tenang   \n",
       "3     50_suportif_minta_gimana_ngerasa   \n",
       "4           5_latih_susah_sulit_jangka   \n",
       "...                                ...   \n",
       "7495  4_frustrasi_skill_feedback_stres   \n",
       "7496     3_ekspektasi_sifat_laku_hasil   \n",
       "7497  4_frustrasi_skill_feedback_stres   \n",
       "7498     3_ekspektasi_sifat_laku_hasil   \n",
       "7499          11_anggap_diri_laku_tiap   \n",
       "\n",
       "                                         Representation  \\\n",
       "0     ['psikolog', 'ubah', 'diri', 'tenang', 'biar',...   \n",
       "1     ['psikolog', 'ubah', 'diri', 'tenang', 'biar',...   \n",
       "2     ['psikolog', 'ubah', 'diri', 'tenang', 'biar',...   \n",
       "3     ['suportif', 'minta', 'gimana', 'ngerasa', 'bu...   \n",
       "4     ['latih', 'susah', 'sulit', 'jangka', 'distrak...   \n",
       "...                                                 ...   \n",
       "7495  ['frustrasi', 'skill', 'feedback', 'stres', 'l...   \n",
       "7496  ['ekspektasi', 'sifat', 'laku', 'hasil', 'usah...   \n",
       "7497  ['frustrasi', 'skill', 'feedback', 'stres', 'l...   \n",
       "7498  ['ekspektasi', 'sifat', 'laku', 'hasil', 'usah...   \n",
       "7499  ['anggap', 'diri', 'laku', 'tiap', 'misal', 'f...   \n",
       "\n",
       "                                    Representative_Docs  \\\n",
       "0     ['q aku ngerasa dunia adil semua orang cuma mi...   \n",
       "1     ['q aku ngerasa dunia adil semua orang cuma mi...   \n",
       "2     ['q aku ngerasa dunia adil semua orang cuma mi...   \n",
       "3     ['q aku rasa salah banget atas udah jadi giman...   \n",
       "4     ['q aku sering ngerasa otak penuh kalau ajar b...   \n",
       "...                                                 ...   \n",
       "7495  ['q aku sering ngerasa tempat kerja apa aku la...   \n",
       "7496  ['q emilia aku rasa cukup baik banding orang g...   \n",
       "7497  ['q aku sering ngerasa tempat kerja apa aku la...   \n",
       "7498  ['q emilia aku rasa cukup baik banding orang g...   \n",
       "7499  ['q aku takut banget gagal jadi sering berani ...   \n",
       "\n",
       "                                            Top_n_words  Probability  \\\n",
       "0     psikolog - ubah - diri - tenang - biar - bilan...     0.000000   \n",
       "1     psikolog - ubah - diri - tenang - biar - bilan...     0.000000   \n",
       "2     psikolog - ubah - diri - tenang - biar - bilan...     0.000000   \n",
       "3     suportif - minta - gimana - ngerasa - buat - t...     1.000000   \n",
       "4     latih - susah - sulit - jangka - distraksi - t...     0.868044   \n",
       "...                                                 ...          ...   \n",
       "7495  frustrasi - skill - feedback - stres - laku - ...     0.574905   \n",
       "7496  ekspektasi - sifat - laku - hasil - usaha - eg...     0.892336   \n",
       "7497  frustrasi - skill - feedback - stres - laku - ...     0.840464   \n",
       "7498  ekspektasi - sifat - laku - hasil - usaha - eg...     0.942664   \n",
       "7499  anggap - diri - laku - tiap - misal - fokus - ...     0.920184   \n",
       "\n",
       "      Representative_document  \n",
       "0                       False  \n",
       "1                       False  \n",
       "2                       False  \n",
       "3                       False  \n",
       "4                       False  \n",
       "...                       ...  \n",
       "7495                    False  \n",
       "7496                    False  \n",
       "7497                    False  \n",
       "7498                    False  \n",
       "7499                    False  \n",
       "\n",
       "[7500 rows x 10 columns]"
      ]
     },
     "execution_count": 12,
     "metadata": {},
     "output_type": "execute_result"
    }
   ],
   "source": [
    "import pandas as pd\n",
    "\n",
    "df_topics = pd.read_csv(\"new_KPL12_25_7500_QA.csv\", sep=\";\")\n",
    "df_topics\n"
   ]
  },
  {
   "cell_type": "code",
   "execution_count": 16,
   "id": "57d6b0d3",
   "metadata": {},
   "outputs": [],
   "source": [
    "import csv\n",
    "if df_topics[\"Representative_document\"].dtype == object:\n",
    "    df_topics[\"Representative_document\"] = df_topics[\"Representative_document\"].map(\n",
    "        {\"True\": True, \"False\": False}\n",
    "    )\n",
    "\n",
    "filtered = df_topics[df_topics[\"Topic\"] == -1]\n",
    "\n",
    "filtered\n",
    "filtered.to_csv(\"fix/KP_data_outlierQA.csv\", index=False, sep=\";\", encoding=\"utf-8-sig\", quoting=csv.QUOTE_ALL)"
   ]
  },
  {
   "cell_type": "markdown",
   "id": "68ebebd2",
   "metadata": {},
   "source": [
    "## Clustering "
   ]
  },
  {
   "cell_type": "code",
   "execution_count": 49,
   "id": "bda0dfaf",
   "metadata": {},
   "outputs": [
    {
     "name": "stderr",
     "output_type": "stream",
     "text": [
      "Batches: 100%|██████████| 158/158 [00:22<00:00,  7.09it/s]\n"
     ]
    },
    {
     "name": "stdout",
     "output_type": "stream",
     "text": [
      "=== sklearn AgglomerativeClustering ===\n",
      "Threshold 0.2 → 42 cluster\n",
      "Threshold 0.3 → 24 cluster\n",
      "Threshold 0.4 → 11 cluster\n",
      "Threshold 0.5 → 4 cluster\n",
      "Threshold 0.6 → 2 cluster\n",
      "Threshold 0.7 → 1 cluster\n",
      "\n",
      "=== scipy fcluster ===\n",
      "Threshold 0.2 → 42 cluster\n",
      "Threshold 0.3 → 24 cluster\n",
      "Threshold 0.4 → 11 cluster\n",
      "Threshold 0.5 → 4 cluster\n",
      "Threshold 0.6 → 2 cluster\n",
      "Threshold 0.7 → 1 cluster\n"
     ]
    }
   ],
   "source": [
    "import pandas as pd\n",
    "import ast\n",
    "from sentence_transformers import SentenceTransformer\n",
    "from sklearn.cluster import AgglomerativeClustering\n",
    "from scipy.cluster.hierarchy import linkage, fcluster\n",
    "\n",
    "# 1. Load data\n",
    "df = pd.read_csv(\"KP_tanpaoutlier.csv\", sep=\";\")\n",
    "df = df[df[\"Topic\"] != -1]\n",
    "\n",
    "# 2. Parse representation\n",
    "df[\"rep_list\"] = df[\"Representation\"].apply(\n",
    "    lambda x: ast.literal_eval(x) if isinstance(x, str) else x\n",
    ")\n",
    "df[\"rep_clean\"] = df[\"rep_list\"].apply(lambda x: \" \".join(x))\n",
    "\n",
    "# 3. Embedding\n",
    "model = SentenceTransformer(\"sentence-transformers/paraphrase-multilingual-MiniLM-L12-v2\")\n",
    "embeddings = model.encode(df[\"rep_clean\"].tolist(), show_progress_bar=True)\n",
    "\n",
    "\n",
    "print(\"=== sklearn AgglomerativeClustering ===\")\n",
    "for t in [0.2, 0.3, 0.4, 0.5, 0.6, 0.7]:\n",
    "    cluster_model = AgglomerativeClustering(\n",
    "        n_clusters=None,\n",
    "        distance_threshold=t,\n",
    "        metric=\"cosine\",     \n",
    "        linkage=\"average\"    \n",
    "    )\n",
    "    labels = cluster_model.fit_predict(embeddings)\n",
    "    print(f\"Threshold {t} → {len(set(labels))} cluster\")\n",
    "\n",
    "\n",
    "print(\"\\n=== scipy fcluster ===\")\n",
    "Z = linkage(embeddings, method=\"average\", metric=\"cosine\")\n",
    "\n",
    "for t in [0.2, 0.3, 0.4, 0.5, 0.6, 0.7]:\n",
    "    clusters = fcluster(Z, t=t, criterion=\"distance\")\n",
    "    print(f\"Threshold {t} → {len(set(clusters))} cluster\")\n",
    "\n",
    "\n"
   ]
  },
  {
   "cell_type": "code",
   "execution_count": 53,
   "id": "a4417d49",
   "metadata": {},
   "outputs": [
    {
     "data": {
      "application/vnd.microsoft.datawrangler.viewer.v0+json": {
       "columns": [
        {
         "name": "index",
         "rawType": "int64",
         "type": "integer"
        },
        {
         "name": "question",
         "rawType": "object",
         "type": "string"
        },
        {
         "name": "answer",
         "rawType": "object",
         "type": "string"
        },
        {
         "name": "Topic",
         "rawType": "int64",
         "type": "integer"
        },
        {
         "name": "Representation",
         "rawType": "object",
         "type": "string"
        },
        {
         "name": "rep_list",
         "rawType": "object",
         "type": "unknown"
        },
        {
         "name": "rep_clean",
         "rawType": "object",
         "type": "string"
        },
        {
         "name": "merged_cluster",
         "rawType": "int32",
         "type": "integer"
        }
       ],
       "ref": "6cb74cf6-decf-4625-a214-2ead36a0b181",
       "rows": [
        [
         "0",
         "Aku suka minum alkohol biar rileks, apa itu artinya aku punya masalah mental?",
         "Minum alkohol untuk rileks nggak langsung berarti kamu punya masalah mental, tapi kalau kamu merasa harus minum supaya bisa tenang atau kalau itu mulai ganggu hidupmu—misalnya bikin masalah sama keluarga atau kerja—itu bisa jadi tanda buat lebih waspada. Coba pikir, apa kamu merasa minum itu udah jadi kebutuhan? Mungkin kita bisa cari cara lain buat rileks bareng.",
         "7",
         "['mental', 'laku', 'situasi', 'kadang', 'bilang', 'stres', 'tenang', 'misal', 'ganti', 'aktivitas']",
         "['mental', 'laku', 'situasi', 'kadang', 'bilang', 'stres', 'tenang', 'misal', 'ganti', 'aktivitas']",
         "mental laku situasi kadang bilang stres tenang misal ganti aktivitas",
         "9"
        ],
        [
         "1",
         "Saya merasa bersalah karena sering marah ke anak. Bagaimana cara jadi orang tua yang lebih baik?",
         "Hai, rasa bersalah itu tanda kamu peduli banget sama anakmu, lho! Nggak ada orang tua sempurna, kok. Coba mulai dari hal kecil: kalau marah, tarik napas dalam, lalu bilang, ‘Maaf ya, Mama tadi kesal.’ Tunjukkan kasih sayang lewat waktu bareng, seperti main atau ngobrol santai. Tulis tiga hal yang kamu suka dari anakmu setiap hari biar fokus ke positif. Apa yang lagi bikin kamu merasa bersalah? Yuk, kita cari cara buat bikin hubungan kalian lebih hangat!",
         "19",
         "['mindset', 'sifat', 'pengaruh', 'sendiri', 'percaya', 'kadang', 'laku', 'nilai', 'wajar', 'didik']",
         "['mindset', 'sifat', 'pengaruh', 'sendiri', 'percaya', 'kadang', 'laku', 'nilai', 'wajar', 'didik']",
         "mindset sifat pengaruh sendiri percaya kadang laku nilai wajar didik",
         "6"
        ],
        [
         "2",
         "Aku merasa otakku lelet buat mengingat pelajaran. Ada saran?",
         "Belajar itu memang kadang terasa berat, tapi kamu bisa coba teknik belajar ulang. Setelah belajar, coba ulas lagi materi itu dalam beberapa hari, misalnya dengan bikin catatan ringkas atau ceritain ke temen. Ini membantu otak menyimpan informasi lebih lama. Jangan lupa istirahat cukup, karena otak yang lelah susah menyerap informasi. Kamu pasti bisa, asal konsisten!",
         "5",
         "['latih', 'susah', 'sulit', 'jangka', 'distraksi', 'tenang', 'laku', 'bagaimana', 'kadang', 'rutin']",
         "['latih', 'susah', 'sulit', 'jangka', 'distraksi', 'tenang', 'laku', 'bagaimana', 'kadang', 'rutin']",
         "latih susah sulit jangka distraksi tenang laku bagaimana kadang rutin",
         "9"
        ],
        [
         "3",
         "Aku takut psikolog nggak ngerti budayaku. Apa mereka perhatiin itu?",
         "Aku ngerti kamu pengen dipahami sesuai budayamu. Richard H. Dana bilang psikolog harus ngerti budaya biar nggak salah nilai perilaku normal di budayamu sebagai masalah. Mereka dilatih buat sensitif soal ini, tapi kalau khawatir, ceritain budayamu ke psikolog biar hasilnya lebih pas. Mau ceritain apa soal budayamu? Aku dengerin, kok.",
         "22",
         "['psychological', 'psikolog', 'kompetensi', 'latih', 'khawatir', 'terapi', 'penting', 'coba', 'bikin', 'etik']",
         "['psychological', 'psikolog', 'kompetensi', 'latih', 'khawatir', 'terapi', 'penting', 'coba', 'bikin', 'etik']",
         "psychological psikolog kompetensi latih khawatir terapi penting coba bikin etik",
         "8"
        ],
        [
         "4",
         "Saya sering bermimpi, tapi tidak tahu artinya. Apa yang bisa saya pelajari dari mimpi?",
         "Mimpi itu seperti petunjuk dari batinmu—seru banget untuk dijelajahi! Carl Gustav Jung bilang mimpi adalah cara tak sadar kita bicara, membawa wawasan tentang apa yang sedang kamu alami. Coba tulis mimpimu segera setelah bangun, catat detail seperti tempat atau emosi. Lalu, tanya diri sendiri: apa yang mengingatkanmu pada hidupmu sekarang? Misalnya, mimpi tentang terbang mungkin tentang kebebasan. Mau ceritain mimpi terakhirmu untuk kita pikirkan bareng?",
         "44",
         "['emosi', 'bilang', 'tenang', 'tulis', 'kadang', 'diri', 'kamu', 'kalau', 'mau', 'bicara']",
         "['emosi', 'bilang', 'tenang', 'tulis', 'kadang', 'diri', 'kamu', 'kalau', 'mau', 'bicara']",
         "emosi bilang tenang tulis kadang diri kamu kalau mau bicara",
         "11"
        ],
        [
         "5",
         "Aku suka marah-marah akhir-akhir ini, padahal biasanya nggak gitu. Apa ini tanda aku bermasalah?",
         "Marah adalah emosi yang wajar, tapi kalau kamu merasa lebih sering marah dari biasanya, mungkin ada sesuatu yang lagi mengganggu di dalam dirimu atau di sekitarmu. Apa kamu mau ceritain apa yang biasanya bikin kamu kesal? Kita bisa coba cari tahu pemicunya bareng.",
         "10",
         "['emosi', 'stres', 'tenang', 'kadang', 'reaksi', 'ganggu', 'ngeluarin', 'ngerasa', 'nyakitin', 'coba']",
         "['emosi', 'stres', 'tenang', 'kadang', 'reaksi', 'ganggu', 'ngeluarin', 'ngerasa', 'nyakitin', 'coba']",
         "emosi stres tenang kadang reaksi ganggu ngeluarin ngerasa nyakitin coba",
         "9"
        ],
        [
         "6",
         "Aku sering banget mikirin masa depan, tapi malah bikin cemas. Apa yang salah?",
         "Wajar kok merasa cemas, tapi kalau terlalu fokus ke masa depan, kamu bisa kehilangan momen sekarang. Coba alihkan energimu ke apa yang bisa kamu kerjakan hari ini. Satu langkah kecil sekarang bisa bikin masa depanmu lebih ringan.",
         "48",
         "['gimana', 'gelisah', 'biar', 'buat', 'tenang', 'pikir', 'coba', 'kamu', 'tulis', 'angan']",
         "['gimana', 'gelisah', 'biar', 'buat', 'tenang', 'pikir', 'coba', 'kamu', 'tulis', 'angan']",
         "gimana gelisah biar buat tenang pikir coba kamu tulis angan",
         "11"
        ],
        [
         "7",
         "Kenapa saya tidak punya motivasi meskipun hidup saya cukup stabil?",
         "Kadang stabilitas bikin kita bertanya, ‘Lalu apa lagi?’—itu wajar! Abraham Harold Maslow bilang kalau kebutuhan dasar (seperti keamanan) sudah terpenuhi, kita mulai mencari kebutuhan lebih tinggi, seperti hubungan atau tujuan hidup. Coba pikir: apa yang bikin kamu excited? Mulai dengan langkah kecil, seperti mencoba aktivitas baru atau ngobrol dengan teman dekat. Apa satu hal yang bisa bikin kamu semangat minggu ini?",
         "40",
         "['bagaimana', 'bilang', 'saran', 'tulis', 'diri', 'kalau', 'tanya', 'coba', 'kamu', 'kadang']",
         "['bagaimana', 'bilang', 'saran', 'tulis', 'diri', 'kalau', 'tanya', 'coba', 'kamu', 'kadang']",
         "bagaimana bilang saran tulis diri kalau tanya coba kamu kadang",
         "11"
        ],
        [
         "8",
         "Saya merasa hidup saya tidak lengkap. Bagaimana Maslow menjelaskan ini?",
         "Rasa itu menunjukkan kamu sedang mencari sesuatu yang lebih, dan itu langkah berani! Abraham Harold Maslow bilang hidup terasa lengkap kalau kebutuhan kita terpenuhi, dari dasar (makan, tidur) sampai puncak (aktualisasi diri, seperti mengejar mimpi). Coba cek: kebutuhan mana yang lagi kurang? Kalau dasar sudah oke, mungkin saatnya eksplorasi tujuan pribadi, seperti hobi atau membantu orang lain. Apa yang bikin kamu merasa ‘kurang’ sekarang?",
         "40",
         "['bagaimana', 'bilang', 'saran', 'tulis', 'diri', 'kalau', 'tanya', 'coba', 'kamu', 'kadang']",
         "['bagaimana', 'bilang', 'saran', 'tulis', 'diri', 'kalau', 'tanya', 'coba', 'kamu', 'kadang']",
         "bagaimana bilang saran tulis diri kalau tanya coba kamu kadang",
         "11"
        ],
        [
         "9",
         "Aku sering ngerasa kesepian, padahal aku punya temen. Ini kenapa ya?",
         "Kesepian nggak selalu soal nggak punya temen, kadang itu soal merasa nggak terhubung secara emosional. Mungkin kamu bisa coba ngobrol lebih dalam sama salah satu temen yang kamu percaya, ceritain apa yang lagi kamu rasain. Atau, apa kamu mau coba aktivitas yang bikin kamu merasa lebih terhubung, seperti ikut komunitas yang kamu suka?",
         "12",
         "['hubung', 'misal', 'aktivitas', 'meski', 'kadang', 'laku', 'ngobrol', 'bikin', 'ngerasa', 'ngerti']",
         "['hubung', 'misal', 'aktivitas', 'meski', 'kadang', 'laku', 'ngobrol', 'bikin', 'ngerasa', 'ngerti']",
         "hubung misal aktivitas meski kadang laku ngobrol bikin ngerasa ngerti",
         "9"
        ],
        [
         "10",
         "Saya pengen olahraga, tapi nggak punya waktu, dan itu bikin stres. Bagaimana olahraga bantu kesehatan mental, dan apa yang bisa saya lakukan?",
         "Saya tahu kesibukan bikin susah olahraga, tapi kamu hebat karena pengen coba! Olahraga 30 menit sehari, seperti jalan cepat, ningkatin hormon bahagia, kurangi stres, dan bikin pikiran jernih—kaya vitamin buat jiwa! Kalau waktu sempit, coba 10 menit 3 kali sehari, seperti jalan di tempat sambil dengar musik. Taruh pengingat di ponsel dan bilang, ‘Aku layak jadi lebih happy!’ Apa yang bikin nggak punya waktu, dan apa olahraga singkat yang bisa kamu coba?",
         "54",
         "['mental', 'inspirasi', 'semangat', 'frustrasi', 'motivasi', 'bikin', 'edukasi', 'diri', 'aktivitas', 'bagaimana']",
         "['mental', 'inspirasi', 'semangat', 'frustrasi', 'motivasi', 'bikin', 'edukasi', 'diri', 'aktivitas', 'bagaimana']",
         "mental inspirasi semangat frustrasi motivasi bikin edukasi diri aktivitas bagaimana",
         "9"
        ],
        [
         "11",
         "Aku sering merasa bingung kenapa aku melihat sesuatu berbeda dari orang lain. Apa yang bikin persepsi kita beda?",
         "Setiap orang punya cara unik dalam melihat dunia, dan itu dipengaruhi oleh banyak hal, seperti pengalaman hidup, perhatian, dan apa yang lagi kamu rasakan. Misalnya, kalau kamu lagi fokus pada satu hal, otakmu cenderung menonjolkan hal itu dan mengabaikan yang lain. Bayangkan kamu lagi lihat lukisan—kamu mungkin notice detail yang orang lain lewatkan karena kamu sedang memperhatikan warna atau bentuk tertentu. Itu wajar, kok, dan bikin kita semua punya sudut pandang yang berbeda.",
         "38",
         "['halusinasi', 'kenang', 'bilang', 'kadang', 'persepsi', 'pikir', 'kalau', 'tulis', 'sadar', 'perhati']",
         "['halusinasi', 'kenang', 'bilang', 'kadang', 'persepsi', 'pikir', 'kalau', 'tulis', 'sadar', 'perhati']",
         "halusinasi kenang bilang kadang persepsi pikir kalau tulis sadar perhati",
         "9"
        ],
        [
         "12",
         "Aku merasa capek banget sama hidup, kayak nggak ada yang bisa bikin bahagia. Apa yang salah?",
         "Rasa capek dan kosong itu berat, tapi nggak berarti ada yang salah sama kamu. Mungkin ini tanda kamu perlu istirahat dan dukungan. Coba lakukan satu hal kecil yang dulu kamu suka, atau ceritain ke seseorang yang peduli. Kalau mau, aku bisa bantu pikirin langkah kecil buat mulai lagi.",
         "24",
         "['lelah', 'istirahat', 'aktivitas', 'laku', 'menit', 'wajar', 'terus', 'usaha', 'hari', 'penting']",
         "['lelah', 'istirahat', 'aktivitas', 'laku', 'menit', 'wajar', 'terus', 'usaha', 'hari', 'penting']",
         "lelah istirahat aktivitas laku menit wajar terus usaha hari penting",
         "2"
        ],
        [
         "13",
         "Aku pengen psikolog yang ngerti budayaku. Apa yang mereka lakuin?",
         "Kamu pengen psikolog yang bener-bener paham, ya. Derald Wing Sue dan David Sue bilang kompetensi budaya itu tentang tiga hal: psikolog paham budaya mereka sendiri, belajar soal budayamu, dan pake cara terapi yang cocok sama nilai-nilaimu. Jadi, mereka bakal dengerin ceritamu dengan sudut pandang budayamu. Coba ceritain ke psikologmu soal budayamu. Apa yang lagi pengen dibahas? Aku dengerin kok.",
         "22",
         "['psychological', 'psikolog', 'kompetensi', 'latih', 'khawatir', 'terapi', 'penting', 'coba', 'bikin', 'etik']",
         "['psychological', 'psikolog', 'kompetensi', 'latih', 'khawatir', 'terapi', 'penting', 'coba', 'bikin', 'etik']",
         "psychological psikolog kompetensi latih khawatir terapi penting coba bikin etik",
         "8"
        ],
        [
         "14",
         "Saya merasa sering gagal karena tujuan saya terlalu besar. Bagaimana cara menetapkan tujuan realistis?",
         "Kamu bijak menyadari ini—itu langkah menuju keseimbangan! Alfred Adler bilang kurangnya minat sosial dan tujuan terlalu tinggi bisa bikin kita merasa gagal. Coba pecah tujuan besar jadi langkah kecil, seperti ‘belajar 10 menit sehari’ alih-alih ‘kuasai skill baru’. Tulis satu tujuan kecil untuk minggu ini. Apa satu langkah realistis yang bikin kamu semangat?",
         "42",
         "['bagaimana', 'bilang', 'diri', 'tulis', 'eksekusi', 'tak', 'respons', 'punya', 'gustav', 'coba']",
         "['bagaimana', 'bilang', 'diri', 'tulis', 'eksekusi', 'tak', 'respons', 'punya', 'gustav', 'coba']",
         "bagaimana bilang diri tulis eksekusi tak respons punya gustav coba",
         "10"
        ],
        [
         "15",
         "Saya punya mimpi yang sangat aneh dan kuat. Apa artinya?",
         "Mimpi yang kuat itu seperti surat dari dalam diri—menarik banget! Carl Gustav Jung bilang ‘mimpi besar’ yang aneh dan mendalam bisa muncul saat pikiran tak sadar sedang ‘berbicara’ keras. Coba tulis semua detail mimpimu: apa yang kamu lihat, rasakan? Ini bisa memberi petunjuk tentang apa yang sedang kamu hadapi. Misalnya, mimpi aneh bisa terkait stres atau keinginan besar. Mau ceritain mimpimu untuk kita jelajahi bareng?",
         "44",
         "['emosi', 'bilang', 'tenang', 'tulis', 'kadang', 'diri', 'kamu', 'kalau', 'mau', 'bicara']",
         "['emosi', 'bilang', 'tenang', 'tulis', 'kadang', 'diri', 'kamu', 'kalau', 'mau', 'bicara']",
         "emosi bilang tenang tulis kadang diri kamu kalau mau bicara",
         "11"
        ],
        [
         "16",
         "Aku pengen coba terapi, tapi takut nggak cocok. Apa yang harus aku lakukan?",
         "Wajar banget kalau takut mencoba sesuatu yang baru seperti terapi. Mungkin kamu bisa mulai dengan cari tahu lebih banyak soal terapi yang cocok buatmu, misalnya terapi kognitif yang fokus ke pikiran dan perasaan. Mau aku jelasin lebih lanjut soal ini?",
         "28",
         "['emosi', 'perilaku', 'behavioral', 'buat', 'cognitive', 'bilang', 'pikir', 'kamu', 'kognitif', 'latih']",
         "['emosi', 'perilaku', 'behavioral', 'buat', 'cognitive', 'bilang', 'pikir', 'kamu', 'kognitif', 'latih']",
         "emosi perilaku behavioral buat cognitive bilang pikir kamu kognitif latih",
         "9"
        ],
        [
         "17",
         "Aku gak mau ke dokter jiwa, nanti orang bilang aku gila. Apa aku salah kalau takut gitu?",
         "Gak salah kalau kamu takut, itu perasaan yang wajar karena stigma di masyarakat. Tapi ke dokter jiwa itu bukan berarti kamu 'gila', itu cuma langkah untuk jaga kesehatanmu. Mungkin kamu bisa coba cari dokter yang bikin kamu nyaman atau mulai dengan konselor online yang lebih privat. Apa yang bikin kamu paling takut soal ke dokter jiwa?",
         "21",
         "['mental', 'suportif', 'anggap', 'sendiri', 'jiwa', 'percaya', 'stigma', 'bilang', 'khawatir', 'ngerasa']",
         "['mental', 'suportif', 'anggap', 'sendiri', 'jiwa', 'percaya', 'stigma', 'bilang', 'khawatir', 'ngerasa']",
         "mental suportif anggap sendiri jiwa percaya stigma bilang khawatir ngerasa",
         "8"
        ],
        [
         "18",
         "Aku pengen bunuh diri, tapi nggak tahu kenapa aku ngerasa gitu. Tolong aku.",
         "Aku sedih banget denger kamu ngerasa gitu, tapi aku seneng kamu cerita. Pikiran kayak gitu bisa muncul saat kita lagi tertekan banget, dan nggak apa-apa kalau kamu nggak tahu kenapa. Aku saranin kamu segera hubungi profesional, seperti psikolog atau hotline krisis. Kamu nggak sendirian, aku di sini buat dengerin.",
         "39",
         "['biar', 'ngerasa', 'khawatir', 'buat', 'diri', 'lewatin', 'coba', 'nemenin', 'bikin', 'susah']",
         "['biar', 'ngerasa', 'khawatir', 'buat', 'diri', 'lewatin', 'coba', 'nemenin', 'bikin', 'susah']",
         "biar ngerasa khawatir buat diri lewatin coba nemenin bikin susah",
         "11"
        ],
        [
         "19",
         "Aku nggak makan kalau lagi marah, biar tenang. Ini nggak apa-apa, kan?",
         "Nggak makan saat marah mungkin terasa bikin tenang, tapi itu bisa bikin tubuhmu kekurangan energi dan marahmu nggak terselesaikan. Coba kita cari cara lain buat keluarkan marah, seperti tulis apa yang bikin kesal atau tarik napas dalam. Mau coba satu cara dulu buat hadapi marahmu?",
         "10",
         "['emosi', 'stres', 'tenang', 'kadang', 'reaksi', 'ganggu', 'ngeluarin', 'ngerasa', 'nyakitin', 'coba']",
         "['emosi', 'stres', 'tenang', 'kadang', 'reaksi', 'ganggu', 'ngeluarin', 'ngerasa', 'nyakitin', 'coba']",
         "emosi stres tenang kadang reaksi ganggu ngeluarin ngerasa nyakitin coba",
         "9"
        ],
        [
         "20",
         "Aku coba tidur lebih awal, tapi malah nggak bisa tidur. Apa salahnya?",
         "Mungkin tubuhmu belum siap tidur karena dorongan tidurnya belum cukup kuat. Kalau tidur terlalu awal, tapi tubuh masih 'aktif', malah bisa bikin susah tidur. Coba batasi waktu di tempat tidur sesuai dengan waktu tidurmu yang sebenarnya, misalnya 6 jam dulu, lalu pelan-pelan tambah. Juga, pastikan sebelum tidur kamu nggak terlalu banyak cahaya terang. Mau coba atur ulang jadwal tidurmu?",
         "8",
         "['rutinitas', 'laku', 'gelisah', 'bikin', 'ritme', 'misal', 'atur', 'pakai', 'hindar', 'waktu']",
         "['rutinitas', 'laku', 'gelisah', 'bikin', 'ritme', 'misal', 'atur', 'pakai', 'hindar', 'waktu']",
         "rutinitas laku gelisah bikin ritme misal atur pakai hindar waktu",
         "9"
        ],
        [
         "21",
         "Aku lagi mikir buat coba terapi. Apa sih yang diteliti psikolog soal terapi?",
         "Keren, kamu lagi mikirin terapi! Psikolog klinis suka ngecek seberapa bagus terapi mereka lewat penelitian hasil terapi. Mereka pengen tahu apakah terapi beneran bantu orang kayak kamu merasa lebih baik, misalnya kurang stres atau cemas. Mereka lihat hal-hal kayak jenis terapi apa yang paling oke buat masalah tertentu. Ini bikin kamu bisa percaya terapi yang kamu coba udah dites. Apa yang lagi bikin kamu pengen coba terapi? Ceritain, yuk.",
         "17",
         "['psikoterapi', 'psikologi', 'psikolog', 'terapi', 'psikiater', 'depresi', 'praktis', 'perilaku', 'klinis', 'clinical']",
         "['psikoterapi', 'psikologi', 'psikolog', 'terapi', 'psikiater', 'depresi', 'praktis', 'perilaku', 'klinis', 'clinical']",
         "psikoterapi psikologi psikolog terapi psikiater depresi praktis perilaku klinis clinical",
         "3"
        ],
        [
         "22",
         "Saya ingin maju dalam hidup, tapi merasa terhambat. Apa yang bisa membantu?",
         "Keinginan untuk maju adalah tanda kamu punya semangat besar! Carl Gustav Jung bilang progresi terjadi saat kita menyeimbangkan kebutuhan batin dan dunia luar. Kalau merasa terhambat, coba tulis satu tujuan kecil yang ingin dicapai minggu ini, seperti belajar skill baru atau declutter meja kerja. Juga, refleksikan: apa yang bikin kamu stuck? Langkah kecil bisa bawa perubahan besar. Apa tujuan yang lagi ada di pikiranmu?",
         "42",
         "['bagaimana', 'bilang', 'diri', 'tulis', 'eksekusi', 'tak', 'respons', 'punya', 'gustav', 'coba']",
         "['bagaimana', 'bilang', 'diri', 'tulis', 'eksekusi', 'tak', 'respons', 'punya', 'gustav', 'coba']",
         "bagaimana bilang diri tulis eksekusi tak respons punya gustav coba",
         "10"
        ],
        [
         "23",
         "Aku ngerasa keluargaku nggak pernah ngerti aku, apalagi kalau aku lagi emosi. Aku harus gimana?",
         "Rasanya pasti frustrasi kalau merasa nggak dipahami keluarga. Mungkin kamu bisa coba ajak salah satu anggota keluarga untuk ngobrol di saat kamu sedang tenang, dan ceritain apa yang kamu butuhkan dari mereka. Kalau mau, kita bisa latihan dulu cara menyampaikan perasaanmu. Mau coba?",
         "20",
         "['mental', 'edukasi', 'sulit', 'susah', 'pikirin', 'sendiri', 'stres', 'kadang', 'laku', 'fokus']",
         "['mental', 'edukasi', 'sulit', 'susah', 'pikirin', 'sendiri', 'stres', 'kadang', 'laku', 'fokus']",
         "mental edukasi sulit susah pikirin sendiri stres kadang laku fokus",
         "9"
        ],
        [
         "24",
         "Aku sering merasa cemas berlebihan tentang banyak hal, seperti ujian atau kesehatan keluargaku. Apa yang bisa kulakukan?",
         "Keren banget kamu bisa ceritain ini! Cemas itu wajar, tapi kalau udah berlebihan, bisa bikin capek, ya. Coba latihan mindfulness, misalnya fokus ke napas kamu selama beberapa menit setiap hari. Tarik napas dalam, rasain udaranya masuk dan keluar. Ini bisa bantu pikiranmu lebih tenang dan fokus ke sekarang, bukan ke kekhawatiran masa depan. Mau coba bareng sekarang?",
         "37",
         "['tenangin', 'gimana', 'buat', 'bagaimana', 'tenang', 'balikin', 'susah', 'mula', 'coba', 'pelan']",
         "['tenangin', 'gimana', 'buat', 'bagaimana', 'tenang', 'balikin', 'susah', 'mula', 'coba', 'pelan']",
         "tenangin gimana buat bagaimana tenang balikin susah mula coba pelan",
         "11"
        ],
        [
         "25",
         "Aku takut kalau terapi nggak bakal bantu masalahku. Apa aku harus tetap coba?",
         "Takut kalau terapi nggak membantu itu wajar banget, apalagi kalau kamu merasa masalahmu berat. Tapi, dari yang aku tahu, terapi, seperti yang fokus pada pola pikir atau hubungan, udah terbukti membantu banyak orang, meski butuh waktu. Coba mulai dengan sesi awal untuk lihat apakah kamu nyaman sama terapisnya. Kalau nggak cocok, kamu bisa coba yang lain. Apa yang bikin kamu takut terapi nggak bakal berhasil?",
         "28",
         "['emosi', 'perilaku', 'behavioral', 'buat', 'cognitive', 'bilang', 'pikir', 'kamu', 'kognitif', 'latih']",
         "['emosi', 'perilaku', 'behavioral', 'buat', 'cognitive', 'bilang', 'pikir', 'kamu', 'kognitif', 'latih']",
         "emosi perilaku behavioral buat cognitive bilang pikir kamu kognitif latih",
         "9"
        ],
        [
         "26",
         "Aku pengen coba bunuh diri, tapi aku takut. Apa yang harus aku lakuin?",
         "Aku khawatir banget denger kamu ngerasa gitu, tapi aku bersyukur kamu cerita ke aku. Pikiran buat bunuh diri itu serius, dan kamu nggak boleh hadapin ini sendirian. Coba hubungi seseorang yang kamu percaya atau layanan bantuan profesional, kayak psikolog atau hotline krisis. Aku di sini buat ngobrol kapan aja, tapi aku pengen kamu aman. Mau ceritain apa yang bikin kamu sampe mikir gitu?",
         "39",
         "['biar', 'ngerasa', 'khawatir', 'buat', 'diri', 'lewatin', 'coba', 'nemenin', 'bikin', 'susah']",
         "['biar', 'ngerasa', 'khawatir', 'buat', 'diri', 'lewatin', 'coba', 'nemenin', 'bikin', 'susah']",
         "biar ngerasa khawatir buat diri lewatin coba nemenin bikin susah",
         "11"
        ],
        [
         "27",
         "Aku sering merasa kesepian, kayak nggak ada yang peduli. Gimana caranya biar nggak gitu?",
         "Rasa kesepian itu bisa bikin hati berat banget, ya. Aku di sini buat kamu, kok. Kadang, mencoba terhubung dengan orang lain, meski cuma ngobrol ringan, bisa membantu. Apa kamu punya temen atau keluarga yang bisa diajak ngobrol? Atau mungkin kita bisa coba cari aktivitas sosial kecil, seperti ikut komunitas yang kamu suka. Apa menurutmu itu bisa dicoba?",
         "12",
         "['hubung', 'misal', 'aktivitas', 'meski', 'kadang', 'laku', 'ngobrol', 'bikin', 'ngerasa', 'ngerti']",
         "['hubung', 'misal', 'aktivitas', 'meski', 'kadang', 'laku', 'ngobrol', 'bikin', 'ngerasa', 'ngerti']",
         "hubung misal aktivitas meski kadang laku ngobrol bikin ngerasa ngerti",
         "9"
        ],
        [
         "28",
         "Emilia, aku ngerasa orang tuaku nggak peduli sama perasaanku. Apa yang harus aku lakukan?",
         "Itu pasti bikin sedih. Coba ajak ngobrol orang tuamu dengan cara yang tenang, misalnya bilang apa yang kamu rasakan tanpa menyalahkan. Kalau susah, mungkin cerita ke orang dewasa lain yang kamu percaya, seperti guru. Kamu berhak merasa didengar, dan aku di sini buat dukung kamu.",
         "35",
         "['kalian', 'gimana', 'ngerasa', 'ngatur', 'diri', 'tenang', 'kamu', 'buat', 'kadang', 'temperamen']",
         "['kalian', 'gimana', 'ngerasa', 'ngatur', 'diri', 'tenang', 'kamu', 'buat', 'kadang', 'temperamen']",
         "kalian gimana ngerasa ngatur diri tenang kamu buat kadang temperamen",
         "11"
        ],
        [
         "29",
         "Aku pengen sukses, tapi nggak tahu caranya. Apa yang salah sama aku?",
         "Nggak ada yang salah sama kamu! Keinginan sukses itu tanda kamu punya semangat untuk berprestasi. Mungkin sekarang kamu cuma butuh arah yang lebih jelas. Apa definisi sukses buat kamu? Kita bisa bikin langkah kecil bareng, kalau mau.",
         "23",
         "['motivasi', 'ego', 'didik', 'fokus', 'ambisi', 'ragu', 'usaha', 'ngorbankan', 'ambisius', 'sendiri']",
         "['motivasi', 'ego', 'didik', 'fokus', 'ambisi', 'ragu', 'usaha', 'ngorbankan', 'ambisius', 'sendiri']",
         "motivasi ego didik fokus ambisi ragu usaha ngorbankan ambisius sendiri",
         "6"
        ],
        [
         "30",
         "Aku merasa nggak bisa lepas dari kesalahan masa lalu. Gimana caranya move on?",
         "Kesalahan masa lalu itu kayak bayangan, kelihatan besar tapi nggak bisa nyakitin kalau kamu nggak ngasih kuasa. Coba tulis apa yang bikin kamu stuck, lalu tanya diri sendiri: apa yang bisa aku pelajari dari ini? Fokus ke apa yang bisa kamu kendalikan sekarang, seperti kebiasaan baru atau tujuan kecil. Tiap langkah kecil ke depan bikin masa lalu itu makin jauh.",
         "26",
         "['laku', 'bikin', 'misal', 'ngomongin', 'diri', 'kenang', 'ngajarin', 'ngerasa', 'tuju', 'tulis']",
         "['laku', 'bikin', 'misal', 'ngomongin', 'diri', 'kenang', 'ngajarin', 'ngerasa', 'tuju', 'tulis']",
         "laku bikin misal ngomongin diri kenang ngajarin ngerasa tuju tulis",
         "11"
        ],
        [
         "31",
         "Aku takut dikira sakit gara-gara budayaku. Apa psikolog ngerti budaya?",
         "Aku ngerti kamu pengen dipahami sesuai budayamu. Richard H. Dana bilang psikolog harus paham budaya biar nggak salah ngira perilaku normal di budayamu sebagai masalah. Mereka dilatih buat hati-hati soal ini, tapi kalau khawatir, ceritain budayamu ke psikolog biar mereka ngerti konteksmu. Mau ceritain apa soal budayamu? Aku dengerin, kok.",
         "22",
         "['psychological', 'psikolog', 'kompetensi', 'latih', 'khawatir', 'terapi', 'penting', 'coba', 'bikin', 'etik']",
         "['psychological', 'psikolog', 'kompetensi', 'latih', 'khawatir', 'terapi', 'penting', 'coba', 'bikin', 'etik']",
         "psychological psikolog kompetensi latih khawatir terapi penting coba bikin etik",
         "8"
        ],
        [
         "32",
         "Kadang aku ngerasa hidupku nggak berarti. Apa yang bisa aku lakukan biar merasa hidupku punya tujuan?",
         "Hidupmu pasti berarti, meski kadang nggak langsung kelihatan. Coba tanya dirimu, apa yang bikin kamu bahagia atau apa yang pengen kamu capai? Mulai dari situ, dan lakukan satu langkah kecil setiap hari.",
         "0",
         "['kadang', 'fokus', 'pikir', 'meski', 'hubung', 'bingung', 'ngerasa', 'laku', 'misal', 'semangat']",
         "['kadang', 'fokus', 'pikir', 'meski', 'hubung', 'bingung', 'ngerasa', 'laku', 'misal', 'semangat']",
         "kadang fokus pikir meski hubung bingung ngerasa laku misal semangat",
         "9"
        ],
        [
         "33",
         "Saya merasa dipaksa olahraga sama dokter, dan itu bikin stres. Bagaimana teori ini bisa bantu kesehatan mental saya, dan apa yang bisa saya lakukan?",
         "Saya tahu rasanya nggak enak kalau merasa dipaksa—kamu nggak sendiri! Teori penentuan diri bilang kamu akan semangat olahraga kalau memilihnya sendiri dan merasa mampu. Ini bantu kesehatan mental karena kamu merasa bebas dan percaya diri. Coba pilih olahraga yang kamu suka, seperti joget atau jalan santai, dan mulai dari 5 menit. Bilang ke diri sendiri, ‘Ini pilihanku untuk lebih happy.’ Cari video olahraga seru online untuk inspirasi. Apa olahraga yang pengen kamu coba, dan kapan kamu bisa mulai?",
         "54",
         "['mental', 'inspirasi', 'semangat', 'frustrasi', 'motivasi', 'bikin', 'edukasi', 'diri', 'aktivitas', 'bagaimana']",
         "['mental', 'inspirasi', 'semangat', 'frustrasi', 'motivasi', 'bikin', 'edukasi', 'diri', 'aktivitas', 'bagaimana']",
         "mental inspirasi semangat frustrasi motivasi bikin edukasi diri aktivitas bagaimana",
         "9"
        ],
        [
         "34",
         "Aku takut tes psikologi nggak akurat. Apa psikolog benerin tesnya?",
         "Aku ngerti tes bisa bikin cemas. Psikolog klinis sering neliti buat bikin tes mereka lebih akurat, kayak ngecek apakah tes cocok buat orang kayak kamu atau bikin tes baru yang lebih pas. Mereka juga cek apakah tes sama bagusnya di budaya atau bahasa yang beda. Jadi, kamu bisa percaya tes itu beneran ngegambarin kamu. Apa yang bikin takut soal tes? Ceritain, yuk.",
         "25",
         "['psikolog', 'susah', 'khawatir', 'ganggu', 'lisan', 'ceritain', 'takut', 'mampu', 'bikin', 'neuropsikologi']",
         "['psikolog', 'susah', 'khawatir', 'ganggu', 'lisan', 'ceritain', 'takut', 'mampu', 'bikin', 'neuropsikologi']",
         "psikolog susah khawatir ganggu lisan ceritain takut mampu bikin neuropsikologi",
         "8"
        ],
        [
         "35",
         "Saya ingin ubah pola makan, tapi selalu gagal, dan itu bikin stres. Bagaimana CBT bisa bantu kesehatan mental saya, dan apa yang bisa saya lakukan?",
         "Kamu hebat karena nggak menyerah meski gagal—itu kekuatan besar! CBT bantu ubah pola makan dengan pantau apa yang kamu makan (self-monitoring) dan atur lingkungan, seperti simpan buah di meja. Ini kurangi stres karena kamu merasa kendali dan sukses. Coba tulis apa yang kamu makan selama 3 hari, lalu ganti satu camilan nggak sehat dengan buah. Bilang, ‘Aku bisa pilih sehat!’ Cari resep sehat online untuk inspirasi. Apa yang bikin kamu gagal, dan apa langkah CBT yang pengen kamu coba?",
         "29",
         "['mental', 'motivasi', 'diri', 'bagaimana', 'bosan', 'mood', 'kamu', 'bagai', 'susah', 'sulit']",
         "['mental', 'motivasi', 'diri', 'bagaimana', 'bosan', 'mood', 'kamu', 'bagai', 'susah', 'sulit']",
         "mental motivasi diri bagaimana bosan mood kamu bagai susah sulit",
         "9"
        ],
        [
         "36",
         "Kapan nyeri dikatakan kronis dan butuh program khusus?",
         "Jika nyeri menetap atau berulang lebih dari 3–6 bulan, memengaruhi aktivitas, dan tidak hilang setelah terapi standar, saatnya evaluasi program manajemen nyeri kronis.",
         "30",
         "['bagaimana', 'mood', 'relaksasi', 'sensasi', 'mula', 'tegang', 'rasa', 'makin', 'sesi', 'lepas']",
         "['bagaimana', 'mood', 'relaksasi', 'sensasi', 'mula', 'tegang', 'rasa', 'makin', 'sesi', 'lepas']",
         "bagaimana mood relaksasi sensasi mula tegang rasa makin sesi lepas",
         "2"
        ],
        [
         "37",
         "Aku suka minum alkohol kalau stres. Itu membantu gak sih?",
         "Aku ngerti kamu nyari cara buat ngatasin stres, tapi minum alkohol biasanya cuma bikin lega sementara dan bisa bikin masalah baru. Mungkin kita bisa coba cari cara lain yang lebih sehat, seperti ngobrol atau jalan-jalan. Apa yang biasanya bikin kamu rileks selain itu?",
         "7",
         "['mental', 'laku', 'situasi', 'kadang', 'bilang', 'stres', 'tenang', 'misal', 'ganti', 'aktivitas']",
         "['mental', 'laku', 'situasi', 'kadang', 'bilang', 'stres', 'tenang', 'misal', 'ganti', 'aktivitas']",
         "mental laku situasi kadang bilang stres tenang misal ganti aktivitas",
         "9"
        ],
        [
         "38",
         "Aku ngerasa capek banget ngurusin hidup. Kayak pengen nyerah. Apa yang bisa aku lakuin?",
         "Aku denger kamu lagi capek banget, dan itu wajar kalau rasanya pengen nyerah. Tapi aku khawatir kalau kamu simpan ini sendirian. Coba istirahat sejenak, mungkin tidur atau minum air putih dulu. Lalu, apa kamu mau ceritain apa yang bikin capek? Aku di sini buat dengerin.",
         "24",
         "['lelah', 'istirahat', 'aktivitas', 'laku', 'menit', 'wajar', 'terus', 'usaha', 'hari', 'penting']",
         "['lelah', 'istirahat', 'aktivitas', 'laku', 'menit', 'wajar', 'terus', 'usaha', 'hari', 'penting']",
         "lelah istirahat aktivitas laku menit wajar terus usaha hari penting",
         "2"
        ],
        [
         "39",
         "Aku takut gagal lagi karena trauma masa lalu. Apa trauma ini bakal terus bikin aku stuck?",
         "Trauma itu nggak untuk bikin kamu berhenti, tapi untuk bikin kamu lebih hati-hati. Anggap trauma itu kayak alarm yang ngingetin kamu buat melangkah dengan lebih bijak. Apa yang bisa kamu lakukan hari ini untuk bikin langkahmu lebih mantap?",
         "41",
         "['ngerasa', 'kenang', 'ngelupain', 'buat', 'ganggu', 'diri', 'bikin', 'kamu', 'ngejudge', 'kalau']",
         "['ngerasa', 'kenang', 'ngelupain', 'buat', 'ganggu', 'diri', 'bikin', 'kamu', 'ngejudge', 'kalau']",
         "ngerasa kenang ngelupain buat ganggu diri bikin kamu ngejudge kalau",
         "11"
        ],
        [
         "40",
         "Aku coba latihan napas cepat buat ngatasin rasa takutku, tapi malah makin panik. Aku salah apa ya?",
         "Latihan napas cepat, atau hiperventilasi, memang bisa memicu sensasi yang bikin panik, seperti pusing atau jantungan. Bukan salahmu, tapi mungkin caranya perlu disesuaikan. Coba latihan napas pelan dan dalam, tarik napas selama 4 detik, tahan, lalu keluarkan perlahan. Mau aku pandu caranya?",
         "46",
         "['tenangin', 'ninggalin', 'tenang', 'pelan', 'tahan', 'ngurangin', 'buat', 'pegang', 'kalau', 'relaksasi']",
         "['tenangin', 'ninggalin', 'tenang', 'pelan', 'tahan', 'ngurangin', 'buat', 'pegang', 'kalau', 'relaksasi']",
         "tenangin ninggalin tenang pelan tahan ngurangin buat pegang kalau relaksasi",
         "2"
        ],
        [
         "41",
         "Aku pernah ngalamin kejadian buruk banget, sampai sekarang masih kepikiran. Itu trauma ya?",
         "Kedengerannya iya, itu bisa disebut trauma, terutama kalau kejadian itu sangat berat dan masih memengaruhi kamu. Trauma bisa dari kejadian besar atau situasi berulang yang bikin takut. Kalau nyaman, boleh ceritain sedikit? Atau kita bisa cari cara buat bikin kamu merasa lebih tenang.",
         "41",
         "['ngerasa', 'kenang', 'ngelupain', 'buat', 'ganggu', 'diri', 'bikin', 'kamu', 'ngejudge', 'kalau']",
         "['ngerasa', 'kenang', 'ngelupain', 'buat', 'ganggu', 'diri', 'bikin', 'kamu', 'ngejudge', 'kalau']",
         "ngerasa kenang ngelupain buat ganggu diri bikin kamu ngejudge kalau",
         "11"
        ],
        [
         "42",
         "Aku nggak bisa berhenti mikirin kesalahan masa lalu. Gimana caranya move on?",
         "Masa lalu bisa jadi beban berat. Coba tulis apa yang kamu sesali, lalu tanya: apa yang bisa aku pelajari? Setelah itu, buat langkah kecil untuk fokus pada hari ini. Kamu nggak bisa ubah masa lalu, tapi kamu bisa ciptakan masa depan.",
         "26",
         "['laku', 'bikin', 'misal', 'ngomongin', 'diri', 'kenang', 'ngajarin', 'ngerasa', 'tuju', 'tulis']",
         "['laku', 'bikin', 'misal', 'ngomongin', 'diri', 'kenang', 'ngajarin', 'ngerasa', 'tuju', 'tulis']",
         "laku bikin misal ngomongin diri kenang ngajarin ngerasa tuju tulis",
         "11"
        ],
        [
         "43",
         "Aku merasa belajar itu sia-sia karena cepet lupa. Apa yang salah?",
         "Belajar memang bisa terasa berat kalau informasinya cepat hilang dari ingatan. Tapi, nggak ada yang salah denganmu kok. Proses belajar itu melibatkan cara otak menyimpan informasi, dan kadang butuh pengulangan biar ‘nempel’. Coba pecah materi jadi bagian kecil dan ulang pelan-pelan. Juga, pastikan kamu belajar di tempat yang nyaman, biar otakmu lebih fokus.",
         "5",
         "['latih', 'susah', 'sulit', 'jangka', 'distraksi', 'tenang', 'laku', 'bagaimana', 'kadang', 'rutin']",
         "['latih', 'susah', 'sulit', 'jangka', 'distraksi', 'tenang', 'laku', 'bagaimana', 'kadang', 'rutin']",
         "latih susah sulit jangka distraksi tenang laku bagaimana kadang rutin",
         "9"
        ],
        [
         "44",
         "Aku merasa sedih terus akhir-akhir ini, apa itu tanda depresi?",
         "Sedih berkepanjangan bisa jadi salah satu tanda depresi, tapi nggak selalu. Kadang, perasaan itu muncul karena situasi tertentu, seperti stres atau kehilangan. Kalau kamu merasa sedih ini mengganggu aktivitas sehari-hari, seperti susah tidur atau nggak bisa fokus, mungkin baik untuk bicara dengan seseorang yang kamu percaya atau profesional. Aku di sini untuk dengar kalau kamu mau cerita lebih banyak.",
         "6",
         "['pikirin', 'pikir', 'kadang', 'laku', 'ngerasa', 'buat', 'emosi', 'diri', 'ngerti', 'bikin']",
         "['pikirin', 'pikir', 'kadang', 'laku', 'ngerasa', 'buat', 'emosi', 'diri', 'ngerti', 'bikin']",
         "pikirin pikir kadang laku ngerasa buat emosi diri ngerti bikin",
         "9"
        ],
        [
         "45",
         "Aku takut kalau ke dokter nanti malah dikasih obat yang bikin ketergantungan. Benar nggak sih itu?",
         "Wajar banget takut soal obat, apalagi kalau denger cerita-cerita gitu. Nggak semua perawatan mental pakai obat, kok. Banyak dokter yang mulai dari terapi bicara, dan kalau memang perlu obat, mereka biasanya jelasin risikonya. Kalau kamu khawatir, nanti bisa tanya dokter soal efek sampingnya. Apa yang bikin kamu takut sama perawatan? Aku dengerin, lho.",
         "16",
         "['saran', 'mental', 'positif', 'diskusi', 'mood', 'efektif', 'bikin', 'minta', 'penting', 'sesuai']",
         "['saran', 'mental', 'positif', 'diskusi', 'mood', 'efektif', 'bikin', 'minta', 'penting', 'sesuai']",
         "saran mental positif diskusi mood efektif bikin minta penting sesuai",
         "5"
        ],
        [
         "46",
         "Aku sering merasa cemas tanpa alasan yang jelas, apa yang bisa aku lakukan?",
         "Wah, aku tahu rasanya cemas itu bisa bikin nggak nyaman banget. Kalau cemas datang tanpa alasan jelas, mungkin kamu bisa coba teknik pernapasan dalam, seperti tarik napas pelan selama 4 detik, tahan 4 detik, lalu keluarkan selama 6 detik. Ini bisa bantu menenangkan pikiran. Kalau sering banget terjadi, mungkin juga baik untuk ceritain ke seseorang yang kamu percaya atau profesional, supaya kamu nggak merasa sendiri.",
         "46",
         "['tenangin', 'ninggalin', 'tenang', 'pelan', 'tahan', 'ngurangin', 'buat', 'pegang', 'kalau', 'relaksasi']",
         "['tenangin', 'ninggalin', 'tenang', 'pelan', 'tahan', 'ngurangin', 'buat', 'pegang', 'kalau', 'relaksasi']",
         "tenangin ninggalin tenang pelan tahan ngurangin buat pegang kalau relaksasi",
         "2"
        ],
        [
         "47",
         "Aku nggak tahu kenapa, tapi aku merasa capek banget sama hidup.",
         "Aku dengar kamu lagi merasa berat. Rasa capek itu bisa datang dari tekanan yang menumpuk, seperti beban kerja atau masalah yang nggak selesai. Ini nggak salah, kok, tapi penting buat tahu apa yang bikin capek. Mau ceritain apa yang lagi bikin kamu lelah?",
         "24",
         "['lelah', 'istirahat', 'aktivitas', 'laku', 'menit', 'wajar', 'terus', 'usaha', 'hari', 'penting']",
         "['lelah', 'istirahat', 'aktivitas', 'laku', 'menit', 'wajar', 'terus', 'usaha', 'hari', 'penting']",
         "lelah istirahat aktivitas laku menit wajar terus usaha hari penting",
         "2"
        ],
        [
         "48",
         "Aku suka overthinking, apa yang harus aku lakukan biar berhenti?",
         "Overthinking emang bikin capek pikiran, ya. Salah satu cara buat nguranginnya adalah coba alihkan perhatian ke hal yang konkret, misalnya tarik napas dalam atau fokus ke apa yang ada di sekitarmu. Apa yang biasanya bikin kamu overthinking? Kita coba cari pola dan solusinya bareng.",
         "18",
         "['kadang', 'sendiri', 'diri', 'pikir', 'ngatasinnya', 'buat', 'misal', 'konkret', 'susah', 'gimana']",
         "['kadang', 'sendiri', 'diri', 'pikir', 'ngatasinnya', 'buat', 'misal', 'konkret', 'susah', 'gimana']",
         "kadang sendiri diri pikir ngatasinnya buat misal konkret susah gimana",
         "11"
        ],
        [
         "49",
         "Aku takut kalo aku ke dokter, mereka bakal kasih obat yang bikin aku ketergantungan. Bener nggak?",
         "Kekhawatiran itu wajar, tapi dokter yang baik bakal jelasin obat apa yang kamu butuhin dan efeknya. Nggak semua obat bikin ketergantungan, kok. Coba tanya dokter soal rencana pengobatan yang aman. Kalau mau, aku bantu kasih pertanyaan yang bisa kamu tanyain ke dokter. Mau?",
         "16",
         "['saran', 'mental', 'positif', 'diskusi', 'mood', 'efektif', 'bikin', 'minta', 'penting', 'sesuai']",
         "['saran', 'mental', 'positif', 'diskusi', 'mood', 'efektif', 'bikin', 'minta', 'penting', 'sesuai']",
         "saran mental positif diskusi mood efektif bikin minta penting sesuai",
         "5"
        ]
       ],
       "shape": {
        "columns": 7,
        "rows": 5046
       }
      },
      "text/html": [
       "<div>\n",
       "<style scoped>\n",
       "    .dataframe tbody tr th:only-of-type {\n",
       "        vertical-align: middle;\n",
       "    }\n",
       "\n",
       "    .dataframe tbody tr th {\n",
       "        vertical-align: top;\n",
       "    }\n",
       "\n",
       "    .dataframe thead th {\n",
       "        text-align: right;\n",
       "    }\n",
       "</style>\n",
       "<table border=\"1\" class=\"dataframe\">\n",
       "  <thead>\n",
       "    <tr style=\"text-align: right;\">\n",
       "      <th></th>\n",
       "      <th>question</th>\n",
       "      <th>answer</th>\n",
       "      <th>Topic</th>\n",
       "      <th>Representation</th>\n",
       "      <th>rep_list</th>\n",
       "      <th>rep_clean</th>\n",
       "      <th>merged_cluster</th>\n",
       "    </tr>\n",
       "  </thead>\n",
       "  <tbody>\n",
       "    <tr>\n",
       "      <th>0</th>\n",
       "      <td>Aku suka minum alkohol biar rileks, apa itu ar...</td>\n",
       "      <td>Minum alkohol untuk rileks nggak langsung bera...</td>\n",
       "      <td>7</td>\n",
       "      <td>['mental', 'laku', 'situasi', 'kadang', 'bilan...</td>\n",
       "      <td>[mental, laku, situasi, kadang, bilang, stres,...</td>\n",
       "      <td>mental laku situasi kadang bilang stres tenang...</td>\n",
       "      <td>9</td>\n",
       "    </tr>\n",
       "    <tr>\n",
       "      <th>1</th>\n",
       "      <td>Saya merasa bersalah karena sering marah ke an...</td>\n",
       "      <td>Hai, rasa bersalah itu tanda kamu peduli bange...</td>\n",
       "      <td>19</td>\n",
       "      <td>['mindset', 'sifat', 'pengaruh', 'sendiri', 'p...</td>\n",
       "      <td>[mindset, sifat, pengaruh, sendiri, percaya, k...</td>\n",
       "      <td>mindset sifat pengaruh sendiri percaya kadang ...</td>\n",
       "      <td>6</td>\n",
       "    </tr>\n",
       "    <tr>\n",
       "      <th>2</th>\n",
       "      <td>Aku merasa otakku lelet buat mengingat pelajar...</td>\n",
       "      <td>Belajar itu memang kadang terasa berat, tapi k...</td>\n",
       "      <td>5</td>\n",
       "      <td>['latih', 'susah', 'sulit', 'jangka', 'distrak...</td>\n",
       "      <td>[latih, susah, sulit, jangka, distraksi, tenan...</td>\n",
       "      <td>latih susah sulit jangka distraksi tenang laku...</td>\n",
       "      <td>9</td>\n",
       "    </tr>\n",
       "    <tr>\n",
       "      <th>3</th>\n",
       "      <td>Aku takut psikolog nggak ngerti budayaku. Apa ...</td>\n",
       "      <td>Aku ngerti kamu pengen dipahami sesuai budayam...</td>\n",
       "      <td>22</td>\n",
       "      <td>['psychological', 'psikolog', 'kompetensi', 'l...</td>\n",
       "      <td>[psychological, psikolog, kompetensi, latih, k...</td>\n",
       "      <td>psychological psikolog kompetensi latih khawat...</td>\n",
       "      <td>8</td>\n",
       "    </tr>\n",
       "    <tr>\n",
       "      <th>4</th>\n",
       "      <td>Saya sering bermimpi, tapi tidak tahu artinya....</td>\n",
       "      <td>Mimpi itu seperti petunjuk dari batinmu—seru b...</td>\n",
       "      <td>44</td>\n",
       "      <td>['emosi', 'bilang', 'tenang', 'tulis', 'kadang...</td>\n",
       "      <td>[emosi, bilang, tenang, tulis, kadang, diri, k...</td>\n",
       "      <td>emosi bilang tenang tulis kadang diri kamu kal...</td>\n",
       "      <td>11</td>\n",
       "    </tr>\n",
       "    <tr>\n",
       "      <th>...</th>\n",
       "      <td>...</td>\n",
       "      <td>...</td>\n",
       "      <td>...</td>\n",
       "      <td>...</td>\n",
       "      <td>...</td>\n",
       "      <td>...</td>\n",
       "      <td>...</td>\n",
       "    </tr>\n",
       "    <tr>\n",
       "      <th>5041</th>\n",
       "      <td>Aku merasa nggak ada yang peduli sama orang-or...</td>\n",
       "      <td>Aku tahu rasanya bisa terasa begitu, tapi sebe...</td>\n",
       "      <td>15</td>\n",
       "      <td>['saran', 'mental', 'sosial', 'muda', 'soal', ...</td>\n",
       "      <td>[saran, mental, sosial, muda, soal, konselor, ...</td>\n",
       "      <td>saran mental sosial muda soal konselor bantu k...</td>\n",
       "      <td>4</td>\n",
       "    </tr>\n",
       "    <tr>\n",
       "      <th>5042</th>\n",
       "      <td>Emilia, kenapa ya layanan buat orang dengan ga...</td>\n",
       "      <td>Sayangnya, banyak layanan memang menghadapi ta...</td>\n",
       "      <td>15</td>\n",
       "      <td>['saran', 'mental', 'sosial', 'muda', 'soal', ...</td>\n",
       "      <td>[saran, mental, sosial, muda, soal, konselor, ...</td>\n",
       "      <td>saran mental sosial muda soal konselor bantu k...</td>\n",
       "      <td>4</td>\n",
       "    </tr>\n",
       "    <tr>\n",
       "      <th>5043</th>\n",
       "      <td>Aku dengar tentang community mental health cen...</td>\n",
       "      <td>Community mental health centers itu pusat laya...</td>\n",
       "      <td>15</td>\n",
       "      <td>['saran', 'mental', 'sosial', 'muda', 'soal', ...</td>\n",
       "      <td>[saran, mental, sosial, muda, soal, konselor, ...</td>\n",
       "      <td>saran mental sosial muda soal konselor bantu k...</td>\n",
       "      <td>4</td>\n",
       "    </tr>\n",
       "    <tr>\n",
       "      <th>5044</th>\n",
       "      <td>Emilia, aku merasa sistem pelayanan kesehatan ...</td>\n",
       "      <td>Aku paham, rasanya frustrasi kalau layanan ngg...</td>\n",
       "      <td>15</td>\n",
       "      <td>['saran', 'mental', 'sosial', 'muda', 'soal', ...</td>\n",
       "      <td>[saran, mental, sosial, muda, soal, konselor, ...</td>\n",
       "      <td>saran mental sosial muda soal konselor bantu k...</td>\n",
       "      <td>4</td>\n",
       "    </tr>\n",
       "    <tr>\n",
       "      <th>5045</th>\n",
       "      <td>Aku takut gagal kalau coba hal baru. Apa aku h...</td>\n",
       "      <td>Takut gagal itu normal, tapi zona nyaman bisa ...</td>\n",
       "      <td>11</td>\n",
       "      <td>['anggap', 'diri', 'laku', 'tiap', 'misal', 'f...</td>\n",
       "      <td>[anggap, diri, laku, tiap, misal, fokus, ngata...</td>\n",
       "      <td>anggap diri laku tiap misal fokus ngatasin nge...</td>\n",
       "      <td>8</td>\n",
       "    </tr>\n",
       "  </tbody>\n",
       "</table>\n",
       "<p>5046 rows × 7 columns</p>\n",
       "</div>"
      ],
      "text/plain": [
       "                                               question  \\\n",
       "0     Aku suka minum alkohol biar rileks, apa itu ar...   \n",
       "1     Saya merasa bersalah karena sering marah ke an...   \n",
       "2     Aku merasa otakku lelet buat mengingat pelajar...   \n",
       "3     Aku takut psikolog nggak ngerti budayaku. Apa ...   \n",
       "4     Saya sering bermimpi, tapi tidak tahu artinya....   \n",
       "...                                                 ...   \n",
       "5041  Aku merasa nggak ada yang peduli sama orang-or...   \n",
       "5042  Emilia, kenapa ya layanan buat orang dengan ga...   \n",
       "5043  Aku dengar tentang community mental health cen...   \n",
       "5044  Emilia, aku merasa sistem pelayanan kesehatan ...   \n",
       "5045  Aku takut gagal kalau coba hal baru. Apa aku h...   \n",
       "\n",
       "                                                 answer  Topic  \\\n",
       "0     Minum alkohol untuk rileks nggak langsung bera...      7   \n",
       "1     Hai, rasa bersalah itu tanda kamu peduli bange...     19   \n",
       "2     Belajar itu memang kadang terasa berat, tapi k...      5   \n",
       "3     Aku ngerti kamu pengen dipahami sesuai budayam...     22   \n",
       "4     Mimpi itu seperti petunjuk dari batinmu—seru b...     44   \n",
       "...                                                 ...    ...   \n",
       "5041  Aku tahu rasanya bisa terasa begitu, tapi sebe...     15   \n",
       "5042  Sayangnya, banyak layanan memang menghadapi ta...     15   \n",
       "5043  Community mental health centers itu pusat laya...     15   \n",
       "5044  Aku paham, rasanya frustrasi kalau layanan ngg...     15   \n",
       "5045  Takut gagal itu normal, tapi zona nyaman bisa ...     11   \n",
       "\n",
       "                                         Representation  \\\n",
       "0     ['mental', 'laku', 'situasi', 'kadang', 'bilan...   \n",
       "1     ['mindset', 'sifat', 'pengaruh', 'sendiri', 'p...   \n",
       "2     ['latih', 'susah', 'sulit', 'jangka', 'distrak...   \n",
       "3     ['psychological', 'psikolog', 'kompetensi', 'l...   \n",
       "4     ['emosi', 'bilang', 'tenang', 'tulis', 'kadang...   \n",
       "...                                                 ...   \n",
       "5041  ['saran', 'mental', 'sosial', 'muda', 'soal', ...   \n",
       "5042  ['saran', 'mental', 'sosial', 'muda', 'soal', ...   \n",
       "5043  ['saran', 'mental', 'sosial', 'muda', 'soal', ...   \n",
       "5044  ['saran', 'mental', 'sosial', 'muda', 'soal', ...   \n",
       "5045  ['anggap', 'diri', 'laku', 'tiap', 'misal', 'f...   \n",
       "\n",
       "                                               rep_list  \\\n",
       "0     [mental, laku, situasi, kadang, bilang, stres,...   \n",
       "1     [mindset, sifat, pengaruh, sendiri, percaya, k...   \n",
       "2     [latih, susah, sulit, jangka, distraksi, tenan...   \n",
       "3     [psychological, psikolog, kompetensi, latih, k...   \n",
       "4     [emosi, bilang, tenang, tulis, kadang, diri, k...   \n",
       "...                                                 ...   \n",
       "5041  [saran, mental, sosial, muda, soal, konselor, ...   \n",
       "5042  [saran, mental, sosial, muda, soal, konselor, ...   \n",
       "5043  [saran, mental, sosial, muda, soal, konselor, ...   \n",
       "5044  [saran, mental, sosial, muda, soal, konselor, ...   \n",
       "5045  [anggap, diri, laku, tiap, misal, fokus, ngata...   \n",
       "\n",
       "                                              rep_clean  merged_cluster  \n",
       "0     mental laku situasi kadang bilang stres tenang...               9  \n",
       "1     mindset sifat pengaruh sendiri percaya kadang ...               6  \n",
       "2     latih susah sulit jangka distraksi tenang laku...               9  \n",
       "3     psychological psikolog kompetensi latih khawat...               8  \n",
       "4     emosi bilang tenang tulis kadang diri kamu kal...              11  \n",
       "...                                                 ...             ...  \n",
       "5041  saran mental sosial muda soal konselor bantu k...               4  \n",
       "5042  saran mental sosial muda soal konselor bantu k...               4  \n",
       "5043  saran mental sosial muda soal konselor bantu k...               4  \n",
       "5044  saran mental sosial muda soal konselor bantu k...               4  \n",
       "5045  anggap diri laku tiap misal fokus ngatasin nge...               8  \n",
       "\n",
       "[5046 rows x 7 columns]"
      ]
     },
     "execution_count": 53,
     "metadata": {},
     "output_type": "execute_result"
    }
   ],
   "source": [
    "final_threshold = 0.4\n",
    "clusters = fcluster(Z, t=final_threshold, criterion=\"distance\")\n",
    "df[\"merged_cluster\"] = clusters\n",
    "\n",
    "df.to_csv(\"clustered4.csv\", sep=\";\", index=False, encoding=\"utf-8-sig\")\n",
    "df"
   ]
  },
  {
   "cell_type": "code",
   "execution_count": 41,
   "id": "80d8f42d",
   "metadata": {},
   "outputs": [
    {
     "data": {
      "application/vnd.microsoft.datawrangler.viewer.v0+json": {
       "columns": [
        {
         "name": "index",
         "rawType": "int64",
         "type": "integer"
        },
        {
         "name": "Topic",
         "rawType": "int64",
         "type": "integer"
        },
        {
         "name": "rep_clean",
         "rawType": "object",
         "type": "string"
        },
        {
         "name": "merged_cluster",
         "rawType": "int64",
         "type": "integer"
        }
       ],
       "ref": "2250090b-1f52-4558-90b4-62b4cb2b1146",
       "rows": [
        [
         "0",
         "7",
         "mental laku situasi kadang bilang stres tenang misal ganti aktivitas",
         "1"
        ],
        [
         "1",
         "19",
         "mindset sifat pengaruh sendiri percaya kadang laku nilai wajar didik",
         "5"
        ],
        [
         "2",
         "5",
         "latih susah sulit jangka distraksi tenang laku bagaimana kadang rutin",
         "7"
        ],
        [
         "3",
         "22",
         "psychological psikolog kompetensi latih khawatir terapi penting coba bikin etik",
         "24"
        ],
        [
         "4",
         "44",
         "emosi bilang tenang tulis kadang diri kamu kalau mau bicara",
         "53"
        ],
        [
         "5",
         "10",
         "emosi stres tenang kadang reaksi ganggu ngeluarin ngerasa nyakitin coba",
         "13"
        ],
        [
         "6",
         "48",
         "gimana gelisah biar buat tenang pikir coba kamu tulis angan",
         "54"
        ],
        [
         "7",
         "40",
         "bagaimana bilang saran tulis diri kalau tanya coba kamu kadang",
         "33"
        ],
        [
         "8",
         "40",
         "bagaimana bilang saran tulis diri kalau tanya coba kamu kadang",
         "33"
        ],
        [
         "9",
         "12",
         "hubung misal aktivitas meski kadang laku ngobrol bikin ngerasa ngerti",
         "29"
        ],
        [
         "10",
         "54",
         "mental inspirasi semangat frustrasi motivasi bikin edukasi diri aktivitas bagaimana",
         "18"
        ],
        [
         "11",
         "38",
         "halusinasi kenang bilang kadang persepsi pikir kalau tulis sadar perhati",
         "34"
        ],
        [
         "12",
         "24",
         "lelah istirahat aktivitas laku menit wajar terus usaha hari penting",
         "12"
        ],
        [
         "13",
         "22",
         "psychological psikolog kompetensi latih khawatir terapi penting coba bikin etik",
         "24"
        ],
        [
         "14",
         "42",
         "bagaimana bilang diri tulis eksekusi tak respons punya gustav coba",
         "8"
        ],
        [
         "15",
         "44",
         "emosi bilang tenang tulis kadang diri kamu kalau mau bicara",
         "53"
        ],
        [
         "16",
         "28",
         "emosi perilaku behavioral buat cognitive bilang pikir kamu kognitif latih",
         "30"
        ],
        [
         "17",
         "21",
         "mental suportif anggap sendiri jiwa percaya stigma bilang khawatir ngerasa",
         "45"
        ],
        [
         "18",
         "39",
         "biar ngerasa khawatir buat diri lewatin coba nemenin bikin susah",
         "36"
        ],
        [
         "19",
         "10",
         "emosi stres tenang kadang reaksi ganggu ngeluarin ngerasa nyakitin coba",
         "13"
        ],
        [
         "20",
         "8",
         "rutinitas laku gelisah bikin ritme misal atur pakai hindar waktu",
         "39"
        ],
        [
         "21",
         "17",
         "psikoterapi psikologi psikolog terapi psikiater depresi praktis perilaku klinis clinical",
         "23"
        ],
        [
         "22",
         "42",
         "bagaimana bilang diri tulis eksekusi tak respons punya gustav coba",
         "8"
        ],
        [
         "23",
         "20",
         "mental edukasi sulit susah pikirin sendiri stres kadang laku fokus",
         "3"
        ],
        [
         "24",
         "37",
         "tenangin gimana buat bagaimana tenang balikin susah mula coba pelan",
         "42"
        ],
        [
         "25",
         "28",
         "emosi perilaku behavioral buat cognitive bilang pikir kamu kognitif latih",
         "30"
        ],
        [
         "26",
         "39",
         "biar ngerasa khawatir buat diri lewatin coba nemenin bikin susah",
         "36"
        ],
        [
         "27",
         "12",
         "hubung misal aktivitas meski kadang laku ngobrol bikin ngerasa ngerti",
         "29"
        ],
        [
         "28",
         "35",
         "kalian gimana ngerasa ngatur diri tenang kamu buat kadang temperamen",
         "47"
        ],
        [
         "29",
         "23",
         "motivasi ego didik fokus ambisi ragu usaha ngorbankan ambisius sendiri",
         "14"
        ],
        [
         "30",
         "26",
         "laku bikin misal ngomongin diri kenang ngajarin ngerasa tuju tulis",
         "51"
        ],
        [
         "31",
         "22",
         "psychological psikolog kompetensi latih khawatir terapi penting coba bikin etik",
         "24"
        ],
        [
         "32",
         "0",
         "kadang fokus pikir meski hubung bingung ngerasa laku misal semangat",
         "25"
        ],
        [
         "33",
         "54",
         "mental inspirasi semangat frustrasi motivasi bikin edukasi diri aktivitas bagaimana",
         "18"
        ],
        [
         "34",
         "25",
         "psikolog susah khawatir ganggu lisan ceritain takut mampu bikin neuropsikologi",
         "16"
        ],
        [
         "35",
         "29",
         "mental motivasi diri bagaimana bosan mood kamu bagai susah sulit",
         "20"
        ],
        [
         "36",
         "30",
         "bagaimana mood relaksasi sensasi mula tegang rasa makin sesi lepas",
         "9"
        ],
        [
         "37",
         "7",
         "mental laku situasi kadang bilang stres tenang misal ganti aktivitas",
         "1"
        ],
        [
         "38",
         "24",
         "lelah istirahat aktivitas laku menit wajar terus usaha hari penting",
         "12"
        ],
        [
         "39",
         "41",
         "ngerasa kenang ngelupain buat ganggu diri bikin kamu ngejudge kalau",
         "32"
        ],
        [
         "40",
         "46",
         "tenangin ninggalin tenang pelan tahan ngurangin buat pegang kalau relaksasi",
         "22"
        ],
        [
         "41",
         "41",
         "ngerasa kenang ngelupain buat ganggu diri bikin kamu ngejudge kalau",
         "32"
        ],
        [
         "42",
         "26",
         "laku bikin misal ngomongin diri kenang ngajarin ngerasa tuju tulis",
         "51"
        ],
        [
         "43",
         "5",
         "latih susah sulit jangka distraksi tenang laku bagaimana kadang rutin",
         "7"
        ],
        [
         "44",
         "6",
         "pikirin pikir kadang laku ngerasa buat emosi diri ngerti bikin",
         "41"
        ],
        [
         "45",
         "16",
         "saran mental positif diskusi mood efektif bikin minta penting sesuai",
         "2"
        ],
        [
         "46",
         "46",
         "tenangin ninggalin tenang pelan tahan ngurangin buat pegang kalau relaksasi",
         "22"
        ],
        [
         "47",
         "24",
         "lelah istirahat aktivitas laku menit wajar terus usaha hari penting",
         "12"
        ],
        [
         "48",
         "18",
         "kadang sendiri diri pikir ngatasinnya buat misal konkret susah gimana",
         "31"
        ],
        [
         "49",
         "16",
         "saran mental positif diskusi mood efektif bikin minta penting sesuai",
         "2"
        ]
       ],
       "shape": {
        "columns": 3,
        "rows": 5046
       }
      },
      "text/html": [
       "<div>\n",
       "<style scoped>\n",
       "    .dataframe tbody tr th:only-of-type {\n",
       "        vertical-align: middle;\n",
       "    }\n",
       "\n",
       "    .dataframe tbody tr th {\n",
       "        vertical-align: top;\n",
       "    }\n",
       "\n",
       "    .dataframe thead th {\n",
       "        text-align: right;\n",
       "    }\n",
       "</style>\n",
       "<table border=\"1\" class=\"dataframe\">\n",
       "  <thead>\n",
       "    <tr style=\"text-align: right;\">\n",
       "      <th></th>\n",
       "      <th>Topic</th>\n",
       "      <th>rep_clean</th>\n",
       "      <th>merged_cluster</th>\n",
       "    </tr>\n",
       "  </thead>\n",
       "  <tbody>\n",
       "    <tr>\n",
       "      <th>0</th>\n",
       "      <td>7</td>\n",
       "      <td>mental laku situasi kadang bilang stres tenang...</td>\n",
       "      <td>1</td>\n",
       "    </tr>\n",
       "    <tr>\n",
       "      <th>1</th>\n",
       "      <td>19</td>\n",
       "      <td>mindset sifat pengaruh sendiri percaya kadang ...</td>\n",
       "      <td>5</td>\n",
       "    </tr>\n",
       "    <tr>\n",
       "      <th>2</th>\n",
       "      <td>5</td>\n",
       "      <td>latih susah sulit jangka distraksi tenang laku...</td>\n",
       "      <td>7</td>\n",
       "    </tr>\n",
       "    <tr>\n",
       "      <th>3</th>\n",
       "      <td>22</td>\n",
       "      <td>psychological psikolog kompetensi latih khawat...</td>\n",
       "      <td>24</td>\n",
       "    </tr>\n",
       "    <tr>\n",
       "      <th>4</th>\n",
       "      <td>44</td>\n",
       "      <td>emosi bilang tenang tulis kadang diri kamu kal...</td>\n",
       "      <td>53</td>\n",
       "    </tr>\n",
       "    <tr>\n",
       "      <th>...</th>\n",
       "      <td>...</td>\n",
       "      <td>...</td>\n",
       "      <td>...</td>\n",
       "    </tr>\n",
       "    <tr>\n",
       "      <th>5041</th>\n",
       "      <td>15</td>\n",
       "      <td>saran mental sosial muda soal konselor bantu k...</td>\n",
       "      <td>4</td>\n",
       "    </tr>\n",
       "    <tr>\n",
       "      <th>5042</th>\n",
       "      <td>15</td>\n",
       "      <td>saran mental sosial muda soal konselor bantu k...</td>\n",
       "      <td>4</td>\n",
       "    </tr>\n",
       "    <tr>\n",
       "      <th>5043</th>\n",
       "      <td>15</td>\n",
       "      <td>saran mental sosial muda soal konselor bantu k...</td>\n",
       "      <td>4</td>\n",
       "    </tr>\n",
       "    <tr>\n",
       "      <th>5044</th>\n",
       "      <td>15</td>\n",
       "      <td>saran mental sosial muda soal konselor bantu k...</td>\n",
       "      <td>4</td>\n",
       "    </tr>\n",
       "    <tr>\n",
       "      <th>5045</th>\n",
       "      <td>11</td>\n",
       "      <td>anggap diri laku tiap misal fokus ngatasin nge...</td>\n",
       "      <td>37</td>\n",
       "    </tr>\n",
       "  </tbody>\n",
       "</table>\n",
       "<p>5046 rows × 3 columns</p>\n",
       "</div>"
      ],
      "text/plain": [
       "      Topic                                          rep_clean  merged_cluster\n",
       "0         7  mental laku situasi kadang bilang stres tenang...               1\n",
       "1        19  mindset sifat pengaruh sendiri percaya kadang ...               5\n",
       "2         5  latih susah sulit jangka distraksi tenang laku...               7\n",
       "3        22  psychological psikolog kompetensi latih khawat...              24\n",
       "4        44  emosi bilang tenang tulis kadang diri kamu kal...              53\n",
       "...     ...                                                ...             ...\n",
       "5041     15  saran mental sosial muda soal konselor bantu k...               4\n",
       "5042     15  saran mental sosial muda soal konselor bantu k...               4\n",
       "5043     15  saran mental sosial muda soal konselor bantu k...               4\n",
       "5044     15  saran mental sosial muda soal konselor bantu k...               4\n",
       "5045     11  anggap diri laku tiap misal fokus ngatasin nge...              37\n",
       "\n",
       "[5046 rows x 3 columns]"
      ]
     },
     "execution_count": 41,
     "metadata": {},
     "output_type": "execute_result"
    }
   ],
   "source": [
    "df[[\"Topic\", \"rep_clean\", \"merged_cluster\"]]"
   ]
  },
  {
   "cell_type": "code",
   "execution_count": 37,
   "id": "49528d5d",
   "metadata": {},
   "outputs": [
    {
     "name": "stdout",
     "output_type": "stream",
     "text": [
      "Jarak minimum antar topik: 0.0\n",
      "Jarak maksimum antar topik: 0.90976405\n"
     ]
    }
   ],
   "source": [
    "from sklearn.metrics.pairwise import cosine_distances\n",
    "\n",
    "dist_matrix = cosine_distances(embeddings)\n",
    "print(\"Jarak minimum antar topik:\", dist_matrix[np.triu_indices_from(dist_matrix, 1)].min())\n",
    "print(\"Jarak maksimum antar topik:\", dist_matrix[np.triu_indices_from(dist_matrix, 1)].max())\n"
   ]
  },
  {
   "cell_type": "code",
   "execution_count": null,
   "id": "412bfaa5",
   "metadata": {},
   "outputs": [
    {
     "data": {
      "image/png": "[encoded data removed]",
      "text/plain": [
       "<Figure size 1200x600 with 1 Axes>"
      ]
     },
     "metadata": {},
     "output_type": "display_data"
    }
   ],
   "source": [
    "import matplotlib.pyplot as plt\n",
    "from scipy.cluster.hierarchy import linkage, dendrogram\n",
    "\n",
    "Z = linkage(embeddings, method=\"ward\")\n",
    "\n",
    "plt.figure(figsize=(12, 6))\n",
    "dendrogram(Z, truncate_mode=\"level\", p=10)  \n",
    "plt.title(\"Dendrogram Topik\")\n",
    "plt.xlabel(\"Topik\")\n",
    "plt.ylabel(\"Jarak (cosine distance proxy)\")\n",
    "plt.show()\n"
   ]
  },
  {
   "cell_type": "code",
   "execution_count": null,
   "id": "270b2c08",
   "metadata": {},
   "outputs": [
    {
     "name": "stdout",
     "output_type": "stream",
     "text": [
      "Cluster 9: [0, 4, 5, 6, 7, 8, 9, 10, 12, 13, 14, 20, 28, 29, 34, 38, 51, 54] (jumlah topic: 18)\n",
      "Cluster 6: [3, 19, 23] (jumlah topic: 3)\n",
      "Cluster 8: [1, 11, 21, 22, 25, 33, 47] (jumlah topic: 7)\n",
      "Cluster 11: [18, 26, 31, 32, 35, 36, 37, 39, 40, 41, 43, 44, 45, 48, 49, 50, 52] (jumlah topic: 17)\n",
      "Cluster 2: [24, 30, 46] (jumlah topic: 3)\n",
      "Cluster 10: [42] (jumlah topic: 1)\n",
      "Cluster 3: [17] (jumlah topic: 1)\n",
      "Cluster 5: [16] (jumlah topic: 1)\n",
      "Cluster 4: [15] (jumlah topic: 1)\n",
      "Cluster 7: [27, 53] (jumlah topic: 2)\n",
      "Cluster 1: [2] (jumlah topic: 1)\n",
      "\n",
      "--- Ringkasan ---\n",
      "Total cluster: 11\n",
      "Cluster terbesar: 9 dengan 18 topic\n",
      "Cluster terkecil: 10 dengan 1 topic\n"
     ]
    }
   ],
   "source": [
    "from collections import defaultdict\n",
    "\n",
    "clusters = defaultdict(list)\n",
    "\n",
    "for topic, cluster in zip(df[\"Topic\"], df[\"merged_cluster\"]):\n",
    "    clusters[cluster].append(topic)\n",
    "\n",
    "for c, topics in clusters.items():\n",
    "    print(f\"Cluster {c}: {sorted(set(topics))} (jumlah topic: {len(set(topics))})\")\n",
    "\n",
    "print(\"\\n--- Ringkasan ---\")\n",
    "print(f\"Total cluster: {len(clusters)}\")\n",
    "\n",
    "largest_cluster = max(clusters.items(), key=lambda x: len(set(x[1])))\n",
    "smallest_cluster = min(clusters.items(), key=lambda x: len(set(x[1])))\n",
    "\n",
    "print(f\"Cluster terbesar: {largest_cluster[0]} dengan {len(set(largest_cluster[1]))} topic\")\n",
    "print(f\"Cluster terkecil: {smallest_cluster[0]} dengan {len(set(smallest_cluster[1]))} topic\")\n"
   ]
  },
  {
   "cell_type": "markdown",
   "id": "5db18c3d",
   "metadata": {},
   "source": [
    "## Penggabungan Cluster"
   ]
  },
  {
   "cell_type": "code",
   "execution_count": 70,
   "id": "b03901c0",
   "metadata": {},
   "outputs": [
    {
     "name": "stdout",
     "output_type": "stream",
     "text": [
      "                                            question  \\\n",
      "0  Aku suka minum alkohol biar rileks, apa itu ar...   \n",
      "1  Saya merasa bersalah karena sering marah ke an...   \n",
      "2  Aku merasa otakku lelet buat mengingat pelajar...   \n",
      "3  Aku takut psikolog nggak ngerti budayaku. Apa ...   \n",
      "4  Saya sering bermimpi, tapi tidak tahu artinya....   \n",
      "\n",
      "                                              answer  Topic  \\\n",
      "0  Minum alkohol untuk rileks nggak langsung bera...      7   \n",
      "1  Hai, rasa bersalah itu tanda kamu peduli bange...     19   \n",
      "2  Belajar itu memang kadang terasa berat, tapi k...      5   \n",
      "3  Aku ngerti kamu pengen dipahami sesuai budayam...     22   \n",
      "4  Mimpi itu seperti petunjuk dari batinmu—seru b...     44   \n",
      "\n",
      "                                      Representation  Probability  \\\n",
      "0  ['mental', 'laku', 'situasi', 'kadang', 'bilan...     0.858497   \n",
      "1  ['mindset', 'sifat', 'pengaruh', 'sendiri', 'p...     0.935776   \n",
      "2  ['latih', 'susah', 'sulit', 'jangka', 'distrak...     1.000000   \n",
      "3  ['psychological', 'psikolog', 'kompetensi', 'l...     0.269745   \n",
      "4  ['emosi', 'bilang', 'tenang', 'tulis', 'kadang...     1.000000   \n",
      "\n",
      "   Representative_document     Cluster  \n",
      "0                     True   Cluster 9  \n",
      "1                     True   Cluster 6  \n",
      "2                     True   Cluster 9  \n",
      "3                     True   Cluster 8  \n",
      "4                     True  Cluster 11  \n"
     ]
    }
   ],
   "source": [
    "import pandas as pd\n",
    "df_mix = pd.read_csv(\"KP_tanpaoutlier_new.csv\", sep=\";\")\n",
    "\n",
    "topic_to_cluster = {\n",
    "    0: \"Cluster 9\", 4: \"Cluster 9\", 5: \"Cluster 9\", 6: \"Cluster 9\", 7: \"Cluster 9\",\n",
    "    8: \"Cluster 9\", 9: \"Cluster 9\", 10: \"Cluster 9\", 12: \"Cluster 9\", 13: \"Cluster 9\",\n",
    "    14: \"Cluster 9\", 20: \"Cluster 9\", 28: \"Cluster 9\", 29: \"Cluster 9\", 34: \"Cluster 9\",\n",
    "    38: \"Cluster 9\", 51: \"Cluster 9\", 54: \"Cluster 9\",\n",
    "\n",
    "    3: \"Cluster 6\", 19: \"Cluster 6\", 23: \"Cluster 6\",\n",
    "\n",
    "    1: \"Cluster 8\", 11: \"Cluster 8\", 21: \"Cluster 8\", 22: \"Cluster 8\",\n",
    "    25: \"Cluster 8\", 33: \"Cluster 8\", 47: \"Cluster 8\",\n",
    "\n",
    "    18: \"Cluster 11\", 26: \"Cluster 11\", 31: \"Cluster 11\", 32: \"Cluster 11\",\n",
    "    35: \"Cluster 11\", 36: \"Cluster 11\", 37: \"Cluster 11\", 39: \"Cluster 11\",\n",
    "    40: \"Cluster 11\", 41: \"Cluster 11\", 43: \"Cluster 11\", 44: \"Cluster 11\",\n",
    "    45: \"Cluster 11\", 48: \"Cluster 11\", 49: \"Cluster 11\", 50: \"Cluster 11\",\n",
    "    52: \"Cluster 11\",\n",
    "\n",
    "    24: \"Cluster 2\", 30: \"Cluster 2\", 46: \"Cluster 2\",\n",
    "\n",
    "    42: \"Cluster 10\",\n",
    "\n",
    "    17: \"Cluster 3\",\n",
    "    16: \"Cluster 5\",\n",
    "    15: \"Cluster 4\",\n",
    "\n",
    "    27: \"Cluster 7\", 53: \"Cluster 7\",\n",
    "\n",
    "    2: \"Cluster 1\"\n",
    "}\n",
    "\n",
    "# Tambah kolom baru 'Cluster' berdasarkan mapping\n",
    "df_mix['Cluster'] = df_mix['Topic'].map(topic_to_cluster)\n",
    "\n",
    "# Cek hasil\n",
    "print(df_mix.head())\n"
   ]
  },
  {
   "cell_type": "code",
   "execution_count": 71,
   "id": "c8f40624",
   "metadata": {},
   "outputs": [],
   "source": [
    "df_mix.to_csv(\"KP_tanpaoutliernew_11fix.csv\", index=False, sep=\";\", encoding=\"utf-8-sig\", quoting=csv.QUOTE_ALL)"
   ]
  },
  {
   "cell_type": "code",
   "execution_count": null,
   "id": "0f1b3c06",
   "metadata": {},
   "outputs": [
    {
     "name": "stdout",
     "output_type": "stream",
     "text": [
      "                                           ﻿question  \\\n",
      "0  Bagaimana cara berhenti menyalahkan diri sendi...   \n",
      "1  Kenapa, ya, aku jadi menjauh dari teman setela...   \n",
      "2   Seperti apa contoh permintaan maaf yang efektif?   \n",
      "3  Kenapa aku perlu memaafkan diriku sebelum oran...   \n",
      "4  Langkah pertama menata ulang hidup setelah kes...   \n",
      "\n",
      "                                              answer  \\\n",
      "0  Mulailah memetakan fakta: apa yang benar-benar...   \n",
      "1  Perasaan bersalah yang belum diproses menimbul...   \n",
      "2  Pertama, rangkum inti peristiwa: \"Aku sadar ke...   \n",
      "3  Self-forgiveness memutus siklus rasa bersalah ...   \n",
      "4  Mulailah dari hal simpel: tidur cukup, rutinit...   \n",
      "\n",
      "                                            Document  Topic  \\\n",
      "0  q bagaimana cara henti salah diri sendiri atas...     -1   \n",
      "1  q aku jadi jauh teman laku salah a asa salah p...     -1   \n",
      "2  q apa contoh minta maaf efektif a pertama rang...     -1   \n",
      "3  q aku perlu maaf diri orang a self-forgiveness...     50   \n",
      "4  q langkah pertama tata ulang hidup salah apa a...      5   \n",
      "\n",
      "                               Name  \\\n",
      "0      -1_psikolog_ubah_diri_tenang   \n",
      "1      -1_psikolog_ubah_diri_tenang   \n",
      "2      -1_psikolog_ubah_diri_tenang   \n",
      "3  50_suportif_minta_gimana_ngerasa   \n",
      "4        5_latih_susah_sulit_jangka   \n",
      "\n",
      "                                      Representation  \\\n",
      "0  ['psikolog', 'ubah', 'diri', 'tenang', 'biar',...   \n",
      "1  ['psikolog', 'ubah', 'diri', 'tenang', 'biar',...   \n",
      "2  ['psikolog', 'ubah', 'diri', 'tenang', 'biar',...   \n",
      "3  ['suportif', 'minta', 'gimana', 'ngerasa', 'bu...   \n",
      "4  ['latih', 'susah', 'sulit', 'jangka', 'distrak...   \n",
      "\n",
      "                                 Representative_Docs  \\\n",
      "0  ['q aku ngerasa dunia adil semua orang cuma mi...   \n",
      "1  ['q aku ngerasa dunia adil semua orang cuma mi...   \n",
      "2  ['q aku ngerasa dunia adil semua orang cuma mi...   \n",
      "3  ['q aku rasa salah banget atas udah jadi giman...   \n",
      "4  ['q aku sering ngerasa otak penuh kalau ajar b...   \n",
      "\n",
      "                                         Top_n_words  Probability  \\\n",
      "0  psikolog - ubah - diri - tenang - biar - bilan...     0.000000   \n",
      "1  psikolog - ubah - diri - tenang - biar - bilan...     0.000000   \n",
      "2  psikolog - ubah - diri - tenang - biar - bilan...     0.000000   \n",
      "3  suportif - minta - gimana - ngerasa - buat - t...     1.000000   \n",
      "4  latih - susah - sulit - jangka - distraksi - t...     0.868044   \n",
      "\n",
      "   Representative_document  \n",
      "0                    False  \n",
      "1                    False  \n",
      "2                    False  \n",
      "3                    False  \n",
      "4                    False  \n",
      "Index(['﻿question', 'answer', 'Document', 'Topic', 'Name', 'Representation',\n",
      "       'Representative_Docs', 'Top_n_words', 'Probability',\n",
      "       'Representative_document'],\n",
      "      dtype='object')\n"
     ]
    }
   ],
   "source": [
    "import pandas as pd\n",
    "\n",
    "df = pd.read_csv(\n",
    "    r\"C:\\Users\\Liza\\Documents\\emilia\\topic model\\new_KPL12_25_7500.csv\",\n",
    "    sep=None,             \n",
    "    engine='python',      \n",
    ")\n",
    "print(df.head())\n",
    "print(df.columns)"
   ]
  },
  {
   "cell_type": "code",
   "execution_count": 11,
   "id": "89d567b5",
   "metadata": {},
   "outputs": [
    {
     "data": {
      "application/vnd.microsoft.datawrangler.viewer.v0+json": {
       "columns": [
        {
         "name": "index",
         "rawType": "int64",
         "type": "integer"
        },
        {
         "name": "Topic",
         "rawType": "int64",
         "type": "integer"
        },
        {
         "name": "Top_n_words",
         "rawType": "object",
         "type": "string"
        },
        {
         "name": "question",
         "rawType": "object",
         "type": "string"
        },
        {
         "name": "answer",
         "rawType": "object",
         "type": "string"
        },
        {
         "name": "Representative_document",
         "rawType": "bool",
         "type": "boolean"
        }
       ],
       "ref": "77cbff35-bcab-4ea9-a760-f5e79e00dcc8",
       "rows": [
        [
         "167",
         "50",
         "suportif - minta - gimana - ngerasa - buat - tulis - bantu - diri - ucap - coba",
         "Aku merasa bersalah banget atas sesuatu yang udah terjadi. Gimana cara ngatasin perasaan ini?",
         "Rasa bersalah bisa terasa berat, kayak beban yang nggak hilang. Coba tanya ke diri sendiri, apa yang bikin kamu merasa bersalah, dan apakah kamu bisa melakukan sesuatu untuk memperbaikinya, seperti minta maaf atau lakuin kebaikan kecil. Kalau nggak bisa diubah, coba tulis perasaanmu di kertas, lalu ingatkan diri bahwa kamu manusia yang bisa salah. Ngobrol sama seseorang yang suportif juga bisa bantu ringanin beban. Kamu layak untuk memaafkan diri sendiri.",
         "True"
        ],
        [
         "280",
         "42",
         "bagaimana - bilang - diri - tulis - eksekusi - tak - respons - punya - gustav - coba",
         "Saya merasa sering gagal karena tujuan saya terlalu besar. Bagaimana cara menetapkan tujuan realistis?",
         "Kamu bijak menyadari ini—itu langkah menuju keseimbangan! Alfred Adler bilang kurangnya minat sosial dan tujuan terlalu tinggi bisa bikin kita merasa gagal. Coba pecah tujuan besar jadi langkah kecil, seperti ‘belajar 10 menit sehari’ alih-alih ‘kuasai skill baru’. Tulis satu tujuan kecil untuk minggu ini. Apa satu langkah realistis yang bikin kamu semangat?",
         "True"
        ],
        [
         "426",
         "42",
         "bagaimana - bilang - diri - tulis - eksekusi - tak - respons - punya - gustav - coba",
         "Saya ingin maju, tapi merasa terhambat. Apa yang bisa saya lakukan?",
         "Keinginan untuk maju menunjukkan semangat besar dalam dirimu! Carl Gustav Jung bilang progresi terjadi saat kita menyeimbangkan dunia luar dan batin. Kalau terhambat, tulis satu tujuan kecil untuk minggu ini, seperti belajar skill baru atau merapikan ruang kerja. Refleksikan: apa yang bikin kamu stuck? Langkah kecil bisa bawa perubahan besar. Apa tujuan yang ada di pikiranmu?",
         "True"
        ],
        [
         "440",
         "44",
         "emosi - bilang - tenang - tulis - kadang - diri - kamu - kalau - mau - bicara",
         "Saya punya mimpi aneh yang sangat kuat. Apa artinya?",
         "Mimpi kuat itu seperti surat dari dalam diri—menarik! Carl Gustav Jung bilang ‘mimpi besar’ yang aneh muncul saat tak sadar sedang ‘berbicara’. Tulis detail mimpimu: apa yang kamu lihat, rasakan? Ini bisa ungkap apa yang kamu hadapi, seperti stres atau keinginan besar. Mau ceritain mimpimu untuk kita jelajahi bareng?",
         "True"
        ],
        [
         "443",
         "40",
         "bagaimana - bilang - saran - tulis - diri - kalau - tanya - coba - kamu - kadang",
         "Saya merasa hidup saya kurang lengkap. Bagaimana Maslow menjelaskan ini?",
         "Rasa ‘kurang’ itu tanda kamu mencari lebih, dan itu langkah berani! Abraham Maslow bilang hidup terasa lengkap kalau kebutuhan dari dasar (makan, tidur) sampai puncak (aktualisasi diri) terpenuhi. Coba cek: kebutuhan mana yang kurang? Kalau dasar oke, eksplorasi tujuan pribadi, seperti hobi atau membantu orang lain. Apa yang bikin kamu merasa kurang sekarang?",
         "True"
        ],
        [
         "514",
         "42",
         "bagaimana - bilang - diri - tulis - eksekusi - tak - respons - punya - gustav - coba",
         "Saya ingin maju dalam hidup, tapi merasa terhambat. Apa yang bisa membantu?",
         "Keinginan untuk maju adalah tanda kamu punya semangat besar! Carl Gustav Jung bilang progresi terjadi saat kita menyeimbangkan kebutuhan batin dan dunia luar. Kalau merasa terhambat, coba tulis satu tujuan kecil yang ingin dicapai minggu ini, seperti belajar skill baru atau declutter meja kerja. Juga, refleksikan: apa yang bikin kamu stuck? Langkah kecil bisa bawa perubahan besar. Apa tujuan yang lagi ada di pikiranmu?",
         "True"
        ],
        [
         "528",
         "44",
         "emosi - bilang - tenang - tulis - kadang - diri - kamu - kalau - mau - bicara",
         "Saya punya mimpi yang sangat aneh dan kuat. Apa artinya?",
         "Mimpi yang kuat itu seperti surat dari dalam diri—menarik banget! Carl Gustav Jung bilang ‘mimpi besar’ yang aneh dan mendalam bisa muncul saat pikiran tak sadar sedang ‘berbicara’ keras. Coba tulis semua detail mimpimu: apa yang kamu lihat, rasakan? Ini bisa memberi petunjuk tentang apa yang sedang kamu hadapi. Misalnya, mimpi aneh bisa terkait stres atau keinginan besar. Mau ceritain mimpimu untuk kita jelajahi bareng?",
         "True"
        ],
        [
         "531",
         "40",
         "bagaimana - bilang - saran - tulis - diri - kalau - tanya - coba - kamu - kadang",
         "Saya merasa hidup saya tidak lengkap. Bagaimana Maslow menjelaskan ini?",
         "Rasa itu menunjukkan kamu sedang mencari sesuatu yang lebih, dan itu langkah berani! Abraham Harold Maslow bilang hidup terasa lengkap kalau kebutuhan kita terpenuhi, dari dasar (makan, tidur) sampai puncak (aktualisasi diri, seperti mengejar mimpi). Coba cek: kebutuhan mana yang lagi kurang? Kalau dasar sudah oke, mungkin saatnya eksplorasi tujuan pribadi, seperti hobi atau membantu orang lain. Apa yang bikin kamu merasa ‘kurang’ sekarang?",
         "True"
        ],
        [
         "532",
         "40",
         "bagaimana - bilang - saran - tulis - diri - kalau - tanya - coba - kamu - kadang",
         "Kenapa saya tidak punya motivasi meskipun hidup saya cukup stabil?",
         "Kadang stabilitas bikin kita bertanya, ‘Lalu apa lagi?’—itu wajar! Abraham Harold Maslow bilang kalau kebutuhan dasar (seperti keamanan) sudah terpenuhi, kita mulai mencari kebutuhan lebih tinggi, seperti hubungan atau tujuan hidup. Coba pikir: apa yang bikin kamu excited? Mulai dengan langkah kecil, seperti mencoba aktivitas baru atau ngobrol dengan teman dekat. Apa satu hal yang bisa bikin kamu semangat minggu ini?",
         "True"
        ],
        [
         "535",
         "44",
         "emosi - bilang - tenang - tulis - kadang - diri - kamu - kalau - mau - bicara",
         "Saya sering bermimpi, tapi tidak tahu artinya. Apa yang bisa saya pelajari dari mimpi?",
         "Mimpi itu seperti petunjuk dari batinmu—seru banget untuk dijelajahi! Carl Gustav Jung bilang mimpi adalah cara tak sadar kita bicara, membawa wawasan tentang apa yang sedang kamu alami. Coba tulis mimpimu segera setelah bangun, catat detail seperti tempat atau emosi. Lalu, tanya diri sendiri: apa yang mengingatkanmu pada hidupmu sekarang? Misalnya, mimpi tentang terbang mungkin tentang kebebasan. Mau ceritain mimpi terakhirmu untuk kita pikirkan bareng?",
         "True"
        ],
        [
         "930",
         "19",
         "mindset - sifat - pengaruh - sendiri - percaya - kadang - laku - nilai - wajar - didik",
         "Saya merasa bersalah karena sering marah ke anak. Bagaimana cara jadi orang tua yang lebih baik?",
         "Hai, rasa bersalah itu tanda kamu peduli banget sama anakmu, lho! Nggak ada orang tua sempurna, kok. Coba mulai dari hal kecil: kalau marah, tarik napas dalam, lalu bilang, ‘Maaf ya, Mama tadi kesal.’ Tunjukkan kasih sayang lewat waktu bareng, seperti main atau ngobrol santai. Tulis tiga hal yang kamu suka dari anakmu setiap hari biar fokus ke positif. Apa yang lagi bikin kamu merasa bersalah? Yuk, kita cari cara buat bikin hubungan kalian lebih hangat!",
         "True"
        ],
        [
         "999",
         "2",
         "trik - fokus - tambahin - misal - bikin - coba - waktu - bantu - gara - pakai",
         "Aku sering ngerasa salah paham sama rekan kerja pas konflik, kayak beda bahasa. Gimana caranya biar kami ngerti satu sama lain?",
         "Salah paham pas konflik itu kayak nyanyi lagu beda lirik, bikin pusing! Psikologi komunikasi bilang kita bisa nyanyi bareng kalau negosiasi makna. Coba dengarkan dulu, ulangin kata mereka, ‘Jadi, maksudmu gini, ya?’ Sampaikan pandanganmu jelas, ‘Aku mikir gini karena ini.’ Pakai pertanyaan terbuka, ‘Kamu ngerasa gitu kenapa?’ biar ngerti perspektifnya. Kalau panas, kasih jeda, ‘Kita ngobrol lagi nanti, ya?’ Ceritain momen salah paham, aku bantu kasih kata-kata yang bikin nyambung!",
         "True"
        ],
        [
         "1041",
         "2",
         "trik - fokus - tambahin - misal - bikin - coba - waktu - bantu - gara - pakai",
         "Aku sering salah paham sama temen pas ngobrol, kayak beda makna kata-katanya. Gimana caranya biar kami ngerti satu sama lain?",
         "Salah paham itu kayak nyanyi duet tapi beda nada, bikin nggak nyambung! Makna kata tergantung pengalaman dan budaya, jadi wajar kalau beda persepsi. Biar ngerti, coba ulangin apa yang temenmu bilang, kayak, ‘Jadi, maksudmu gini, ya?’ Sampaikan pandanganmu jelas, ‘Aku ngerti kata ini begini, kamu apa?’ Tanya soal latar belakang, ‘Di tempatmu, kata ini artinya apa?’ Jaga nada ramah biar obrolan santai. Ceritain momen salah paham, aku bantu kasih trik biar kalian nyanyi harmoni!",
         "True"
        ],
        [
         "1056",
         "2",
         "trik - fokus - tambahin - misal - bikin - coba - waktu - bantu - gara - pakai",
         "Aku ngerasa susah nyanyi ekspresi diri lewat kata-kata di grup baru, kayak takut salah. Gimana caranya biar aku lebih pede ngomong?",
         "Susah ekspresi diri di grup baru itu kayak nyanyi di panggung asing, grogi wajar! Bahasa itu alat sosial, jadi kuncinya koneksi. Coba mulai dengan kata-kata sederhana, kayak, ‘Aku suka topik ini, boleh share?’ Dengarkan dulu cara grup ngomong, ikutin polanya pelan. Kasih senyum atau emoji biar ramah. Kalau takut salah, bilang, ‘Aku baru belajar, boleh kasih masukan?’ Latihan ceritain pendapatmu ke temen dekat dulu. Ceritain grup barumu, aku bantu kasih cara biar kata-katamu nyanyi pede!",
         "True"
        ],
        [
         "1351",
         "19",
         "mindset - sifat - pengaruh - sendiri - percaya - kadang - laku - nilai - wajar - didik",
         "Aku sering bandingin anakku sama anak orang lain, itu salah nggak sih?",
         "Wajar sih, tapi membandingkan anak bisa bikin kamu lupa lihat keunikan mereka. Setiap anak beda, dan mereka nggak perlu sama kayak anak lain. Coba fokus ke apa yang bikin anakmu spesial, dukung mereka dari hati. Itu jauh lebih bikin mereka bahagia daripada dibandingin.",
         "True"
        ],
        [
         "1420",
         "45",
         "meski - ngerasa - biar - gimana - sempat - buat - tanggap - kalau - harap - kadang",
         "Aku ngerasa hidup ini nggak adil, kenapa aku nggak bisa kayak orang lain? Aku salah nggak?",
         "Perasaan itu wajar, tapi hidup memang nggak selalu adil. Bukan salahmu, setiap orang punya tantangan sendiri. Coba fokus ke apa yang bisa kamu kontrol, kayak usaha atau sikapmu. Tulis hal-hal yang kamu syukuri biar pikiran lebih ringan. Apa yang bikin kamu merasa hidup nggak adil?",
         "True"
        ],
        [
         "1437",
         "23",
         "motivasi - ego - didik - fokus - ambisi - ragu - usaha - ngorbankan - ambisius - sendiri",
         "Aku kerja sampai capek banget, tapi nggak merasa sukses, apa aku kurang bersyukur?",
         "Capek banget kerja tapi nggak merasa sukses pasti bikin lelah hati, ya. Bukan berarti kamu kurang bersyukur, mungkin kamu lagi butuh jeda buat lihat apa yang udah kamu capai. Coba kita lihat, apa sih definisi sukses buatmu? Dari situ, mungkin kita bisa cari langkah kecil biar kamu merasa lebih berarti. Apa yang bikin kamu merasa nggak sukses?",
         "True"
        ],
        [
         "1440",
         "4",
         "frustrasi - skill - feedback - stres - laku - semangat - usaha - fokus - ngeluh - kolega",
         "Aku merasa kerja cuma buat orang lain, nggak buat diriku sendiri, apa aku harus terima aja?",
         "Pasti berat rasanya kalau kerja terasa cuma buat orang lain. Kamu nggak harus terima begitu aja, kok. Coba kita pikirin, apa yang bisa bikin kerjaanmu terasa lebih bermakna buat dirimu sendiri? Misalnya, ada nggak aspek kecil di kerjaan yang bikin kamu bangga? Atau, mungkin kita bisa cari cara biar kamu punya waktu buat hal yang bikin kamu bahagia di luar kerja.",
         "True"
        ],
        [
         "1508",
         "4",
         "frustrasi - skill - feedback - stres - laku - semangat - usaha - fokus - ngeluh - kolega",
         "Aku sering ngerasa nggak berguna di tempat kerja, apa yang harus aku lakuin?",
         "Perasaan kayak gitu pasti nggak enak. Coba lihat, apa ada hal kecil di kerjaan yang bisa kamu lakuin dengan senang? Kadang, mulai dari yang sederhana, seperti bantu rekan kerja atau selesain tugas kecil, bisa bikin kamu ngerasa lebih berarti. Kalau masih ngerasa gitu, mungkin bisa ngobrol sama atasan atau temen kerja buat cari tahu apa yang bisa kamu kontribusikan.",
         "True"
        ],
        [
         "1518",
         "34",
         "emosi - diri - suportif - ngeluarin - seni - semangat - buat - kamu - pikir - ngelupain",
         "Aku suka nyanyi, tapi takut orang lain bilang jelek. Harus tetep nyanyi nggak?",
         "Nyanyi itu buat bikin kamu senang, bukan buat orang lain. Kalau kamu suka, lanjutkan aja, nggak perlu takut pendapat orang. Coba nyanyi di tempat yang aman dulu, kayak kamar sendiri, atau sama temen yang suportif. Kalau ada yang nyinyir, anggap aja itu bukan urusan mereka. Apa lagu favoritmu?",
         "True"
        ],
        [
         "1596",
         "41",
         "ngerasa - kenang - ngelupain - buat - ganggu - diri - bikin - kamu - ngejudge - kalau",
         "Aku pengen ngelupain trauma masa kecilku. Apa itu mungkin, Emilia?",
         "Trauma masa kecil memang berat, dan secara biologis, itu bisa memengaruhi cara otak memproses emosi. ‘Melupakannya’ mungkin sulit, tapi kamu bisa belajar mengelolanya dengan bantuan profesional, seperti terapi. Aku nggak bisa bantu langsung, tapi aku di sini buat dengerin kalau kamu mau cerita. Apa yang lagi kamu pikirin soal trauma ini?",
         "True"
        ],
        [
         "1606",
         "0",
         "kadang - fokus - pikir - meski - hubung - bingung - ngerasa - laku - misal - semangat",
         "Aku merasa hidupku nggak ada artinya. Apa yang salah sama aku?",
         "Perasaan kayak gitu pasti berat banget, dan aku dengerin kamu, ya. Dalam psikologi, perasaan hidup nggak ada artinya bisa muncul kalau kita merasa terputus dari tujuan atau makna pribadi. Bukan berarti ada yang salah sama kamu, tapi mungkin ini sinyal buat kita cari apa yang bisa bikin hidupmu terasa lebih bermakna. Apa ada hal kecil yang dulu bikin kamu senang? Ceritain, mungkin kita bisa mulai dari situ.",
         "True"
        ],
        [
         "1634",
         "1",
         "panik - khawatir - situasi - reaksi - hubung - fokus - bahaya - laku - latih - takut",
         "Aku takut ketemu orang baru karena merasa dihakimi. Gimana caranya biar nggak takut?",
         "Rasa takut dihakimi itu wajar, tapi aku tahu itu bikin nggak nyaman. Kadang, ini muncul karena kita terlalu khawatir soal pendapat orang lain. Coba mulai dengan situasi yang lebih santai, seperti ngobrol sama satu orang di tempat yang kamu suka. Latihan kecil kayak menyapa orang baru juga bisa bantu. Kalau takutnya terasa sangat kuat, mungkin kita bisa pikirin langkah lain, seperti ngobrol sama konselor. Mau coba dari mana dulu?",
         "True"
        ],
        [
         "1676",
         "45",
         "meski - ngerasa - biar - gimana - sempat - buat - tanggap - kalau - harap - kadang",
         "Aku merasa dunia ini nggak adil, kenapa aku yang selalu susah?",
         "Aku tahu rasanya nggak adil itu bikin sakit hati. Kadang hidup memang berat, tapi kamu nggak sendiri menghadapi ini. Coba fokus pada hal-hal yang bisa kamu ubah, seperti mencari dukungan atau melakukan sesuatu yang bikin kamu merasa lebih kuat. Apa satu hal yang pernah bikin kamu merasa ada harapan, meski kecil?",
         "True"
        ],
        [
         "1695",
         "39",
         "biar - ngerasa - khawatir - buat - diri - lewatin - coba - nemenin - bikin - susah",
         "Aku pengen bunuh diri aja, hidup kok susah banget. Bantu aku dong.",
         "Aku sedih banget denger kamu ngerasa gitu, dan aku di sini buat kamu. Pikiran kayak gitu serius, dan kamu nggak boleh hadapin ini sendirian. Coba hubungi profesional atau orang terdekat yang kamu percaya sekarang juga. Kalau mau ceritain apa yang bikin kamu ngerasa begini, aku siap denger, tapi tolong cari bantuan secepatnya, ya.",
         "True"
        ],
        [
         "1701",
         "6",
         "pikirin - pikir - kadang - laku - ngerasa - buat - emosi - diri - ngerti - bikin",
         "Aku merasa sedih banget akhir-akhir ini, kayak nggak ada artinya hidup. Ini normal nggak sih?",
         "Sedih itu wajar kok, apalagi kalau ada hal berat yang lagi kamu hadapi. Tapi kalau perasaan ini terus-terusan dan bikin kamu susah menjalani hari, mungkin kita bisa coba cari tahu lebih dalam apa yang bikin kamu begini. Mau ceritain apa yang lagi bikin sedih?",
         "True"
        ],
        [
         "1707",
         "33",
         "mental - ngerasa - takut - susah - kamu - bantu - bicara - khawatir - psikolog - bilang",
         "Aku pengen tahu, apa sih bedanya gangguan mental sama penyakit mental?",
         "Gangguan mental biasanya soal pola pikir atau perilaku yang bikin hidupmu terganggu, kayak cemas berlebihan. Kalau penyakit mental, biasanya ada disfungsi dalam otak, kayak skizofrenia. Tapi dua-duanya bisa dipengaruhi lingkungan dan pengalaman hidup. Kamu lagi khawatir tentang apa terkait ini?",
         "True"
        ],
        [
         "1716",
         "28",
         "emosi - perilaku - behavioral - buat - cognitive - bilang - pikir - kamu - kognitif - latih",
         "Aku pengen coba terapi, tapi takut nggak cocok. Gimana caranya milih terapi?",
         "Pilih terapi memang perlu coba-coba, karena tiap orang cocok sama pendekatan beda. Mungkin kamu bisa mulai cari tahu soal terapi kognitif atau terapi berbasis mindfulness, terus cari terapis yang bikin kamu nyaman. Mau aku jelasin beda-beda terapinya biar kamu punya gambaran?",
         "True"
        ],
        [
         "1725",
         "21",
         "mental - suportif - anggap - sendiri - jiwa - percaya - stigma - bilang - khawatir - ngerasa",
         "Aku takut kalo ke dokter mental, nanti dikira gila. Apa bener gitu?",
         "Aku ngerti ketakutanmu, stigma itu nyata. Tapi ke dokter mental itu kayak ke dokter mata pas matanya sakit—cuma bagian tubuh yang beda. Dokter ada buat bantu, nggak buat nilai. Mungkin coba cari dokter yang bikin kamu nyaman, atau mulai dari konselor dulu. Pernah kepikiran buat coba konseling online anonim?",
         "True"
        ],
        [
         "1772",
         "24",
         "lelah - istirahat - aktivitas - laku - menit - wajar - terus - usaha - hari - penting",
         "Aku nggak tahu kenapa, tapi aku merasa capek banget sama hidup.",
         "Aku dengar kamu lagi merasa berat. Rasa capek itu bisa datang dari tekanan yang menumpuk, seperti beban kerja atau masalah yang nggak selesai. Ini nggak salah, kok, tapi penting buat tahu apa yang bikin capek. Mau ceritain apa yang lagi bikin kamu lelah?",
         "True"
        ],
        [
         "1784",
         "41",
         "ngerasa - kenang - ngelupain - buat - ganggu - diri - bikin - kamu - ngejudge - kalau",
         "Aku pernah ngalamin kejadian buruk banget, sampai sekarang masih kepikiran. Itu trauma ya?",
         "Kedengerannya iya, itu bisa disebut trauma, terutama kalau kejadian itu sangat berat dan masih memengaruhi kamu. Trauma bisa dari kejadian besar atau situasi berulang yang bikin takut. Kalau nyaman, boleh ceritain sedikit? Atau kita bisa cari cara buat bikin kamu merasa lebih tenang.",
         "True"
        ],
        [
         "1789",
         "7",
         "mental - laku - situasi - kadang - bilang - stres - tenang - misal - ganti - aktivitas",
         "Aku suka minum alkohol kalau stres. Itu membantu gak sih?",
         "Aku ngerti kamu nyari cara buat ngatasin stres, tapi minum alkohol biasanya cuma bikin lega sementara dan bisa bikin masalah baru. Mungkin kita bisa coba cari cara lain yang lebih sehat, seperti ngobrol atau jalan-jalan. Apa yang biasanya bikin kamu rileks selain itu?",
         "True"
        ],
        [
         "1882",
         "14",
         "teman - emosi - ngobrol - kadang - situasi - ngerasa - pikirin - cerita - orang - kewalahan",
         "Kenapa ya aku merasa lebih gampang stres dibandingkan temen-temenku yang hidupnya lebih stabil?",
         "Wajar kok kamu merasa begitu. Tekanan hidup, seperti masalah keuangan atau lingkungan yang sulit, bisa bikin stres terasa lebih berat. Ini bukan berarti kamu lemah, tapi lingkungan memang punya pengaruh besar. Mungkin kita bisa coba cari cara kecil untuk kurangi stres, seperti latihan napas atau ngobrol sama orang yang kamu percaya. Ada nggak sih hal kecil yang biasanya bikin kamu rileks?",
         "True"
        ],
        [
         "1892",
         "21",
         "mental - suportif - anggap - sendiri - jiwa - percaya - stigma - bilang - khawatir - ngerasa",
         "Aku takut kalau aku ke dokter jiwa, orang bakal bilang aku gila. Apa aku harus cuek aja?",
         "Rasa takut itu wajar, apalagi stigma soal kesehatan mental masih besar. Tapi, mencari bantuan adalah tanda kamu kuat dan peduli sama diri sendiri, bukan sebaliknya. Kalau kamu khawatir soal omongan orang, mungkin bisa mulai dengan ngobrol sama orang yang kamu percaya. Apa yang bikin kamu ragu buat cari bantuan?",
         "True"
        ],
        [
         "1898",
         "27",
         "usaha - rencana - langkah - laku - hasil - bikin - arti - diri - pikir - pantas",
         "Aku ngerasa nggak ada gunanya berusaha karena aku selalu gagal. Apa aku harus berhenti aja?",
         "Aku paham rasanya capek karena terus gagal, tapi gagal adalah bagian dari proses, bukan akhir. Mungkin kita bisa lihat apa yang bikin gagal dan coba pendekatan lain. Aku di sini buat bantu pikirin langkah kecil. Apa satu hal yang pengen kamu coba lagi dengan cara berbeda?",
         "True"
        ],
        [
         "1944",
         "10",
         "emosi - stres - tenang - kadang - reaksi - ganggu - ngeluarin - ngerasa - nyakitin - coba",
         "Aku suka marah-marah ke orang lain, apa itu wajar?",
         "Marah itu emosi yang alami, tapi kalau sering marah-marah ke orang lain, mungkin ada sesuatu yang bikin kamu tertekan atau nggak terkontrol. Coba tarik napas dalam-dalam pas lagi marah, atau catat apa yang bikin kamu kesal. Kalau ini sering terjadi, mungkin perlu cari tahu akar masalahnya, mungkin dengan bantuan profesional.",
         "True"
        ],
        [
         "1987",
         "3",
         "ekspektasi - sifat - laku - hasil - usaha - ego - coba - nilai - diri - bikin",
         "Emilia, aku merasa nggak cukup baik dibandingkan orang lain. Gimana caranya aku bisa percaya diri?",
         "Perasaan nggak cukup baik itu berat, tapi kamu nggak sendirian kok merasakan itu. Coba mulai dengan catat hal-hal kecil yang kamu lakukan dengan baik setiap hari, sekecil apa pun. Itu bisa bantu kamu lihat nilai dirimu sendiri. Juga, hindari membandingkan diri dengan orang lain—setiap orang punya perjalanan sendiri. Apa satu hal yang kamu suka dari dirimu, meski kecil?",
         "True"
        ],
        [
         "1993",
         "51",
         "gelisah - ngerasa - buat - coba - sebentar - ngarahkan - bantu - kadang - bangun - stres",
         "Emilia, aku merasa nggak punya energi buat ngapa-ngapain. Ini kenapa ya?",
         "Kurang energi bisa datang dari banyak hal, seperti stres, kurang tidur, atau mungkin tanda kamu butuh istirahat mental. Coba deh, mulai dengan hal kecil, seperti minum air putih atau jalan kaki sebentar. Kalau ini berlangsung lama, mungkin baik buat cek sama dokter atau konselor. Apa yang biasanya bikin kamu semangat, meski sedikit?",
         "True"
        ],
        [
         "2069",
         "35",
         "kalian - gimana - ngerasa - ngatur - diri - tenang - kamu - buat - kadang - temperamen",
         "Emilia, aku takut kalau orang tuaku nanti bercerai. Apa yang bisa aku lakukan biar nggak khawatir terus?",
         "Kekhawatiran itu wajar, tapi coba ingat bahwa keputusan orang tua bukan sesuatu yang bisa kamu kendalikan. Fokus pada hal-hal yang bikin kamu merasa aman, seperti rutinitas harian atau ngobrol sama temen. Kalau kamu nyaman, mungkin bisa bilang ke orang tua bahwa kamu takut, tapi dengan cara yang tenang. Aku di sini kalau kamu mau cerita.",
         "True"
        ],
        [
         "2075",
         "35",
         "kalian - gimana - ngerasa - ngatur - diri - tenang - kamu - buat - kadang - temperamen",
         "Emilia, aku ngerasa orang tuaku nggak peduli sama perasaanku. Apa yang harus aku lakukan?",
         "Itu pasti bikin sedih. Coba ajak ngobrol orang tuamu dengan cara yang tenang, misalnya bilang apa yang kamu rasakan tanpa menyalahkan. Kalau susah, mungkin cerita ke orang dewasa lain yang kamu percaya, seperti guru. Kamu berhak merasa didengar, dan aku di sini buat dukung kamu.",
         "True"
        ],
        [
         "2101",
         "6",
         "pikirin - pikir - kadang - laku - ngerasa - buat - emosi - diri - ngerti - bikin",
         "Aku merasa sedih terus akhir-akhir ini, apa itu tanda depresi?",
         "Sedih berkepanjangan bisa jadi salah satu tanda depresi, tapi nggak selalu. Kadang, perasaan itu muncul karena situasi tertentu, seperti stres atau kehilangan. Kalau kamu merasa sedih ini mengganggu aktivitas sehari-hari, seperti susah tidur atau nggak bisa fokus, mungkin baik untuk bicara dengan seseorang yang kamu percaya atau profesional. Aku di sini untuk dengar kalau kamu mau cerita lebih banyak.",
         "True"
        ],
        [
         "2123",
         "10",
         "emosi - stres - tenang - kadang - reaksi - ganggu - ngeluarin - ngerasa - nyakitin - coba",
         "Aku suka marah-marah akhir-akhir ini, padahal biasanya nggak gitu. Apa ini tanda aku bermasalah?",
         "Marah adalah emosi yang wajar, tapi kalau kamu merasa lebih sering marah dari biasanya, mungkin ada sesuatu yang lagi mengganggu di dalam dirimu atau di sekitarmu. Apa kamu mau ceritain apa yang biasanya bikin kamu kesal? Kita bisa coba cari tahu pemicunya bareng.",
         "True"
        ],
        [
         "2128",
         "12",
         "hubung - misal - aktivitas - meski - kadang - laku - ngobrol - bikin - ngerasa - ngerti",
         "Aku sering ngerasa kesepian, padahal aku punya temen. Ini kenapa ya?",
         "Kesepian nggak selalu soal nggak punya temen, kadang itu soal merasa nggak terhubung secara emosional. Mungkin kamu bisa coba ngobrol lebih dalam sama salah satu temen yang kamu percaya, ceritain apa yang lagi kamu rasain. Atau, apa kamu mau coba aktivitas yang bikin kamu merasa lebih terhubung, seperti ikut komunitas yang kamu suka?",
         "True"
        ],
        [
         "2176",
         "35",
         "kalian - gimana - ngerasa - ngatur - diri - tenang - kamu - buat - kadang - temperamen",
         "Aku takut tua, soalnya kayaknya hidup bakal lebih susah. Apa bener gitu?",
         "Takut tua itu wajar, apalagi kalau kita dengar cerita soal kesehatan atau keuangan. Tapi, banyak orang tua yang justru merasa lebih bijak dan tenang karena pengalaman. Mungkin kita bisa fokus pada apa yang bisa kamu lakukan sekarang buat bikin masa depan lebih baik. Apa yang paling bikin kamu takut soal tua?",
         "True"
        ],
        [
         "2181",
         "53",
         "ekspektasi - hidup - ngerasa - gimana - pikir - kamu - buat - tindak - progressnya - ubah",
         "Aku merasa nggak bisa ngontrol hidupku, kayak semuanya berjalan di luar kendaliku. Apa yang bisa aku lakukan?",
         "Aku paham rasanya kayak kehilangan kendali, itu berat banget. Coba kita mulai dari hal kecil, seperti bikin rutinitas harian sederhana yang bisa kamu kontrol, misalnya atur waktu tidur atau makan. Kadang, punya sesuatu yang pasti dalam sehari bisa bantu. Apa ada satu hal kecil yang kamu pikir bisa kamu atur sekarang?",
         "True"
        ],
        [
         "2218",
         "1",
         "panik - khawatir - situasi - reaksi - hubung - fokus - bahaya - laku - latih - takut",
         "Aku takut ngobrol sama orang soal ketakutanku, takut dianggap lemah.",
         "Aku ngerti, takut dihakimi itu bikin susah buka hati. Tapi, ngobrol soal ketakutan justru tanda kamu kuat, lho, karena kamu berani jujur. Coba mulai sama orang yang kamu percaya, atau kalau belum siap, tulis dulu di jurnal. Aku di sini kalau kamu mau cerita, kok. Mau coba?",
         "True"
        ],
        [
         "2241",
         "15",
         "saran - mental - sosial - muda - soal - konselor - bantu - kadang - bikin - sulit",
         "Emilia, aku merasa kesulitan mencari bantuan untuk masalah mentalku. Kenapa ya sistem layanan kesehatan mental itu rumit?",
         "Aku paham banget rasanya bingung dengan sistem yang kompleks. Layanan kesehatan mental memang sering kali sulit diakses karena ada banyak faktor, seperti kurangnya koordinasi antar layanan, perbedaan kebijakan di setiap daerah, dan terkadang pendanaan yang terbatas. Tapi, kita bisa mulai dari langkah kecil, misalnya mencari tahu layanan komunitas terdekat atau konsultasi dengan dokter umum. Mau aku bantu cari tahu opsi yang ada di sekitarmu?",
         "True"
        ],
        [
         "2274",
         "39",
         "biar - ngerasa - khawatir - buat - diri - lewatin - coba - nemenin - bikin - susah",
         "Aku pengen bunuh diri, tapi nggak tahu kenapa aku ngerasa gitu. Tolong aku.",
         "Aku sedih banget denger kamu ngerasa gitu, tapi aku seneng kamu cerita. Pikiran kayak gitu bisa muncul saat kita lagi tertekan banget, dan nggak apa-apa kalau kamu nggak tahu kenapa. Aku saranin kamu segera hubungi profesional, seperti psikolog atau hotline krisis. Kamu nggak sendirian, aku di sini buat dengerin.",
         "True"
        ],
        [
         "2288",
         "16",
         "saran - mental - positif - diskusi - mood - efektif - bikin - minta - penting - sesuai",
         "Aku takut kalau ke dokter nanti malah dikasih obat yang bikin ketergantungan. Benar nggak sih itu?",
         "Wajar banget takut soal obat, apalagi kalau denger cerita-cerita gitu. Nggak semua perawatan mental pakai obat, kok. Banyak dokter yang mulai dari terapi bicara, dan kalau memang perlu obat, mereka biasanya jelasin risikonya. Kalau kamu khawatir, nanti bisa tanya dokter soal efek sampingnya. Apa yang bikin kamu takut sama perawatan? Aku dengerin, lho.",
         "True"
        ],
        [
         "2339",
         "20",
         "mental - edukasi - sulit - susah - pikirin - sendiri - stres - kadang - laku - fokus",
         "Aku merasa keluargaku nggak dukung aku buat cari bantuan. Apa yang harus aku lakuin?",
         "Itu pasti berat banget buatmu. Kalau keluarga nggak dukung, kamu bisa coba cari dukungan dari komunitas, temen, atau profesional yang ngerti situasimu. Kadang, keluarga butuh waktu buat ngerti, tapi kesehatanmu nomor satu. Apa kamu mau ceritain lebih lanjut soal situasi sama keluargamu? Aku di sini buat bantu pikirin langkah selanjutnya.",
         "True"
        ]
       ],
       "shape": {
        "columns": 5,
        "rows": 165
       }
      },
      "text/html": [
       "<div>\n",
       "<style scoped>\n",
       "    .dataframe tbody tr th:only-of-type {\n",
       "        vertical-align: middle;\n",
       "    }\n",
       "\n",
       "    .dataframe tbody tr th {\n",
       "        vertical-align: top;\n",
       "    }\n",
       "\n",
       "    .dataframe thead th {\n",
       "        text-align: right;\n",
       "    }\n",
       "</style>\n",
       "<table border=\"1\" class=\"dataframe\">\n",
       "  <thead>\n",
       "    <tr style=\"text-align: right;\">\n",
       "      <th></th>\n",
       "      <th>Topic</th>\n",
       "      <th>Top_n_words</th>\n",
       "      <th>question</th>\n",
       "      <th>answer</th>\n",
       "      <th>Representative_document</th>\n",
       "    </tr>\n",
       "  </thead>\n",
       "  <tbody>\n",
       "    <tr>\n",
       "      <th>167</th>\n",
       "      <td>50</td>\n",
       "      <td>suportif - minta - gimana - ngerasa - buat - t...</td>\n",
       "      <td>Aku merasa bersalah banget atas sesuatu yang u...</td>\n",
       "      <td>Rasa bersalah bisa terasa berat, kayak beban y...</td>\n",
       "      <td>True</td>\n",
       "    </tr>\n",
       "    <tr>\n",
       "      <th>280</th>\n",
       "      <td>42</td>\n",
       "      <td>bagaimana - bilang - diri - tulis - eksekusi -...</td>\n",
       "      <td>Saya merasa sering gagal karena tujuan saya te...</td>\n",
       "      <td>Kamu bijak menyadari ini—itu langkah menuju ke...</td>\n",
       "      <td>True</td>\n",
       "    </tr>\n",
       "    <tr>\n",
       "      <th>426</th>\n",
       "      <td>42</td>\n",
       "      <td>bagaimana - bilang - diri - tulis - eksekusi -...</td>\n",
       "      <td>Saya ingin maju, tapi merasa terhambat. Apa ya...</td>\n",
       "      <td>Keinginan untuk maju menunjukkan semangat besa...</td>\n",
       "      <td>True</td>\n",
       "    </tr>\n",
       "    <tr>\n",
       "      <th>440</th>\n",
       "      <td>44</td>\n",
       "      <td>emosi - bilang - tenang - tulis - kadang - dir...</td>\n",
       "      <td>Saya punya mimpi aneh yang sangat kuat. Apa ar...</td>\n",
       "      <td>Mimpi kuat itu seperti surat dari dalam diri—m...</td>\n",
       "      <td>True</td>\n",
       "    </tr>\n",
       "    <tr>\n",
       "      <th>443</th>\n",
       "      <td>40</td>\n",
       "      <td>bagaimana - bilang - saran - tulis - diri - ka...</td>\n",
       "      <td>Saya merasa hidup saya kurang lengkap. Bagaima...</td>\n",
       "      <td>Rasa ‘kurang’ itu tanda kamu mencari lebih, da...</td>\n",
       "      <td>True</td>\n",
       "    </tr>\n",
       "    <tr>\n",
       "      <th>...</th>\n",
       "      <td>...</td>\n",
       "      <td>...</td>\n",
       "      <td>...</td>\n",
       "      <td>...</td>\n",
       "      <td>...</td>\n",
       "    </tr>\n",
       "    <tr>\n",
       "      <th>7291</th>\n",
       "      <td>26</td>\n",
       "      <td>laku - bikin - misal - ngomongin - diri - kena...</td>\n",
       "      <td>Aku nggak bisa berhenti mikirin kesalahan masa...</td>\n",
       "      <td>Masa lalu bisa jadi beban berat. Coba tulis ap...</td>\n",
       "      <td>True</td>\n",
       "    </tr>\n",
       "    <tr>\n",
       "      <th>7324</th>\n",
       "      <td>26</td>\n",
       "      <td>laku - bikin - misal - ngomongin - diri - kena...</td>\n",
       "      <td>Aku merasa nggak bisa lepas dari kesalahan mas...</td>\n",
       "      <td>Kesalahan masa lalu itu kayak bayangan, keliha...</td>\n",
       "      <td>True</td>\n",
       "    </tr>\n",
       "    <tr>\n",
       "      <th>7346</th>\n",
       "      <td>45</td>\n",
       "      <td>meski - ngerasa - biar - gimana - sempat - bua...</td>\n",
       "      <td>Aku ngerasa dunia nggak adil. Kenapa aku yang ...</td>\n",
       "      <td>Perasaan itu bisa bikin kita stuck. Dunia kada...</td>\n",
       "      <td>True</td>\n",
       "    </tr>\n",
       "    <tr>\n",
       "      <th>7377</th>\n",
       "      <td>43</td>\n",
       "      <td>gimana - tanyain - biar - buat - ngontrol - bi...</td>\n",
       "      <td>Aku nggak suka kalau orang bilang aku salah, k...</td>\n",
       "      <td>Nggak suka dikritik sering datang dari ego yan...</td>\n",
       "      <td>True</td>\n",
       "    </tr>\n",
       "    <tr>\n",
       "      <th>7446</th>\n",
       "      <td>43</td>\n",
       "      <td>gimana - tanyain - biar - buat - ngontrol - bi...</td>\n",
       "      <td>Aku nggak suka dikritik, bikin aku kesal.</td>\n",
       "      <td>Kritik memang kadang bikin nggak nyaman, tapi ...</td>\n",
       "      <td>True</td>\n",
       "    </tr>\n",
       "  </tbody>\n",
       "</table>\n",
       "<p>165 rows × 5 columns</p>\n",
       "</div>"
      ],
      "text/plain": [
       "      Topic                                        Top_n_words  \\\n",
       "167      50  suportif - minta - gimana - ngerasa - buat - t...   \n",
       "280      42  bagaimana - bilang - diri - tulis - eksekusi -...   \n",
       "426      42  bagaimana - bilang - diri - tulis - eksekusi -...   \n",
       "440      44  emosi - bilang - tenang - tulis - kadang - dir...   \n",
       "443      40  bagaimana - bilang - saran - tulis - diri - ka...   \n",
       "...     ...                                                ...   \n",
       "7291     26  laku - bikin - misal - ngomongin - diri - kena...   \n",
       "7324     26  laku - bikin - misal - ngomongin - diri - kena...   \n",
       "7346     45  meski - ngerasa - biar - gimana - sempat - bua...   \n",
       "7377     43  gimana - tanyain - biar - buat - ngontrol - bi...   \n",
       "7446     43  gimana - tanyain - biar - buat - ngontrol - bi...   \n",
       "\n",
       "                                               question  \\\n",
       "167   Aku merasa bersalah banget atas sesuatu yang u...   \n",
       "280   Saya merasa sering gagal karena tujuan saya te...   \n",
       "426   Saya ingin maju, tapi merasa terhambat. Apa ya...   \n",
       "440   Saya punya mimpi aneh yang sangat kuat. Apa ar...   \n",
       "443   Saya merasa hidup saya kurang lengkap. Bagaima...   \n",
       "...                                                 ...   \n",
       "7291  Aku nggak bisa berhenti mikirin kesalahan masa...   \n",
       "7324  Aku merasa nggak bisa lepas dari kesalahan mas...   \n",
       "7346  Aku ngerasa dunia nggak adil. Kenapa aku yang ...   \n",
       "7377  Aku nggak suka kalau orang bilang aku salah, k...   \n",
       "7446          Aku nggak suka dikritik, bikin aku kesal.   \n",
       "\n",
       "                                                 answer  \\\n",
       "167   Rasa bersalah bisa terasa berat, kayak beban y...   \n",
       "280   Kamu bijak menyadari ini—itu langkah menuju ke...   \n",
       "426   Keinginan untuk maju menunjukkan semangat besa...   \n",
       "440   Mimpi kuat itu seperti surat dari dalam diri—m...   \n",
       "443   Rasa ‘kurang’ itu tanda kamu mencari lebih, da...   \n",
       "...                                                 ...   \n",
       "7291  Masa lalu bisa jadi beban berat. Coba tulis ap...   \n",
       "7324  Kesalahan masa lalu itu kayak bayangan, keliha...   \n",
       "7346  Perasaan itu bisa bikin kita stuck. Dunia kada...   \n",
       "7377  Nggak suka dikritik sering datang dari ego yan...   \n",
       "7446  Kritik memang kadang bikin nggak nyaman, tapi ...   \n",
       "\n",
       "      Representative_document  \n",
       "167                      True  \n",
       "280                      True  \n",
       "426                      True  \n",
       "440                      True  \n",
       "443                      True  \n",
       "...                       ...  \n",
       "7291                     True  \n",
       "7324                     True  \n",
       "7346                     True  \n",
       "7377                     True  \n",
       "7446                     True  \n",
       "\n",
       "[165 rows x 5 columns]"
      ]
     },
     "execution_count": 11,
     "metadata": {},
     "output_type": "execute_result"
    }
   ],
   "source": [
    "import pandas as pd\n",
    "\n",
    "df = pd.read_csv(\n",
    "    r\"C:\\Users\\Liza\\Documents\\emilia\\topic model\\new_KPL12_25_7500.csv\",\n",
    "    encoding='utf-8-sig',\n",
    "    sep=';'\n",
    ")\n",
    "\n",
    "\n",
    "\n",
    "df_filtered = df[\n",
    "    (df['Topic'] != -1) & (df['Representative_document'] == True)\n",
    "][['Topic', 'Top_n_words', 'question', 'answer', 'Representative_document']]\n",
    "\n",
    "df_filtered\n"
   ]
  }
 ],
 "metadata": {
  "kernelspec": {
   "display_name": "KPLiza",
   "language": "python",
   "name": "python3"
  },
  "language_info": {
   "codemirror_mode": {
    "name": "ipython",
    "version": 3
   },
   "file_extension": ".py",
   "mimetype": "text/x-python",
   "name": "python",
   "nbconvert_exporter": "python",
   "pygments_lexer": "ipython3",
   "version": "3.12.9"
  }
 },
 "nbformat": 4,
 "nbformat_minor": 5
}
